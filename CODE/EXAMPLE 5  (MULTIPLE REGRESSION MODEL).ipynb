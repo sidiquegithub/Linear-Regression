{
 "cells": [
  {
   "cell_type": "markdown",
   "id": "6f7ea9d3",
   "metadata": {},
   "source": [
    "# MULTIPLE REGRESSION"
   ]
  },
  {
   "cell_type": "markdown",
   "id": "e3b8af34",
   "metadata": {},
   "source": [
    "$The \\ general \\ additive \\ multiple \\ regression \\ model \\ equation \\ is $\n",
    "\n",
    "$$ y = \\beta_0 +\\beta_1 x_1 + \\beta_2 x_2 + \\beta_3 x_3 + \\epsilon$$\n",
    "\n",
    "$where \\ E(\\epsilon)= 0 \\ and \\ V(\\epsilon) = \\sigma^2. In \\ addition \\ it \\ is \\ assumed \\ that \\ the \\ error\\  term \\epsilon \\ follows \\ normal \\ distribution $"
   ]
  },
  {
   "cell_type": "markdown",
   "id": "ac6acbca",
   "metadata": {},
   "source": [
    "### $Adjusted R^2$\n",
    "\n",
    "In multiple linear regression value od $R^2$ can be inflated by adding lots of independent variables even if most of them are rather unusefull. \n",
    "\n",
    "So objective of multiple regression is not simply explain the variation in $y$, but also do so using a model with relatively few independent variables that are easily interpreted. It is thus desirable to $adjust R^2$ \n",
    "\n",
    "$$Adjusted R^2 = 1 - \\frac{(1-R^2)(n-1)}{n-k-1}$$"
   ]
  },
  {
   "cell_type": "markdown",
   "id": "6c64d8c2",
   "metadata": {},
   "source": [
    "Where $$n = number \\ of \\ sample \\ data$$ and $$k = number \\ of \\ predictors \\ or \\ independent \\ variables$$"
   ]
  },
  {
   "cell_type": "markdown",
   "id": "7c54a169",
   "metadata": {},
   "source": [
    "How to use $Adjusted R^2$\n",
    "- Larger the number of predictors $k$ relative to the sample size $n$, the smaller $Adjusted R^2$ will  be relative to $R^2$. So if $Adjusted R^2$ is substancially smaller than $R^2$, it indicates the model may contains too many predictors.\n",
    "- The $Adjusted\\ R^2$ value will increase only when the addition of a new independent variable improves the model's fit, and it will decrease when the new variable does not contribute significantly to the model's fit. This adjustment helps in selecting the most relevant independent variables for the regression model."
   ]
  },
  {
   "cell_type": "markdown",
   "id": "8e0663a6",
   "metadata": {},
   "source": []
  },
  {
   "cell_type": "markdown",
   "id": "5baf4d51",
   "metadata": {},
   "source": [
    "### Model Utility test\n",
    "\n",
    "With multivariate data, there is no picture analogous to a scatter plot to indicate\n",
    "whether a particular multiple regression model will successfully explain observed\n",
    "y variation. The value of $R^2$ certainly communicates a preliminary message, but this\n",
    "value is sometimes deceptive because it can be greatly inflated by using a large\n",
    "number of predictors relative to the sample size. For this reason, it is important to\n",
    "have a formal test for model utility.\n",
    "\n",
    "\n",
    "The model utility test in simple linear regression involved the null hypothesis\n",
    "$H_0 : \\beta_1 = 0$, according to which there is no useful relation between y and the single\n",
    "predictor x.\n",
    "\n",
    "\n",
    "In multiple linear regrssion we consider the assertion that $\\beta_1 = 0, \\beta_2 = 0, ...., \\beta_k =0$ which\n",
    "says that there is no useful relationship between y and any of the k predictors"
   ]
  },
  {
   "cell_type": "markdown",
   "id": "77f556aa",
   "metadata": {},
   "source": [
    "Test           : F test\n",
    "\n",
    "$H_0 : \\beta_1 = \\beta_2 = \\beta_3 = ... \\beta_k = 0$\n",
    "\n",
    "$H_a : one \\ of \\ the\\ \\beta_i  \\ is \\ non \\ zero$\n",
    "\n",
    "Test statistic : $f = \\frac{R^2/k}{(1-R^2)(n-k-1)}$\n",
    "\n",
    "\n",
    "Rejection Region : Upper tail(Right tailed)"
   ]
  },
  {
   "cell_type": "markdown",
   "id": "7d8dfdb3",
   "metadata": {},
   "source": [
    "---------\n",
    "----------\n",
    "---------"
   ]
  },
  {
   "cell_type": "code",
   "execution_count": 1,
   "id": "a9283b6b",
   "metadata": {},
   "outputs": [],
   "source": [
    "# importing libraries\n",
    "import pandas as pd\n",
    "import numpy as np\n",
    "import matplotlib.pyplot as plt\n",
    "import seaborn as sns\n",
    "from scipy.stats import f"
   ]
  },
  {
   "cell_type": "markdown",
   "id": "399a2ade",
   "metadata": {},
   "source": [
    "## EXAMPLE 1"
   ]
  },
  {
   "cell_type": "markdown",
   "id": "dd9167c3",
   "metadata": {},
   "source": [
    "The article “How to Optimize and Control the Wire Bonding Process: Part II” (Solid\n",
    "State Technology, Jan. 1991: 67–72) described an experiment carried out to assess the\n",
    "impact of the variables , $x_1 = force (gm)$, $x_2 = power(mW)$, $x_3 = temperature(^0 C)$\n",
    "and $x_4 = time(msec)$ on$y = $ bond shear strength (gm). The following data was\n",
    "generated to be consistent with the information given in the article:"
   ]
  },
  {
   "cell_type": "code",
   "execution_count": 2,
   "id": "227490bf",
   "metadata": {},
   "outputs": [
    {
     "data": {
      "text/html": [
       "<div>\n",
       "<style scoped>\n",
       "    .dataframe tbody tr th:only-of-type {\n",
       "        vertical-align: middle;\n",
       "    }\n",
       "\n",
       "    .dataframe tbody tr th {\n",
       "        vertical-align: top;\n",
       "    }\n",
       "\n",
       "    .dataframe thead th {\n",
       "        text-align: right;\n",
       "    }\n",
       "</style>\n",
       "<table border=\"1\" class=\"dataframe\">\n",
       "  <thead>\n",
       "    <tr style=\"text-align: right;\">\n",
       "      <th></th>\n",
       "      <th>Force</th>\n",
       "      <th>Power</th>\n",
       "      <th>Temperature</th>\n",
       "      <th>Time</th>\n",
       "      <th>Strength</th>\n",
       "    </tr>\n",
       "  </thead>\n",
       "  <tbody>\n",
       "    <tr>\n",
       "      <th>0</th>\n",
       "      <td>30</td>\n",
       "      <td>60</td>\n",
       "      <td>175</td>\n",
       "      <td>15</td>\n",
       "      <td>26.2</td>\n",
       "    </tr>\n",
       "    <tr>\n",
       "      <th>1</th>\n",
       "      <td>40</td>\n",
       "      <td>60</td>\n",
       "      <td>175</td>\n",
       "      <td>15</td>\n",
       "      <td>26.3</td>\n",
       "    </tr>\n",
       "    <tr>\n",
       "      <th>2</th>\n",
       "      <td>30</td>\n",
       "      <td>90</td>\n",
       "      <td>175</td>\n",
       "      <td>15</td>\n",
       "      <td>39.8</td>\n",
       "    </tr>\n",
       "    <tr>\n",
       "      <th>3</th>\n",
       "      <td>40</td>\n",
       "      <td>90</td>\n",
       "      <td>175</td>\n",
       "      <td>15</td>\n",
       "      <td>39.7</td>\n",
       "    </tr>\n",
       "    <tr>\n",
       "      <th>4</th>\n",
       "      <td>30</td>\n",
       "      <td>60</td>\n",
       "      <td>225</td>\n",
       "      <td>15</td>\n",
       "      <td>38.6</td>\n",
       "    </tr>\n",
       "  </tbody>\n",
       "</table>\n",
       "</div>"
      ],
      "text/plain": [
       "   Force  Power  Temperature  Time  Strength\n",
       "0     30     60          175    15      26.2\n",
       "1     40     60          175    15      26.3\n",
       "2     30     90          175    15      39.8\n",
       "3     40     90          175    15      39.7\n",
       "4     30     60          225    15      38.6"
      ]
     },
     "execution_count": 2,
     "metadata": {},
     "output_type": "execute_result"
    }
   ],
   "source": [
    "data = [\n",
    "    [30, 60, 175, 15, 26.2],\n",
    "    [40, 60, 175, 15, 26.3],\n",
    "    [30, 90, 175, 15, 39.8],\n",
    "    [40, 90, 175, 15, 39.7],\n",
    "    [30, 60, 225, 15, 38.6],\n",
    "    [40, 60, 225, 15, 35.5],\n",
    "    [30, 90, 225, 15, 48.8],\n",
    "    [40, 90, 225, 15, 37.8],\n",
    "    [30, 60, 175, 25, 26.6],\n",
    "    [40, 60, 175, 25, 23.4],\n",
    "    [30, 90, 175, 25, 38.6],\n",
    "    [40, 90, 175, 25, 52.1],\n",
    "    [30, 60, 225, 25, 39.5],\n",
    "    [40, 60, 225, 25, 32.3],\n",
    "    [30, 90, 225, 25, 43.0],\n",
    "    [40, 90, 225, 25, 56.0],\n",
    "    [25, 75, 200, 20, 35.2],\n",
    "    [45, 75, 200, 20, 46.9],\n",
    "    [35, 45, 200, 20, 22.7],\n",
    "    [35, 105, 200, 20, 58.7],\n",
    "    [35, 75, 150, 20, 34.5],\n",
    "    [35, 75, 250, 20, 44.0],\n",
    "    [35, 75, 200, 10, 35.7],\n",
    "    [35, 75, 200, 30, 41.8],\n",
    "    [35, 75, 200, 20, 36.5],\n",
    "    [35, 75, 200, 20, 37.6],\n",
    "    [35, 75, 200, 20, 40.3],\n",
    "    [35, 75, 200, 20, 46.0],\n",
    "    [35, 75, 200, 20, 27.8],\n",
    "    [35, 75, 200, 20, 40.3]\n",
    "       ]\n",
    "\n",
    "df = pd.DataFrame(data, columns=[\n",
    "    'Force', 'Power', 'Temperature', 'Time', 'Strength'])\n",
    "\n",
    "df.head()"
   ]
  },
  {
   "cell_type": "markdown",
   "id": "a2e0905c",
   "metadata": {},
   "source": [
    "- Calculate an estimated regression line\n",
    "- Calculate $R^2$ value for the moodel\n",
    "- Calculate $Adusted R^2$ value for the model\n",
    "- Do model utility test"
   ]
  },
  {
   "cell_type": "markdown",
   "id": "34dc571c",
   "metadata": {},
   "source": [
    "------------"
   ]
  },
  {
   "cell_type": "markdown",
   "id": "5c447c57",
   "metadata": {},
   "source": [
    "## SOLUTION"
   ]
  },
  {
   "cell_type": "markdown",
   "id": "f13581bc",
   "metadata": {},
   "source": [
    "### Fit model"
   ]
  },
  {
   "cell_type": "markdown",
   "id": "bd8a95d4",
   "metadata": {},
   "source": [
    "Data is about impact of Force, Power, Temperature,Time on Strength.\n",
    "\n",
    "So indenpendent variables  Force, Power, Temperature,Time and dependent variable is Strength"
   ]
  },
  {
   "cell_type": "code",
   "execution_count": 3,
   "id": "7fbd30d6",
   "metadata": {},
   "outputs": [],
   "source": [
    "X = df[['Force', 'Power', 'Temperature', 'Time']]\n",
    "y = df['Strength']"
   ]
  },
  {
   "cell_type": "code",
   "execution_count": 4,
   "id": "6d3a4f00",
   "metadata": {},
   "outputs": [],
   "source": [
    "from sklearn.linear_model import LinearRegression\n",
    "regressor = LinearRegression()"
   ]
  },
  {
   "cell_type": "code",
   "execution_count": 5,
   "id": "b6fba9b8",
   "metadata": {},
   "outputs": [
    {
     "data": {
      "text/plain": [
       "LinearRegression()"
      ]
     },
     "execution_count": 5,
     "metadata": {},
     "output_type": "execute_result"
    }
   ],
   "source": [
    "regressor.fit(X,y)"
   ]
  },
  {
   "cell_type": "code",
   "execution_count": 6,
   "id": "4aaa9bc8",
   "metadata": {},
   "outputs": [
    {
     "name": "stdout",
     "output_type": "stream",
     "text": [
      "Intercept: -37.47666666666663\n",
      "Coefficients: [0.21166667 0.49833333 0.12966667 0.25833333]\n"
     ]
    }
   ],
   "source": [
    "# Coefficients\n",
    "print(\"Intercept:\", regressor.intercept_)\n",
    "print(\"Coefficients:\", regressor.coef_)"
   ]
  },
  {
   "cell_type": "markdown",
   "id": "83e3c5cb",
   "metadata": {},
   "source": [
    "### Estimated regression line \n",
    "$$ y = -37.4766 + 0.2116 x_1 + 0.4983 x_2 + 0.1296 x_3 +  0.2583 x_4 $$"
   ]
  },
  {
   "cell_type": "markdown",
   "id": "9fd53b89",
   "metadata": {},
   "source": [
    "### Predictions, Error and Standardized error"
   ]
  },
  {
   "cell_type": "code",
   "execution_count": 7,
   "id": "6f92bd12",
   "metadata": {},
   "outputs": [],
   "source": [
    "predicted_y = regressor.predict(X)"
   ]
  },
  {
   "cell_type": "code",
   "execution_count": 8,
   "id": "a459796b",
   "metadata": {},
   "outputs": [],
   "source": [
    "error = np.array(y - predicted_y)"
   ]
  },
  {
   "cell_type": "code",
   "execution_count": 9,
   "id": "b0e71ec2",
   "metadata": {},
   "outputs": [],
   "source": [
    "df['error'] = error"
   ]
  },
  {
   "cell_type": "code",
   "execution_count": 10,
   "id": "9f6ad24d",
   "metadata": {},
   "outputs": [],
   "source": [
    "from sklearn.preprocessing import StandardScaler\n",
    "scaler = StandardScaler()\n",
    "\n",
    "df['standardized_error'] = scaler.fit_transform(df[['error']])"
   ]
  },
  {
   "cell_type": "markdown",
   "id": "3ce004b1",
   "metadata": {},
   "source": [
    "### $R^2$ Value"
   ]
  },
  {
   "cell_type": "code",
   "execution_count": 11,
   "id": "7a22d6cd",
   "metadata": {},
   "outputs": [],
   "source": [
    "r_square = regressor.score(X,y)"
   ]
  },
  {
   "cell_type": "code",
   "execution_count": 12,
   "id": "dec4cbda",
   "metadata": {},
   "outputs": [
    {
     "data": {
      "text/plain": [
       "0.7139592785089428"
      ]
     },
     "execution_count": 12,
     "metadata": {},
     "output_type": "execute_result"
    }
   ],
   "source": [
    "r_square"
   ]
  },
  {
   "cell_type": "markdown",
   "id": "a8fbc379",
   "metadata": {},
   "source": [
    "### Adjsuted $R^2$"
   ]
  },
  {
   "cell_type": "code",
   "execution_count": 13,
   "id": "4229d111",
   "metadata": {},
   "outputs": [
    {
     "name": "stdout",
     "output_type": "stream",
     "text": [
      "Adjusted R_square  0.6681927630703737\n"
     ]
    }
   ],
   "source": [
    "# To Calculate Adjusted R^2\n",
    "\n",
    "n = df.shape[0]      #number of observations\n",
    "\n",
    "k = X.shape[1]         #numbeer of independent variables\n",
    "\n",
    "adj_r_square = 1 - ((1- r_square)*(n-1))/(n - k - 1)\n",
    "\n",
    "print(\"Adjusted R_square \", adj_r_square)"
   ]
  },
  {
   "cell_type": "markdown",
   "id": "0285c934",
   "metadata": {},
   "source": [
    " The value of $R^2$, and $Adjusted R^2$ certainly suggest a useful model."
   ]
  },
  {
   "cell_type": "markdown",
   "id": "40ff7f73",
   "metadata": {},
   "source": [
    "### Model Utility test"
   ]
  },
  {
   "cell_type": "code",
   "execution_count": 14,
   "id": "cd0e655c",
   "metadata": {},
   "outputs": [],
   "source": [
    "# To define F statistic\n",
    "# n and k already calculated for finding Adjusted R^2\n",
    "\n",
    "f_stat = (r_square/k)/ (1-r_square)*(n-k-1)"
   ]
  },
  {
   "cell_type": "code",
   "execution_count": 15,
   "id": "6deb2bad",
   "metadata": {},
   "outputs": [],
   "source": [
    "P_value = 1 - f.cdf(f_stat, k, n-k-1)  #P value for right tailed test"
   ]
  },
  {
   "cell_type": "code",
   "execution_count": 16,
   "id": "fef86326",
   "metadata": {},
   "outputs": [
    {
     "data": {
      "text/plain": [
       "1.5924160694513745e-06"
      ]
     },
     "execution_count": 16,
     "metadata": {},
     "output_type": "execute_result"
    }
   ],
   "source": [
    "P_value"
   ]
  },
  {
   "cell_type": "markdown",
   "id": "a16f02e6",
   "metadata": {},
   "source": [
    "P_value is less than 0.01, so we can reject $H_0$, and can conclude there is  a useful linear relationship between y and at least one of the four predictors in the model.\n",
    "\n",
    "Note: This does not mean that all four predictors are usefull"
   ]
  },
  {
   "cell_type": "code",
   "execution_count": null,
   "id": "7f8d3bc9",
   "metadata": {},
   "outputs": [],
   "source": []
  },
  {
   "cell_type": "markdown",
   "id": "4b1e7a52",
   "metadata": {},
   "source": [
    "-------------\n",
    "----------------"
   ]
  },
  {
   "cell_type": "markdown",
   "id": "95618b01",
   "metadata": {},
   "source": [
    "## EXAMPLE 2"
   ]
  },
  {
   "cell_type": "markdown",
   "id": "9e55d6f2",
   "metadata": {},
   "source": [
    "Investigators carried out a study to see how various characteristics of concrete are influenced by $x_1 =$ % limestone powder and $x_2 = $ water-cement ratio, resulting in the\n",
    "accompanying data (“Durability of Concrete with Addition of Limestone Powder,”\n",
    "Magazine of Concrete Research, 1996: 131–137)."
   ]
  },
  {
   "cell_type": "code",
   "execution_count": 17,
   "id": "94e96bb5",
   "metadata": {},
   "outputs": [],
   "source": [
    "data = {\n",
    "    'x1': [21, 21, 7,7, 28, 0, 14, 14,14],\n",
    "    'x2': [0.65, 0.55, 0.65, 0.55, 0.60, 0.60, 0.70, 0.50, 0.60],\n",
    "    'x1*x2': [13.65, 11.55, 4.55,3.85, 16.80, 0.00, 9.80, 7.00,8.40],\n",
    "    '28-day Comp Str (MPa)': [33.55, 47.55, 35.00, 35.90,40.90, 39.10, 31.55, 48.00,42.30],\n",
    "    'Adsorbability (%)': [8.42, 6.26, 6.74, 6.59,7.28, 6.90, 10.80, 5.63,7.43]\n",
    "}\n",
    "\n",
    "# Create the DataFrame\n",
    "df_2 = pd.DataFrame(data)"
   ]
  },
  {
   "cell_type": "code",
   "execution_count": 18,
   "id": "9a642826",
   "metadata": {},
   "outputs": [
    {
     "data": {
      "text/html": [
       "<div>\n",
       "<style scoped>\n",
       "    .dataframe tbody tr th:only-of-type {\n",
       "        vertical-align: middle;\n",
       "    }\n",
       "\n",
       "    .dataframe tbody tr th {\n",
       "        vertical-align: top;\n",
       "    }\n",
       "\n",
       "    .dataframe thead th {\n",
       "        text-align: right;\n",
       "    }\n",
       "</style>\n",
       "<table border=\"1\" class=\"dataframe\">\n",
       "  <thead>\n",
       "    <tr style=\"text-align: right;\">\n",
       "      <th></th>\n",
       "      <th>x1</th>\n",
       "      <th>x2</th>\n",
       "      <th>x1*x2</th>\n",
       "      <th>28-day Comp Str (MPa)</th>\n",
       "      <th>Adsorbability (%)</th>\n",
       "    </tr>\n",
       "  </thead>\n",
       "  <tbody>\n",
       "    <tr>\n",
       "      <th>0</th>\n",
       "      <td>21</td>\n",
       "      <td>0.65</td>\n",
       "      <td>13.65</td>\n",
       "      <td>33.55</td>\n",
       "      <td>8.42</td>\n",
       "    </tr>\n",
       "    <tr>\n",
       "      <th>1</th>\n",
       "      <td>21</td>\n",
       "      <td>0.55</td>\n",
       "      <td>11.55</td>\n",
       "      <td>47.55</td>\n",
       "      <td>6.26</td>\n",
       "    </tr>\n",
       "    <tr>\n",
       "      <th>2</th>\n",
       "      <td>7</td>\n",
       "      <td>0.65</td>\n",
       "      <td>4.55</td>\n",
       "      <td>35.00</td>\n",
       "      <td>6.74</td>\n",
       "    </tr>\n",
       "    <tr>\n",
       "      <th>3</th>\n",
       "      <td>7</td>\n",
       "      <td>0.55</td>\n",
       "      <td>3.85</td>\n",
       "      <td>35.90</td>\n",
       "      <td>6.59</td>\n",
       "    </tr>\n",
       "    <tr>\n",
       "      <th>4</th>\n",
       "      <td>28</td>\n",
       "      <td>0.60</td>\n",
       "      <td>16.80</td>\n",
       "      <td>40.90</td>\n",
       "      <td>7.28</td>\n",
       "    </tr>\n",
       "    <tr>\n",
       "      <th>5</th>\n",
       "      <td>0</td>\n",
       "      <td>0.60</td>\n",
       "      <td>0.00</td>\n",
       "      <td>39.10</td>\n",
       "      <td>6.90</td>\n",
       "    </tr>\n",
       "    <tr>\n",
       "      <th>6</th>\n",
       "      <td>14</td>\n",
       "      <td>0.70</td>\n",
       "      <td>9.80</td>\n",
       "      <td>31.55</td>\n",
       "      <td>10.80</td>\n",
       "    </tr>\n",
       "    <tr>\n",
       "      <th>7</th>\n",
       "      <td>14</td>\n",
       "      <td>0.50</td>\n",
       "      <td>7.00</td>\n",
       "      <td>48.00</td>\n",
       "      <td>5.63</td>\n",
       "    </tr>\n",
       "    <tr>\n",
       "      <th>8</th>\n",
       "      <td>14</td>\n",
       "      <td>0.60</td>\n",
       "      <td>8.40</td>\n",
       "      <td>42.30</td>\n",
       "      <td>7.43</td>\n",
       "    </tr>\n",
       "  </tbody>\n",
       "</table>\n",
       "</div>"
      ],
      "text/plain": [
       "   x1    x2  x1*x2  28-day Comp Str (MPa)  Adsorbability (%)\n",
       "0  21  0.65  13.65                  33.55               8.42\n",
       "1  21  0.55  11.55                  47.55               6.26\n",
       "2   7  0.65   4.55                  35.00               6.74\n",
       "3   7  0.55   3.85                  35.90               6.59\n",
       "4  28  0.60  16.80                  40.90               7.28\n",
       "5   0  0.60   0.00                  39.10               6.90\n",
       "6  14  0.70   9.80                  31.55              10.80\n",
       "7  14  0.50   7.00                  48.00               5.63\n",
       "8  14  0.60   8.40                  42.30               7.43"
      ]
     },
     "execution_count": 18,
     "metadata": {},
     "output_type": "execute_result"
    }
   ],
   "source": [
    "df_2"
   ]
  },
  {
   "cell_type": "markdown",
   "id": "3664c095",
   "metadata": {},
   "source": [
    "- ANALYSIS 1\n",
    "    - Fit the linear regression model with dependent variable as strength and independent variables x1 and x2\n",
    "    - Calculate $R^2$ and $ Adjusted R^2$\n",
    "- ANALYSIS 2\n",
    "    - Fit the linear regression model with dependent variable as strength and independent variables x1, x2 and the     interaction predictor x1x2\n",
    "    - Calculate $R^2$ and $ Adjusted R^2$\n",
    "- ANALYSIS 3\n",
    "        - Fit linear equation with all the variables. Find $R^2$ and adjusted $R^2$\n",
    "        \n",
    "- Compare above values of $Adjusted \\ R^2$ and say which model is better"
   ]
  },
  {
   "cell_type": "markdown",
   "id": "39847067",
   "metadata": {},
   "source": [
    "#### ANALYSIS 1"
   ]
  },
  {
   "cell_type": "code",
   "execution_count": 19,
   "id": "82865596",
   "metadata": {},
   "outputs": [],
   "source": [
    "X  = df_2[['x1','x2']]\n",
    "y = df_2['28-day Comp Str (MPa)']"
   ]
  },
  {
   "cell_type": "code",
   "execution_count": 20,
   "id": "2c821d87",
   "metadata": {},
   "outputs": [
    {
     "data": {
      "text/plain": [
       "LinearRegression()"
      ]
     },
     "execution_count": 20,
     "metadata": {},
     "output_type": "execute_result"
    }
   ],
   "source": [
    "regressor.fit(X,y)     "
   ]
  },
  {
   "cell_type": "code",
   "execution_count": 21,
   "id": "486ecadc",
   "metadata": {},
   "outputs": [
    {
     "name": "stdout",
     "output_type": "stream",
     "text": [
      "Intercept: 84.81666666666669\n",
      "Coefficients: [  0.16428571 -79.66666667]\n"
     ]
    }
   ],
   "source": [
    "# Coefficients\n",
    "print(\"Intercept:\", regressor.intercept_)\n",
    "print(\"Coefficients:\", regressor.coef_)"
   ]
  },
  {
   "cell_type": "markdown",
   "id": "c9c55232",
   "metadata": {},
   "source": [
    "$ Equation \\ of \\ regression \\ line \\ is $\n",
    "\n",
    "$$y = 84.8166 + 0.1642 x_1 + -79.6666 x_2$$"
   ]
  },
  {
   "cell_type": "code",
   "execution_count": 22,
   "id": "23538817",
   "metadata": {},
   "outputs": [
    {
     "data": {
      "text/plain": [
       "0.7405918080363822"
      ]
     },
     "execution_count": 22,
     "metadata": {},
     "output_type": "execute_result"
    }
   ],
   "source": [
    "r_square = regressor.score(X,y)\n",
    "r_square"
   ]
  },
  {
   "cell_type": "code",
   "execution_count": 23,
   "id": "ce5c5ad3",
   "metadata": {},
   "outputs": [
    {
     "name": "stdout",
     "output_type": "stream",
     "text": [
      "Adjusted R_square  0.6541224107151764\n"
     ]
    }
   ],
   "source": [
    "# To Calculate Adjusted R^2\n",
    "\n",
    "n = df_2.shape[0]      #number of observations\n",
    "\n",
    "k = X.shape[1]         #numbeer of independent variables\n",
    "\n",
    "adj_r_square = 1 - ((1- r_square)*(n-1))/(n - k - 1)\n",
    "\n",
    "print(\"Adjusted R_square \", adj_r_square)"
   ]
  },
  {
   "cell_type": "code",
   "execution_count": null,
   "id": "1ad0164a",
   "metadata": {},
   "outputs": [],
   "source": []
  },
  {
   "cell_type": "markdown",
   "id": "9e0c3fce",
   "metadata": {},
   "source": [
    "#### ANALYSIS 2"
   ]
  },
  {
   "cell_type": "code",
   "execution_count": 24,
   "id": "551b14df",
   "metadata": {},
   "outputs": [],
   "source": [
    "X  = df_2[['x1','x2','x1*x2']]\n",
    "y = df_2['28-day Comp Str (MPa)']"
   ]
  },
  {
   "cell_type": "code",
   "execution_count": 25,
   "id": "c0b8e8c5",
   "metadata": {},
   "outputs": [
    {
     "data": {
      "text/plain": [
       "LinearRegression()"
      ]
     },
     "execution_count": 25,
     "metadata": {},
     "output_type": "execute_result"
    }
   ],
   "source": [
    "regressor.fit(X,y)"
   ]
  },
  {
   "cell_type": "code",
   "execution_count": 26,
   "id": "f0335aba",
   "metadata": {},
   "outputs": [
    {
     "name": "stdout",
     "output_type": "stream",
     "text": [
      "Intercept: 6.2166666666663914\n",
      "Coefficients: [ 5.77857143 51.33333333 -9.35714286]\n"
     ]
    }
   ],
   "source": [
    "# Coefficients\n",
    "print(\"Intercept:\", regressor.intercept_)\n",
    "print(\"Coefficients:\", regressor.coef_)"
   ]
  },
  {
   "cell_type": "markdown",
   "id": "78868a8b",
   "metadata": {},
   "source": [
    "$Equation \\ for \\  the \\ regression \\ line \\ is $\n",
    "\n",
    "$$ y = 6.2166 + 5.7785 x1 + 51.3333x2 + -9.3571 x1 x2 $$"
   ]
  },
  {
   "cell_type": "code",
   "execution_count": 27,
   "id": "a3367d28",
   "metadata": {},
   "outputs": [
    {
     "data": {
      "text/plain": [
       "0.8946264548364897"
      ]
     },
     "execution_count": 27,
     "metadata": {},
     "output_type": "execute_result"
    }
   ],
   "source": [
    "r_square = regressor.score(X,y)\n",
    "r_square"
   ]
  },
  {
   "cell_type": "code",
   "execution_count": 28,
   "id": "b16fc707",
   "metadata": {},
   "outputs": [
    {
     "name": "stdout",
     "output_type": "stream",
     "text": [
      "Adjusted R_square  0.8314023277383835\n"
     ]
    }
   ],
   "source": [
    "# To Calculate Adjusted R^2\n",
    "\n",
    "n = df_2.shape[0]      #number of observations\n",
    "\n",
    "k = X.shape[1]         #numbeer of independent variables\n",
    "\n",
    "adj_r_square = 1 - ((1- r_square)*(n-1))/(n - k - 1)\n",
    "\n",
    "print(\"Adjusted R_square \", adj_r_square)"
   ]
  },
  {
   "cell_type": "markdown",
   "id": "8f36e578",
   "metadata": {},
   "source": [
    "$R^2$ and $Adjusted R^2$ value incresed when we added interaction predictor $x1x2$\n",
    "\n",
    "So second model is much better than the first one"
   ]
  },
  {
   "cell_type": "code",
   "execution_count": null,
   "id": "1c90ad97",
   "metadata": {},
   "outputs": [],
   "source": []
  },
  {
   "cell_type": "markdown",
   "id": "4b467310",
   "metadata": {},
   "source": [
    "#### ANALYSIS 2"
   ]
  },
  {
   "cell_type": "code",
   "execution_count": 29,
   "id": "bebb2f01",
   "metadata": {},
   "outputs": [],
   "source": [
    "X  = df_2[['x1','x2','x1*x2','Adsorbability (%)' ]]\n",
    "y = df_2['28-day Comp Str (MPa)']"
   ]
  },
  {
   "cell_type": "code",
   "execution_count": 30,
   "id": "16f570df",
   "metadata": {},
   "outputs": [
    {
     "data": {
      "text/plain": [
       "LinearRegression()"
      ]
     },
     "execution_count": 30,
     "metadata": {},
     "output_type": "execute_result"
    }
   ],
   "source": [
    "regressor.fit(X,y)"
   ]
  },
  {
   "cell_type": "code",
   "execution_count": 31,
   "id": "7adee649",
   "metadata": {},
   "outputs": [
    {
     "data": {
      "text/plain": [
       "0.9042623255458607"
      ]
     },
     "execution_count": 31,
     "metadata": {},
     "output_type": "execute_result"
    }
   ],
   "source": [
    "r_square = regressor.score(X,y)\n",
    "r_square"
   ]
  },
  {
   "cell_type": "code",
   "execution_count": 32,
   "id": "7b9c6109",
   "metadata": {},
   "outputs": [
    {
     "name": "stdout",
     "output_type": "stream",
     "text": [
      "Adjusted R_square  0.8085246510917214\n"
     ]
    }
   ],
   "source": [
    "# To Calculate Adjusted R^2\n",
    "\n",
    "n = df_2.shape[0]      #number of observations\n",
    "\n",
    "k = X.shape[1]         #numbeer of independent variables\n",
    "\n",
    "adj_r_square = 1 - ((1- r_square)*(n-1))/(n - k - 1)\n",
    "\n",
    "print(\"Adjusted R_square \", adj_r_square)"
   ]
  },
  {
   "cell_type": "markdown",
   "id": "5253bd3a",
   "metadata": {},
   "source": [
    "There is not much change in the values of $R^2$ and $Adjusted R^2$ from 2nd model."
   ]
  },
  {
   "cell_type": "code",
   "execution_count": null,
   "id": "291e2157",
   "metadata": {},
   "outputs": [],
   "source": []
  }
 ],
 "metadata": {
  "kernelspec": {
   "display_name": "Python 3 (ipykernel)",
   "language": "python",
   "name": "python3"
  },
  "language_info": {
   "codemirror_mode": {
    "name": "ipython",
    "version": 3
   },
   "file_extension": ".py",
   "mimetype": "text/x-python",
   "name": "python",
   "nbconvert_exporter": "python",
   "pygments_lexer": "ipython3",
   "version": "3.7.15"
  }
 },
 "nbformat": 4,
 "nbformat_minor": 5
}
