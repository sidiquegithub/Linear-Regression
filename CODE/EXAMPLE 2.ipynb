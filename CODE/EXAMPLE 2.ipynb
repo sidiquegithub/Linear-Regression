{
 "cells": [
  {
   "cell_type": "code",
   "execution_count": null,
   "id": "6a0695a2",
   "metadata": {},
   "outputs": [],
   "source": []
  },
  {
   "cell_type": "markdown",
   "id": "a8265b25",
   "metadata": {},
   "source": [
    "# The SSE or (Error Sum of Squares or Residual Sum of Squares) in Linear Regression"
   ]
  },
  {
   "cell_type": "markdown",
   "id": "0f3308e4",
   "metadata": {},
   "source": [
    "Let the data points be $(x_i,y_i)$ where $i = 1,2,3...n$ and $\\hat{y}_i$ be corresponding predicted value in the regression line  $\\beta_0 + \\beta_1x_i$, corresponds to $x_i$ then \n",
    "\n",
    "$$error = y_i - \\hat{y}_i$$\n",
    "\n",
    "and the error sum of squares (equivalently, residual sum of squares), denoted by SSE, is\n",
    "\n",
    "$$ SSE = \\sum (y_i - \\hat{y}_i)^2 = \\sum [y_i - (\\beta_0 + \\beta_1x_i)]^2 $$ "
   ]
  },
  {
   "cell_type": "markdown",
   "id": "27dfce8e",
   "metadata": {},
   "source": [
    "We can use $SSE$ to estimate the variance of the error terms as follows. \n",
    "\n",
    "Variance of error terms $ \\sigma^2$ is given by \n",
    "\n",
    "$$ \\sigma^2 = \\frac{SSE}{n-2}$$\n",
    "\n",
    "i.e, \n",
    "\n",
    "$$ \\sigma^2 = \\frac{\\sum (y_i - \\hat{y}_i)^2}{n-2}$$"
   ]
  },
  {
   "cell_type": "markdown",
   "id": "67651ca3",
   "metadata": {},
   "source": [
    "The denominator ( n-2 ) accounts for the degrees of freedom, where 2 represents the number of estimated parameters in the model (the intercept $\\beta_0$ and the slope $\\beta_1$)."
   ]
  },
  {
   "cell_type": "markdown",
   "id": "5b2b334d",
   "metadata": {},
   "source": [
    "Variance of error is an important part of assessing the goodness of fit for a regression model. Where $Goodness \\ of \\ fit $ of a regression model is measure of how well the model's predicted values match the  actual data. \n",
    "\n",
    "Also Variance of error  terms is used to calculate other statistics, like the standard error of estimate and $R^2$ value, which help to quantify the goodness of fit."
   ]
  },
  {
   "cell_type": "code",
   "execution_count": null,
   "id": "385d6a15",
   "metadata": {},
   "outputs": [],
   "source": []
  },
  {
   "cell_type": "code",
   "execution_count": null,
   "id": "04aecde9",
   "metadata": {},
   "outputs": [],
   "source": []
  },
  {
   "cell_type": "markdown",
   "id": "805b2e97",
   "metadata": {},
   "source": [
    "EXAMPLE "
   ]
  },
  {
   "cell_type": "markdown",
   "id": "5d8cd864",
   "metadata": {},
   "source": [
    "Japan’s high population density has resulted in a multitude of resource-usage\n",
    "problems. One especially serious difficulty concerns waste removal. The article\n",
    "“Innovative Sludge Handling Through Pelletization Thickening” (Water Research,\n",
    "1999: 3245–3252) reported the development of a new compression machine for processing sewage sludge. An important part of the investigation involved relating\n",
    "the moisture content of compressed pellets (y, in %) to the machine’s filtration rate\n",
    "(x, in kg-DS/m/hr). The following data was read from a graph in the article:"
   ]
  },
  {
   "cell_type": "markdown",
   "id": "91bf4df3",
   "metadata": {},
   "source": [
    "$$ \n",
    "\\begin{array}{|c|c|c|c|c|c|c|c|c|c|c|c|c|c|c|c|c|c|c|c|c|c|}\n",
    "\\hline\n",
    "\\textbf{x} & 125.3 & 98.2 & 201.4 & 147.3 & 145.9 & 124.7 &112.2 & 120.2& 161.2 & 178.9& 159.5 & 145.8 & 75.1 & 151.4 & 144.2 & 125.0 & 198.8 &132.5 & 159.6 & 110.7 \\\\ \n",
    "\\hline\n",
    "\\textbf{y} & 77.9 & 76.8 & 81.5 & 79.8 & 78.2 & 78.3 & 77.5 & 77.0 & 80.1 & 80.2  & 79.9 & 79.0 & 76.7 & 78.2 & 79.5 & 78.1 & 81.5 & 77.0 & 79.0 & 78.6  \\\\\n",
    "\\hline\n",
    "\\end{array} \n",
    "$$"
   ]
  },
  {
   "cell_type": "markdown",
   "id": "14f4725a",
   "metadata": {},
   "source": [
    "-  Fit a linear regression model also calculate variance of error and the $R^2$ value. \n",
    "-  Calculate SSE (Square Sum of Error).\n",
    "-  Estimate a variance of error term."
   ]
  },
  {
   "cell_type": "code",
   "execution_count": 1,
   "id": "10b847e9",
   "metadata": {},
   "outputs": [],
   "source": [
    "import pandas as pd\n",
    "import matplotlib.pyplot as plt\n",
    "import seaborn as sns"
   ]
  },
  {
   "cell_type": "code",
   "execution_count": 2,
   "id": "a12f3deb",
   "metadata": {},
   "outputs": [],
   "source": [
    "data = {\n",
    "    'X': [125.3, 98.2, 201.4, 147.3, 145.9, 124.7, 112.2, 120.2, 161.2, 178.9, 159.5, 145.8, 75.1, 151.4, 144.2, 125.0, 198.8, 132.5, 159.6, 110.7],\n",
    "    'Y': [77.9, 76.8, 81.5, 79.8, 78.2, 78.3, 77.5, 77.0, 80.1, 80.2, 79.9, 79.0, 76.7, 78.2, 79.5, 78.1, 81.5, 77.0, 79.0, 78.6]\n",
    "}"
   ]
  },
  {
   "cell_type": "code",
   "execution_count": 3,
   "id": "0d2576a3",
   "metadata": {},
   "outputs": [
    {
     "data": {
      "text/html": [
       "<div>\n",
       "<style scoped>\n",
       "    .dataframe tbody tr th:only-of-type {\n",
       "        vertical-align: middle;\n",
       "    }\n",
       "\n",
       "    .dataframe tbody tr th {\n",
       "        vertical-align: top;\n",
       "    }\n",
       "\n",
       "    .dataframe thead th {\n",
       "        text-align: right;\n",
       "    }\n",
       "</style>\n",
       "<table border=\"1\" class=\"dataframe\">\n",
       "  <thead>\n",
       "    <tr style=\"text-align: right;\">\n",
       "      <th></th>\n",
       "      <th>X</th>\n",
       "      <th>Y</th>\n",
       "    </tr>\n",
       "  </thead>\n",
       "  <tbody>\n",
       "    <tr>\n",
       "      <th>0</th>\n",
       "      <td>125.3</td>\n",
       "      <td>77.9</td>\n",
       "    </tr>\n",
       "    <tr>\n",
       "      <th>1</th>\n",
       "      <td>98.2</td>\n",
       "      <td>76.8</td>\n",
       "    </tr>\n",
       "    <tr>\n",
       "      <th>2</th>\n",
       "      <td>201.4</td>\n",
       "      <td>81.5</td>\n",
       "    </tr>\n",
       "    <tr>\n",
       "      <th>3</th>\n",
       "      <td>147.3</td>\n",
       "      <td>79.8</td>\n",
       "    </tr>\n",
       "    <tr>\n",
       "      <th>4</th>\n",
       "      <td>145.9</td>\n",
       "      <td>78.2</td>\n",
       "    </tr>\n",
       "    <tr>\n",
       "      <th>5</th>\n",
       "      <td>124.7</td>\n",
       "      <td>78.3</td>\n",
       "    </tr>\n",
       "    <tr>\n",
       "      <th>6</th>\n",
       "      <td>112.2</td>\n",
       "      <td>77.5</td>\n",
       "    </tr>\n",
       "    <tr>\n",
       "      <th>7</th>\n",
       "      <td>120.2</td>\n",
       "      <td>77.0</td>\n",
       "    </tr>\n",
       "    <tr>\n",
       "      <th>8</th>\n",
       "      <td>161.2</td>\n",
       "      <td>80.1</td>\n",
       "    </tr>\n",
       "    <tr>\n",
       "      <th>9</th>\n",
       "      <td>178.9</td>\n",
       "      <td>80.2</td>\n",
       "    </tr>\n",
       "    <tr>\n",
       "      <th>10</th>\n",
       "      <td>159.5</td>\n",
       "      <td>79.9</td>\n",
       "    </tr>\n",
       "    <tr>\n",
       "      <th>11</th>\n",
       "      <td>145.8</td>\n",
       "      <td>79.0</td>\n",
       "    </tr>\n",
       "    <tr>\n",
       "      <th>12</th>\n",
       "      <td>75.1</td>\n",
       "      <td>76.7</td>\n",
       "    </tr>\n",
       "    <tr>\n",
       "      <th>13</th>\n",
       "      <td>151.4</td>\n",
       "      <td>78.2</td>\n",
       "    </tr>\n",
       "    <tr>\n",
       "      <th>14</th>\n",
       "      <td>144.2</td>\n",
       "      <td>79.5</td>\n",
       "    </tr>\n",
       "    <tr>\n",
       "      <th>15</th>\n",
       "      <td>125.0</td>\n",
       "      <td>78.1</td>\n",
       "    </tr>\n",
       "    <tr>\n",
       "      <th>16</th>\n",
       "      <td>198.8</td>\n",
       "      <td>81.5</td>\n",
       "    </tr>\n",
       "    <tr>\n",
       "      <th>17</th>\n",
       "      <td>132.5</td>\n",
       "      <td>77.0</td>\n",
       "    </tr>\n",
       "    <tr>\n",
       "      <th>18</th>\n",
       "      <td>159.6</td>\n",
       "      <td>79.0</td>\n",
       "    </tr>\n",
       "    <tr>\n",
       "      <th>19</th>\n",
       "      <td>110.7</td>\n",
       "      <td>78.6</td>\n",
       "    </tr>\n",
       "  </tbody>\n",
       "</table>\n",
       "</div>"
      ],
      "text/plain": [
       "        X     Y\n",
       "0   125.3  77.9\n",
       "1    98.2  76.8\n",
       "2   201.4  81.5\n",
       "3   147.3  79.8\n",
       "4   145.9  78.2\n",
       "5   124.7  78.3\n",
       "6   112.2  77.5\n",
       "7   120.2  77.0\n",
       "8   161.2  80.1\n",
       "9   178.9  80.2\n",
       "10  159.5  79.9\n",
       "11  145.8  79.0\n",
       "12   75.1  76.7\n",
       "13  151.4  78.2\n",
       "14  144.2  79.5\n",
       "15  125.0  78.1\n",
       "16  198.8  81.5\n",
       "17  132.5  77.0\n",
       "18  159.6  79.0\n",
       "19  110.7  78.6"
      ]
     },
     "execution_count": 3,
     "metadata": {},
     "output_type": "execute_result"
    }
   ],
   "source": [
    "df = pd.DataFrame(data)\n",
    "df"
   ]
  },
  {
   "cell_type": "code",
   "execution_count": 4,
   "id": "3133c5a4",
   "metadata": {},
   "outputs": [
    {
     "data": {
      "image/png": "[encoded data removed]",
      "text/plain": [
       "<Figure size 600x400 with 1 Axes>"
      ]
     },
     "metadata": {},
     "output_type": "display_data"
    }
   ],
   "source": [
    "# Plot (X,Y)\n",
    "\n",
    "plt.figure(figsize=(6,4))\n",
    "sns.scatterplot(data=df, x='X', y='Y', s=10, color=\"blue\", marker=\"o\")\n",
    "plt.title(\"Dot Plot of X vs Y\")\n",
    "plt.xlabel(\"X: Machine’s Filtration Rate\")\n",
    "plt.ylabel(\"Y: Compressed Pellets\")\n",
    "plt.grid(True)\n",
    "plt.show()"
   ]
  },
  {
   "cell_type": "code",
   "execution_count": 5,
   "id": "d2af7e04",
   "metadata": {},
   "outputs": [
    {
     "data": {
      "text/html": [
       "<div>\n",
       "<style scoped>\n",
       "    .dataframe tbody tr th:only-of-type {\n",
       "        vertical-align: middle;\n",
       "    }\n",
       "\n",
       "    .dataframe tbody tr th {\n",
       "        vertical-align: top;\n",
       "    }\n",
       "\n",
       "    .dataframe thead th {\n",
       "        text-align: right;\n",
       "    }\n",
       "</style>\n",
       "<table border=\"1\" class=\"dataframe\">\n",
       "  <thead>\n",
       "    <tr style=\"text-align: right;\">\n",
       "      <th></th>\n",
       "      <th>X</th>\n",
       "      <th>Y</th>\n",
       "    </tr>\n",
       "  </thead>\n",
       "  <tbody>\n",
       "    <tr>\n",
       "      <th>X</th>\n",
       "      <td>1.000000</td>\n",
       "      <td>0.894394</td>\n",
       "    </tr>\n",
       "    <tr>\n",
       "      <th>Y</th>\n",
       "      <td>0.894394</td>\n",
       "      <td>1.000000</td>\n",
       "    </tr>\n",
       "  </tbody>\n",
       "</table>\n",
       "</div>"
      ],
      "text/plain": [
       "          X         Y\n",
       "X  1.000000  0.894394\n",
       "Y  0.894394  1.000000"
      ]
     },
     "execution_count": 5,
     "metadata": {},
     "output_type": "execute_result"
    }
   ],
   "source": [
    "# Corrleation \n",
    "\n",
    "correlation = df.corr()\n",
    "correlation"
   ]
  },
  {
   "cell_type": "code",
   "execution_count": 6,
   "id": "9350ca8a",
   "metadata": {},
   "outputs": [],
   "source": [
    "# Import Model\n",
    "from sklearn.linear_model import LinearRegression"
   ]
  },
  {
   "cell_type": "code",
   "execution_count": 7,
   "id": "884853d4",
   "metadata": {},
   "outputs": [],
   "source": [
    "X = df['X'].values\n",
    "Y = df['Y'].values"
   ]
  },
  {
   "cell_type": "code",
   "execution_count": 8,
   "id": "8f2282c5",
   "metadata": {},
   "outputs": [],
   "source": [
    "X = X.reshape(-1,1)\n",
    "Y = Y.reshape(-1,1)"
   ]
  },
  {
   "cell_type": "code",
   "execution_count": 9,
   "id": "88bdbe54",
   "metadata": {},
   "outputs": [
    {
     "data": {
      "text/plain": [
       "LinearRegression()"
      ]
     },
     "execution_count": 9,
     "metadata": {},
     "output_type": "execute_result"
    }
   ],
   "source": [
    "regressor = LinearRegression()\n",
    "regressor.fit(X,Y)"
   ]
  },
  {
   "cell_type": "code",
   "execution_count": 10,
   "id": "e1a6e31d",
   "metadata": {},
   "outputs": [],
   "source": [
    "# Predicted values i.e points on the regressive line\n",
    "df['Predicted_Y'] = regressor.predict(X)"
   ]
  },
  {
   "cell_type": "code",
   "execution_count": 11,
   "id": "18c383c3",
   "metadata": {},
   "outputs": [
    {
     "data": {
      "text/html": [
       "<div>\n",
       "<style scoped>\n",
       "    .dataframe tbody tr th:only-of-type {\n",
       "        vertical-align: middle;\n",
       "    }\n",
       "\n",
       "    .dataframe tbody tr th {\n",
       "        vertical-align: top;\n",
       "    }\n",
       "\n",
       "    .dataframe thead th {\n",
       "        text-align: right;\n",
       "    }\n",
       "</style>\n",
       "<table border=\"1\" class=\"dataframe\">\n",
       "  <thead>\n",
       "    <tr style=\"text-align: right;\">\n",
       "      <th></th>\n",
       "      <th>X</th>\n",
       "      <th>Y</th>\n",
       "      <th>Predicted_Y</th>\n",
       "    </tr>\n",
       "  </thead>\n",
       "  <tbody>\n",
       "    <tr>\n",
       "      <th>0</th>\n",
       "      <td>125.3</td>\n",
       "      <td>77.9</td>\n",
       "      <td>78.100078</td>\n",
       "    </tr>\n",
       "    <tr>\n",
       "      <th>1</th>\n",
       "      <td>98.2</td>\n",
       "      <td>76.8</td>\n",
       "      <td>76.988063</td>\n",
       "    </tr>\n",
       "    <tr>\n",
       "      <th>2</th>\n",
       "      <td>201.4</td>\n",
       "      <td>81.5</td>\n",
       "      <td>81.222748</td>\n",
       "    </tr>\n",
       "    <tr>\n",
       "      <th>3</th>\n",
       "      <td>147.3</td>\n",
       "      <td>79.8</td>\n",
       "      <td>79.002821</td>\n",
       "    </tr>\n",
       "    <tr>\n",
       "      <th>4</th>\n",
       "      <td>145.9</td>\n",
       "      <td>78.2</td>\n",
       "      <td>78.945374</td>\n",
       "    </tr>\n",
       "    <tr>\n",
       "      <th>5</th>\n",
       "      <td>124.7</td>\n",
       "      <td>78.3</td>\n",
       "      <td>78.075458</td>\n",
       "    </tr>\n",
       "    <tr>\n",
       "      <th>6</th>\n",
       "      <td>112.2</td>\n",
       "      <td>77.5</td>\n",
       "      <td>77.562536</td>\n",
       "    </tr>\n",
       "    <tr>\n",
       "      <th>7</th>\n",
       "      <td>120.2</td>\n",
       "      <td>77.0</td>\n",
       "      <td>77.890806</td>\n",
       "    </tr>\n",
       "    <tr>\n",
       "      <th>8</th>\n",
       "      <td>161.2</td>\n",
       "      <td>80.1</td>\n",
       "      <td>79.573191</td>\n",
       "    </tr>\n",
       "    <tr>\n",
       "      <th>9</th>\n",
       "      <td>178.9</td>\n",
       "      <td>80.2</td>\n",
       "      <td>80.299488</td>\n",
       "    </tr>\n",
       "    <tr>\n",
       "      <th>10</th>\n",
       "      <td>159.5</td>\n",
       "      <td>79.9</td>\n",
       "      <td>79.503433</td>\n",
       "    </tr>\n",
       "    <tr>\n",
       "      <th>11</th>\n",
       "      <td>145.8</td>\n",
       "      <td>79.0</td>\n",
       "      <td>78.941271</td>\n",
       "    </tr>\n",
       "    <tr>\n",
       "      <th>12</th>\n",
       "      <td>75.1</td>\n",
       "      <td>76.7</td>\n",
       "      <td>76.040183</td>\n",
       "    </tr>\n",
       "    <tr>\n",
       "      <th>13</th>\n",
       "      <td>151.4</td>\n",
       "      <td>78.2</td>\n",
       "      <td>79.171060</td>\n",
       "    </tr>\n",
       "    <tr>\n",
       "      <th>14</th>\n",
       "      <td>144.2</td>\n",
       "      <td>79.5</td>\n",
       "      <td>78.875617</td>\n",
       "    </tr>\n",
       "    <tr>\n",
       "      <th>15</th>\n",
       "      <td>125.0</td>\n",
       "      <td>78.1</td>\n",
       "      <td>78.087768</td>\n",
       "    </tr>\n",
       "    <tr>\n",
       "      <th>16</th>\n",
       "      <td>198.8</td>\n",
       "      <td>81.5</td>\n",
       "      <td>81.116060</td>\n",
       "    </tr>\n",
       "    <tr>\n",
       "      <th>17</th>\n",
       "      <td>132.5</td>\n",
       "      <td>77.0</td>\n",
       "      <td>78.395522</td>\n",
       "    </tr>\n",
       "    <tr>\n",
       "      <th>18</th>\n",
       "      <td>159.6</td>\n",
       "      <td>79.0</td>\n",
       "      <td>79.507537</td>\n",
       "    </tr>\n",
       "    <tr>\n",
       "      <th>19</th>\n",
       "      <td>110.7</td>\n",
       "      <td>78.6</td>\n",
       "      <td>77.500985</td>\n",
       "    </tr>\n",
       "  </tbody>\n",
       "</table>\n",
       "</div>"
      ],
      "text/plain": [
       "        X     Y  Predicted_Y\n",
       "0   125.3  77.9    78.100078\n",
       "1    98.2  76.8    76.988063\n",
       "2   201.4  81.5    81.222748\n",
       "3   147.3  79.8    79.002821\n",
       "4   145.9  78.2    78.945374\n",
       "5   124.7  78.3    78.075458\n",
       "6   112.2  77.5    77.562536\n",
       "7   120.2  77.0    77.890806\n",
       "8   161.2  80.1    79.573191\n",
       "9   178.9  80.2    80.299488\n",
       "10  159.5  79.9    79.503433\n",
       "11  145.8  79.0    78.941271\n",
       "12   75.1  76.7    76.040183\n",
       "13  151.4  78.2    79.171060\n",
       "14  144.2  79.5    78.875617\n",
       "15  125.0  78.1    78.087768\n",
       "16  198.8  81.5    81.116060\n",
       "17  132.5  77.0    78.395522\n",
       "18  159.6  79.0    79.507537\n",
       "19  110.7  78.6    77.500985"
      ]
     },
     "execution_count": 11,
     "metadata": {},
     "output_type": "execute_result"
    }
   ],
   "source": [
    "df"
   ]
  },
  {
   "cell_type": "code",
   "execution_count": 12,
   "id": "7d098742",
   "metadata": {},
   "outputs": [
    {
     "data": {
      "image/png": "[encoded data removed]",
      "text/plain": [
       "<Figure size 600x400 with 1 Axes>"
      ]
     },
     "metadata": {},
     "output_type": "display_data"
    }
   ],
   "source": [
    "# Plot the data and the regression line\n",
    "\n",
    "plt.figure(figsize=(6,4))\n",
    "sns.scatterplot(data=df, x='X', y='Y', s=10, color=\"blue\", label='Data Points')\n",
    "sns.lineplot(data=df, x='X', y='Predicted_Y', color=\"red\", linewidth=0.5, label='Regression Line')\n",
    "plt.title('Regression Line ')\n",
    "plt.xlabel('X')\n",
    "plt.ylabel('Y')\n",
    "plt.legend()\n",
    "plt.grid(True)\n",
    "plt.show()"
   ]
  },
  {
   "cell_type": "markdown",
   "id": "c23053e7",
   "metadata": {},
   "source": [
    "## To calculate SSE"
   ]
  },
  {
   "cell_type": "code",
   "execution_count": 14,
   "id": "6ec544a8",
   "metadata": {},
   "outputs": [],
   "source": [
    "df['Error'] = df[\"Y\"] - df[\"Predicted_Y\"] "
   ]
  },
  {
   "cell_type": "code",
   "execution_count": 15,
   "id": "806188cb",
   "metadata": {},
   "outputs": [
    {
     "data": {
      "text/html": [
       "<div>\n",
       "<style scoped>\n",
       "    .dataframe tbody tr th:only-of-type {\n",
       "        vertical-align: middle;\n",
       "    }\n",
       "\n",
       "    .dataframe tbody tr th {\n",
       "        vertical-align: top;\n",
       "    }\n",
       "\n",
       "    .dataframe thead th {\n",
       "        text-align: right;\n",
       "    }\n",
       "</style>\n",
       "<table border=\"1\" class=\"dataframe\">\n",
       "  <thead>\n",
       "    <tr style=\"text-align: right;\">\n",
       "      <th></th>\n",
       "      <th>X</th>\n",
       "      <th>Y</th>\n",
       "      <th>Predicted_Y</th>\n",
       "      <th>Error</th>\n",
       "    </tr>\n",
       "  </thead>\n",
       "  <tbody>\n",
       "    <tr>\n",
       "      <th>0</th>\n",
       "      <td>125.3</td>\n",
       "      <td>77.9</td>\n",
       "      <td>78.100078</td>\n",
       "      <td>-0.200078</td>\n",
       "    </tr>\n",
       "    <tr>\n",
       "      <th>1</th>\n",
       "      <td>98.2</td>\n",
       "      <td>76.8</td>\n",
       "      <td>76.988063</td>\n",
       "      <td>-0.188063</td>\n",
       "    </tr>\n",
       "    <tr>\n",
       "      <th>2</th>\n",
       "      <td>201.4</td>\n",
       "      <td>81.5</td>\n",
       "      <td>81.222748</td>\n",
       "      <td>0.277252</td>\n",
       "    </tr>\n",
       "    <tr>\n",
       "      <th>3</th>\n",
       "      <td>147.3</td>\n",
       "      <td>79.8</td>\n",
       "      <td>79.002821</td>\n",
       "      <td>0.797179</td>\n",
       "    </tr>\n",
       "    <tr>\n",
       "      <th>4</th>\n",
       "      <td>145.9</td>\n",
       "      <td>78.2</td>\n",
       "      <td>78.945374</td>\n",
       "      <td>-0.745374</td>\n",
       "    </tr>\n",
       "    <tr>\n",
       "      <th>5</th>\n",
       "      <td>124.7</td>\n",
       "      <td>78.3</td>\n",
       "      <td>78.075458</td>\n",
       "      <td>0.224542</td>\n",
       "    </tr>\n",
       "    <tr>\n",
       "      <th>6</th>\n",
       "      <td>112.2</td>\n",
       "      <td>77.5</td>\n",
       "      <td>77.562536</td>\n",
       "      <td>-0.062536</td>\n",
       "    </tr>\n",
       "    <tr>\n",
       "      <th>7</th>\n",
       "      <td>120.2</td>\n",
       "      <td>77.0</td>\n",
       "      <td>77.890806</td>\n",
       "      <td>-0.890806</td>\n",
       "    </tr>\n",
       "  </tbody>\n",
       "</table>\n",
       "</div>"
      ],
      "text/plain": [
       "       X     Y  Predicted_Y     Error\n",
       "0  125.3  77.9    78.100078 -0.200078\n",
       "1   98.2  76.8    76.988063 -0.188063\n",
       "2  201.4  81.5    81.222748  0.277252\n",
       "3  147.3  79.8    79.002821  0.797179\n",
       "4  145.9  78.2    78.945374 -0.745374\n",
       "5  124.7  78.3    78.075458  0.224542\n",
       "6  112.2  77.5    77.562536 -0.062536\n",
       "7  120.2  77.0    77.890806 -0.890806"
      ]
     },
     "execution_count": 15,
     "metadata": {},
     "output_type": "execute_result"
    }
   ],
   "source": [
    "df.head(8)"
   ]
  },
  {
   "cell_type": "code",
   "execution_count": 19,
   "id": "39482c03",
   "metadata": {},
   "outputs": [
    {
     "data": {
      "text/plain": [
       "7.9679858107800525"
      ]
     },
     "execution_count": 19,
     "metadata": {},
     "output_type": "execute_result"
    }
   ],
   "source": [
    "sse = sum(df['Error']**2)\n",
    "sse"
   ]
  },
  {
   "cell_type": "markdown",
   "id": "8c6963bd",
   "metadata": {},
   "source": [
    "## Variance of error"
   ]
  },
  {
   "cell_type": "code",
   "execution_count": 33,
   "id": "e150bce9",
   "metadata": {},
   "outputs": [
    {
     "name": "stdout",
     "output_type": "stream",
     "text": [
      "An estimate for the variance of error terms is 0.4426658783766696\n"
     ]
    }
   ],
   "source": [
    "# Variance of error terms \n",
    "# SSE/(n-2)  n number of pbdervations\n",
    "\n",
    "Variance_of_error = sse/(df.shape[0]-2)\n",
    "print(\"An estimate for the variance of error terms is\", Variance_of_error)"
   ]
  },
  {
   "cell_type": "markdown",
   "id": "18b785eb",
   "metadata": {},
   "source": [
    "## Standard deviation of error"
   ]
  },
  {
   "cell_type": "code",
   "execution_count": 34,
   "id": "28ef4b58",
   "metadata": {},
   "outputs": [
    {
     "name": "stdout",
     "output_type": "stream",
     "text": [
      "An estimate for the standard deviation of error terms is 0.6653314049228922\n"
     ]
    }
   ],
   "source": [
    "import math\n",
    "\n",
    "std_error = math.sqrt(Variance_of_error)\n",
    "print(\"An estimate for the standard deviation of error terms is\", std_error)"
   ]
  },
  {
   "cell_type": "markdown",
   "id": "cf371f76",
   "metadata": {},
   "source": [
    "Roughly speaking, .665 is the magnitude of a typical deviation from the estimated regression line—some points are\n",
    "closer to the line than this and others are further away"
   ]
  },
  {
   "cell_type": "code",
   "execution_count": null,
   "id": "998e7a5e",
   "metadata": {},
   "outputs": [],
   "source": []
  }
 ],
 "metadata": {
  "kernelspec": {
   "display_name": "Python 3 (ipykernel)",
   "language": "python",
   "name": "python3"
  },
  "language_info": {
   "codemirror_mode": {
    "name": "ipython",
    "version": 3
   },
   "file_extension": ".py",
   "mimetype": "text/x-python",
   "name": "python",
   "nbconvert_exporter": "python",
   "pygments_lexer": "ipython3",
   "version": "3.7.15"
  }
 },
 "nbformat": 4,
 "nbformat_minor": 5
}
