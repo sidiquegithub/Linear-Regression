{
 "cells": [
  {
   "cell_type": "markdown",
   "id": "75681b96",
   "metadata": {},
   "source": [
    "# SIMPLE LINEAR REGRESSION"
   ]
  },
  {
   "cell_type": "code",
   "execution_count": 1,
   "id": "0da65c82",
   "metadata": {},
   "outputs": [],
   "source": [
    "import numpy as np\n",
    "import pandas as pd\n",
    "import matplotlib.pyplot as plt\n",
    "import seaborn as sns\n",
    "import scipy.linalg as la "
   ]
  },
  {
   "cell_type": "markdown",
   "id": "6ad97413",
   "metadata": {},
   "source": [
    "## <font color = DarkGreen> EXAMPLE 1: NORMAL EQUATIONS"
   ]
  },
  {
   "cell_type": "markdown",
   "id": "d0b4df3c",
   "metadata": {},
   "source": [
    "### QUESTION\n",
    "Find the coefficients of regression $y = \\beta_0 + \\beta_1 x$ by forming and solving normal equations "
   ]
  },
  {
   "cell_type": "code",
   "execution_count": 2,
   "id": "d08e4781",
   "metadata": {},
   "outputs": [],
   "source": [
    "# Without using LinearRegression() find equation for regression line\n",
    "# Eventhough x and y follows a non linear relation (from scatter plot) fit Linear regression to understand more on how codes works"
   ]
  },
  {
   "cell_type": "markdown",
   "id": "16b2c7f5",
   "metadata": {},
   "source": [
    "$$\n",
    "\\begin{array}{|c|c|c|c|c|c|c|c|c|c|c|}\n",
    "\\hline\n",
    "x & 2 & 10 & 20 & 30 & 40 & 50 & 60  & 70 & 80 & 90 & 100   \\\\\n",
    "\\hline\n",
    "y & 408 & 272 & 196 & 137 & 90 & 78 & 51 & 40 & 30 & 22 & 15\\\\\n",
    "\\hline\n",
    "\\end{array}\n",
    "$$"
   ]
  },
  {
   "cell_type": "code",
   "execution_count": 3,
   "id": "36caa1c8",
   "metadata": {},
   "outputs": [],
   "source": [
    "x = np.array([2, 10, 20, 30, 40, 50, 60, 70, 80, 90, 100])\n",
    "y = np.array([408, 272, 196, 137, 90, 78, 51, 40, 30, 22, 15])"
   ]
  },
  {
   "cell_type": "code",
   "execution_count": 4,
   "id": "9e280448",
   "metadata": {},
   "outputs": [
    {
     "data": {
      "text/plain": [
       "<matplotlib.collections.PathCollection at 0x23903e96c48>"
      ]
     },
     "execution_count": 4,
     "metadata": {},
     "output_type": "execute_result"
    },
    {
     "data": {
      "image/png": "[encoded data removed]",
      "text/plain": [
       "<Figure size 640x480 with 1 Axes>"
      ]
     },
     "metadata": {},
     "output_type": "display_data"
    }
   ],
   "source": [
    "plt.scatter(x,y)"
   ]
  },
  {
   "cell_type": "markdown",
   "id": "1cda1101",
   "metadata": {},
   "source": [
    "### To Form the normal equations"
   ]
  },
  {
   "cell_type": "markdown",
   "id": "7c009c27",
   "metadata": {},
   "source": [
    "$Linear \\ equation \\ : y = \\beta_0 + \\beta_1 x $"
   ]
  },
  {
   "cell_type": "markdown",
   "id": "dee6c85c",
   "metadata": {},
   "source": [
    "$Normal \\ Equation$\n",
    "$$\\sum y = n \\beta_0 + \\beta_1 \\sum x$$\n",
    "$$\\sum yx = \\beta_0 \\sum x + \\beta_1 \\sum x^2$$"
   ]
  },
  {
   "cell_type": "markdown",
   "id": "b8542b88",
   "metadata": {},
   "source": [
    "$ Where \\ n = number \\ of \\ data \\ points $"
   ]
  },
  {
   "cell_type": "code",
   "execution_count": 5,
   "id": "9f10efc7",
   "metadata": {
    "scrolled": true
   },
   "outputs": [],
   "source": [
    "sum_x = np.sum(x)\n",
    "sum_y =np.sum(y)\n",
    "\n",
    "n = len(x)\n",
    "\n",
    "xy = x*y\n",
    "sum_xy = np.sum(xy)\n",
    "\n",
    "sum_square_x = np.sum(x**2)\n"
   ]
  },
  {
   "cell_type": "code",
   "execution_count": 6,
   "id": "dd709e29",
   "metadata": {},
   "outputs": [
    {
     "name": "stdout",
     "output_type": "stream",
     "text": [
      "Sum X 552\n",
      "Sum Y 1339\n",
      "Length of data 11\n",
      "Sum of X^2 38504\n",
      "Sum of xy 30806\n"
     ]
    }
   ],
   "source": [
    "print('Sum X', sum_x)\n",
    "print('Sum Y', sum_y)\n",
    "print('Length of data',n)\n",
    "print('Sum of X^2',sum_square_x)\n",
    "print('Sum of xy', sum_xy)"
   ]
  },
  {
   "cell_type": "markdown",
   "id": "6d9500dc",
   "metadata": {},
   "source": [
    "$So \\ normal \\ equations \\ are $"
   ]
  },
  {
   "cell_type": "markdown",
   "id": "567301ed",
   "metadata": {},
   "source": [
    "$$ 1339 = 11 \\beta_0 + \\beta_1 552$$\n",
    "$$ 30806 = \\beta_0 552 + \\beta_1 38504$$"
   ]
  },
  {
   "cell_type": "markdown",
   "id": "59fdc25e",
   "metadata": {},
   "source": [
    "#### To solve normal equations"
   ]
  },
  {
   "cell_type": "code",
   "execution_count": 7,
   "id": "44d62467",
   "metadata": {},
   "outputs": [],
   "source": [
    "a = np.array([[11, 552], [552, 38504]]) # Coefficient matrix\n",
    "b = np.array([1339, 30806])             # Constant matrix\n",
    "coefficients = np.linalg.solve(a, b)"
   ]
  },
  {
   "cell_type": "code",
   "execution_count": 8,
   "id": "44ac9102",
   "metadata": {},
   "outputs": [
    {
     "data": {
      "text/plain": [
       "array([290.74338607,  -3.36807472])"
      ]
     },
     "execution_count": 8,
     "metadata": {},
     "output_type": "execute_result"
    }
   ],
   "source": [
    "coefficients"
   ]
  },
  {
   "cell_type": "markdown",
   "id": "f38f9f7c",
   "metadata": {},
   "source": [
    "$So \\ coefficients \\ are \\beta_0 = 290.74338607 and \\beta_1 = -3.36807472$"
   ]
  },
  {
   "cell_type": "code",
   "execution_count": null,
   "id": "a141ad5a",
   "metadata": {},
   "outputs": [],
   "source": []
  },
  {
   "cell_type": "markdown",
   "id": "5bf606a1",
   "metadata": {},
   "source": [
    "Regression line is $$ y = 290.74338607 + (−3.36807472) x$$"
   ]
  },
  {
   "cell_type": "markdown",
   "id": "425474da",
   "metadata": {},
   "source": [
    "#### Predicted y "
   ]
  },
  {
   "cell_type": "code",
   "execution_count": 9,
   "id": "eaa608e3",
   "metadata": {},
   "outputs": [],
   "source": [
    "predicted_y = 290.74338607 - (3.36807472*x) "
   ]
  },
  {
   "cell_type": "code",
   "execution_count": 10,
   "id": "465ffa1e",
   "metadata": {},
   "outputs": [
    {
     "data": {
      "text/plain": [
       "array([284.00723663, 257.06263887, 223.38189167, 189.70114447,\n",
       "       156.02039727, 122.33965007,  88.65890287,  54.97815567,\n",
       "        21.29740847, -12.38333873, -46.06408593])"
      ]
     },
     "execution_count": 10,
     "metadata": {},
     "output_type": "execute_result"
    }
   ],
   "source": [
    "predicted_y"
   ]
  },
  {
   "cell_type": "markdown",
   "id": "34b346fc",
   "metadata": {},
   "source": [
    "#### Error terms"
   ]
  },
  {
   "cell_type": "code",
   "execution_count": 11,
   "id": "6ac1e752",
   "metadata": {},
   "outputs": [
    {
     "data": {
      "text/plain": [
       "array([123.99276337,  14.93736113, -27.38189167, -52.70114447,\n",
       "       -66.02039727, -44.33965007, -37.65890287, -14.97815567,\n",
       "         8.70259153,  34.38333873,  61.06408593])"
      ]
     },
     "execution_count": 11,
     "metadata": {},
     "output_type": "execute_result"
    }
   ],
   "source": [
    "error = y - predicted_y\n",
    "error"
   ]
  },
  {
   "cell_type": "markdown",
   "id": "3632c298",
   "metadata": {},
   "source": [
    "#### Standardized error"
   ]
  },
  {
   "cell_type": "code",
   "execution_count": 12,
   "id": "51e9a55b",
   "metadata": {},
   "outputs": [],
   "source": [
    "standardized_error = (error - np.mean(error))/(np.std(error))"
   ]
  },
  {
   "cell_type": "markdown",
   "id": "f8d6084e",
   "metadata": {},
   "source": [
    "#### Plot of x vs error"
   ]
  },
  {
   "cell_type": "code",
   "execution_count": 13,
   "id": "445d2ab1",
   "metadata": {},
   "outputs": [
    {
     "data": {
      "text/plain": [
       "<matplotlib.collections.PathCollection at 0x23903e96b48>"
      ]
     },
     "execution_count": 13,
     "metadata": {},
     "output_type": "execute_result"
    },
    {
     "data": {
      "image/png": "[encoded data removed]",
      "text/plain": [
       "<Figure size 640x480 with 1 Axes>"
      ]
     },
     "metadata": {},
     "output_type": "display_data"
    }
   ],
   "source": [
    "plt.scatter(x,standardized_error)"
   ]
  },
  {
   "cell_type": "markdown",
   "id": "b401d88d",
   "metadata": {},
   "source": [
    "### $R^2 $ Value"
   ]
  },
  {
   "cell_type": "code",
   "execution_count": 14,
   "id": "61d9e6fd",
   "metadata": {},
   "outputs": [],
   "source": [
    "total_variance = np.sum((y-np.mean(y))**2)"
   ]
  },
  {
   "cell_type": "code",
   "execution_count": 15,
   "id": "1573a521",
   "metadata": {},
   "outputs": [],
   "source": [
    "unexplained_variance = np.sum((y -predicted_y)**2) "
   ]
  },
  {
   "cell_type": "code",
   "execution_count": 16,
   "id": "129e8416",
   "metadata": {},
   "outputs": [],
   "source": [
    "proportion_of_unexplained_variance = unexplained_variance/total_variance"
   ]
  },
  {
   "cell_type": "markdown",
   "id": "d5afdddc",
   "metadata": {},
   "source": [
    "$R^2$ is proportion of explained variance"
   ]
  },
  {
   "cell_type": "code",
   "execution_count": 17,
   "id": "7481f763",
   "metadata": {},
   "outputs": [],
   "source": [
    "r_square = 1 - proportion_of_unexplained_variance"
   ]
  },
  {
   "cell_type": "code",
   "execution_count": 18,
   "id": "ddffb432",
   "metadata": {},
   "outputs": [
    {
     "name": "stdout",
     "output_type": "stream",
     "text": [
      "0.7925522314856495\n"
     ]
    }
   ],
   "source": [
    "print(r_square)"
   ]
  },
  {
   "cell_type": "markdown",
   "id": "a3418b45",
   "metadata": {},
   "source": [
    "Scatter plot of x vs standardized error and low $R^2$ shows the linear model $y = \\beta_0 + \\beta_1 x$ is a not a good fit"
   ]
  },
  {
   "cell_type": "markdown",
   "id": "bf47e2cf",
   "metadata": {},
   "source": [
    "## Let us try create a function that do linear reression "
   ]
  },
  {
   "cell_type": "markdown",
   "id": "15992d71",
   "metadata": {},
   "source": [
    "#### The following function gives coefficients of regression and $ R^2 $ value as output"
   ]
  },
  {
   "cell_type": "code",
   "execution_count": 19,
   "id": "080513aa",
   "metadata": {},
   "outputs": [],
   "source": [
    "# Let us combine above codes into a single function"
   ]
  },
  {
   "cell_type": "code",
   "execution_count": 20,
   "id": "135a3ed4",
   "metadata": {},
   "outputs": [],
   "source": [
    "# To fit y = beta_0 + beta_1 x\n",
    "# beta_0 and beta_1 are regression coefficients we need to estimate through the function\n",
    "\n",
    "def LinearRegression(x,y):\n",
    "    \n",
    "    # Ensure x and y are numpy arrays\n",
    "    x = np.array(x)\n",
    "    y = np.array(y)\n",
    "    \n",
    "\n",
    "    \n",
    "    # Constants for normal equation\n",
    "    sum_x = np.sum(x)\n",
    "    sum_y =np.sum(y)\n",
    "\n",
    "    n = len(x)\n",
    "\n",
    "    sum_xy = np.sum(x*y)\n",
    "\n",
    "    sum_x_square = np.sum(x**2)\n",
    "    \n",
    "    # Solving the normal equations to find coefficients\n",
    "    a = np.array([[n, sum_x], [sum_x, sum_x_square]])\n",
    "    b = np.array([sum_y, sum_xy])\n",
    "    coefficients = np.linalg.solve(a, b)  # return in the order intercept and slope\n",
    "    \n",
    "    # Define predicted y\n",
    "    predicted_y =  coefficients[0] +coefficients[1]*x  # line = intercept + slope (x)  i.e, y = beta_0 + beta_1 x\n",
    "    \n",
    "    # Error\n",
    "    error = y - predicted_y\n",
    "    \n",
    "    # To Calculate R^2\n",
    "    total_variance = np.sum((y-np.mean(y))**2)\n",
    "    \n",
    "    unexplained_variance = np.sum((y -predicted_y)**2)\n",
    "    \n",
    "    proportion_of_unexplained_variance = unexplained_variance/total_variance\n",
    "    \n",
    "    r_square = 1 - proportion_of_unexplained_variance\n",
    "    \n",
    "    return coefficients, r_square\n"
   ]
  },
  {
   "cell_type": "code",
   "execution_count": 21,
   "id": "84cabf8b",
   "metadata": {},
   "outputs": [],
   "source": [
    "x = np.array([2, 10, 20, 30, 40, 50, 60, 70, 80, 90, 100])\n",
    "y = np.array([408, 272, 196, 137, 90, 78, 51, 40, 30, 22, 15])"
   ]
  },
  {
   "cell_type": "code",
   "execution_count": 22,
   "id": "2246e54c",
   "metadata": {},
   "outputs": [],
   "source": [
    "coef, square_r = LinearRegression(x,y)"
   ]
  },
  {
   "cell_type": "code",
   "execution_count": 23,
   "id": "de24fabf",
   "metadata": {},
   "outputs": [
    {
     "name": "stdout",
     "output_type": "stream",
     "text": [
      "[290.74338607  -3.36807472]\n",
      "0.7925522314856495\n"
     ]
    }
   ],
   "source": [
    "print(coef)\n",
    "print(square_r)"
   ]
  },
  {
   "cell_type": "code",
   "execution_count": 24,
   "id": "c4f994a1",
   "metadata": {},
   "outputs": [],
   "source": [
    "# New Data\n",
    "X = [132.0,129.0,120.0,113.2,105.0,92.0,84.0,83.2,88.4,59.0,80.0,81.5,71.0,69.2]\n",
    "Y = [46.0,48.0, 51.0,52.1,54.0,52.0,59.0,58.7,61.6,64.0,61.4,54.6,58.8,58.0]"
   ]
  },
  {
   "cell_type": "code",
   "execution_count": 25,
   "id": "e3d88af7",
   "metadata": {},
   "outputs": [],
   "source": [
    "coef, square_r = LinearRegression(X,Y)"
   ]
  },
  {
   "cell_type": "code",
   "execution_count": 26,
   "id": "b344e415",
   "metadata": {},
   "outputs": [
    {
     "name": "stdout",
     "output_type": "stream",
     "text": [
      "[75.21243193 -0.20938742]\n",
      "0.7907602362991257\n"
     ]
    }
   ],
   "source": [
    "print(coef)\n",
    "print(square_r)"
   ]
  },
  {
   "cell_type": "code",
   "execution_count": null,
   "id": "76fee876",
   "metadata": {},
   "outputs": [],
   "source": []
  },
  {
   "cell_type": "markdown",
   "id": "ce018a68",
   "metadata": {},
   "source": [
    "----\n",
    "---"
   ]
  },
  {
   "cell_type": "markdown",
   "id": "1a5a90da",
   "metadata": {},
   "source": [
    "## <font color = DarkGreen> EXAMPLE 2 : MATRIX FORM"
   ]
  },
  {
   "cell_type": "markdown",
   "id": "eba522aa",
   "metadata": {},
   "source": [
    "### QUESTION\n",
    "\n",
    "For the below data find the coeffieceints of linear regression using matrix form."
   ]
  },
  {
   "cell_type": "markdown",
   "id": "b3795ad4",
   "metadata": {},
   "source": [
    "- This is an example from Hands-On_Machine_Learning_with_Scikit-Learn-Keras-and-TensorFlow-2nd-Edition-Aurelien-Geron"
   ]
  },
  {
   "cell_type": "code",
   "execution_count": 27,
   "id": "eda65839",
   "metadata": {},
   "outputs": [],
   "source": [
    "# Randomly generated dataset\n",
    "\n",
    "X = 2 * np.random.rand(100, 1)\n",
    "y = 4 + 3 * X + np.random.randn(100, 1)"
   ]
  },
  {
   "cell_type": "code",
   "execution_count": 28,
   "id": "560c1177",
   "metadata": {},
   "outputs": [
    {
     "data": {
      "text/plain": [
       "<AxesSubplot:>"
      ]
     },
     "execution_count": 28,
     "metadata": {},
     "output_type": "execute_result"
    },
    {
     "data": {
      "image/png": "[encoded data removed]",
      "text/plain": [
       "<Figure size 600x400 with 1 Axes>"
      ]
     },
     "metadata": {},
     "output_type": "display_data"
    }
   ],
   "source": [
    "plt.figure(figsize=(6,4))\n",
    "sns.scatterplot(x=X.flatten(), y=y.flatten(), color='b', label='Data points')"
   ]
  },
  {
   "cell_type": "markdown",
   "id": "743c3a03",
   "metadata": {},
   "source": [
    "### ANSWER"
   ]
  },
  {
   "cell_type": "markdown",
   "id": "d7d500e9",
   "metadata": {},
   "source": [
    "Let $y = \\beta_0 + \\beta_1 x $\n",
    "\n",
    "\n",
    "Now predicted values corresponding to $x_i$ is $\\hat{y_i} = \\beta_0 1 + \\beta_1 x_i$\n",
    "\n",
    "\n",
    "Now if we have $N$ observations rewriting this \n",
    "\n",
    "$$\\hat{y_1} = \\beta_0 1 + \\beta_1 x_1$$\n",
    "$$\\hat{y_2} = \\beta_0 1 + \\beta_1 x_2$$\n",
    "$$\\hat{y_3} = \\beta_0 1 + \\beta_1 x_3$$\n",
    "$$.$$\n",
    "$$.$$\n",
    "$$.$$\n",
    "$$\\hat{y_N} = \\beta_0 1 + \\beta_1 x_N$$\n",
    "\n",
    "Let us define the matrix form \n",
    "\n",
    "$$\\beta = \\begin{bmatrix}\n",
    "\\beta_0 & \\beta_1 \n",
    "\\end{bmatrix}$$\n"
   ]
  },
  {
   "cell_type": "markdown",
   "id": "01996548",
   "metadata": {},
   "source": [
    "$$X = \\begin{bmatrix}\n",
    "1 & x_1 \\\\\n",
    "1 & x_2\\\\\n",
    "1 & x_3\\\\\n",
    ". & . \\\\\n",
    ". & . \\\\\n",
    "1 & x_N\n",
    "\\end{bmatrix}$$\n"
   ]
  },
  {
   "cell_type": "markdown",
   "id": "ac4be1d6",
   "metadata": {},
   "source": [
    "and $$Y =  \\begin{bmatrix}\n",
    "\\hat{y_1} \\\\\n",
    "\\hat{y_2}\\\\\n",
    ".\\\\\n",
    ".\\\\\n",
    "\\hat{y_N}\n",
    "\\end{bmatrix}$$"
   ]
  },
  {
   "cell_type": "markdown",
   "id": "7edaca44",
   "metadata": {},
   "source": [
    "Then $$ Y = \\beta X^T $$"
   ]
  },
  {
   "cell_type": "markdown",
   "id": "5389e762",
   "metadata": {},
   "source": [
    "We need to find $\\beta$ such that minimise $\\sum(y_i - \\hat{y_i})$ gives minimum."
   ]
  },
  {
   "cell_type": "markdown",
   "id": "18d174f1",
   "metadata": {},
   "source": [
    "This gives estimate for matrix $\\beta$ as  $$(X^TX)^{-1}X^TY$$\n",
    "\n",
    "The above step is calculated by taking derivative with respect to $\\beta$"
   ]
  },
  {
   "cell_type": "markdown",
   "id": "a6b539e1",
   "metadata": {},
   "source": [
    "So $$ Estimated \\beta = (X^TX)^{-1}X^TY $$ is the matrix form of ordinary least square linear regression"
   ]
  },
  {
   "cell_type": "markdown",
   "id": "56d12425",
   "metadata": {},
   "source": [
    "#### Code for $Estimated \\beta = (X^TX)^{-1}X^TY$ vector"
   ]
  },
  {
   "cell_type": "code",
   "execution_count": 29,
   "id": "8d36c8e3",
   "metadata": {},
   "outputs": [],
   "source": [
    "# Update X\n",
    "# We need to add a column with all elements equals to one\n",
    "X = np.c_[np.ones((100, 1)), X]"
   ]
  },
  {
   "cell_type": "code",
   "execution_count": 30,
   "id": "920b4851",
   "metadata": {},
   "outputs": [
    {
     "data": {
      "text/plain": [
       "array([[1.        , 0.02643719],\n",
       "       [1.        , 0.76546949],\n",
       "       [1.        , 0.5599497 ],\n",
       "       [1.        , 0.10045297],\n",
       "       [1.        , 1.58605941],\n",
       "       [1.        , 0.96077773],\n",
       "       [1.        , 1.84241427],\n",
       "       [1.        , 1.46008406],\n",
       "       [1.        , 1.65115785],\n",
       "       [1.        , 0.56452654],\n",
       "       [1.        , 1.19339079],\n",
       "       [1.        , 1.66504399],\n",
       "       [1.        , 1.74894075],\n",
       "       [1.        , 1.89663613],\n",
       "       [1.        , 1.32465736],\n",
       "       [1.        , 0.13757349],\n",
       "       [1.        , 0.44871686],\n",
       "       [1.        , 1.22518232],\n",
       "       [1.        , 0.85529441],\n",
       "       [1.        , 0.03928352],\n",
       "       [1.        , 0.7325507 ],\n",
       "       [1.        , 0.40196597],\n",
       "       [1.        , 1.38416733],\n",
       "       [1.        , 0.361673  ],\n",
       "       [1.        , 1.25667366],\n",
       "       [1.        , 0.01533839],\n",
       "       [1.        , 1.07097185],\n",
       "       [1.        , 0.00433694],\n",
       "       [1.        , 1.03055527],\n",
       "       [1.        , 1.59496893],\n",
       "       [1.        , 0.4440075 ],\n",
       "       [1.        , 1.34211607],\n",
       "       [1.        , 1.81303474],\n",
       "       [1.        , 0.07367185],\n",
       "       [1.        , 1.89576196],\n",
       "       [1.        , 1.31144525],\n",
       "       [1.        , 0.70148185],\n",
       "       [1.        , 0.93979484],\n",
       "       [1.        , 0.02526468],\n",
       "       [1.        , 0.79103795],\n",
       "       [1.        , 1.22592166],\n",
       "       [1.        , 1.28046443],\n",
       "       [1.        , 1.64935251],\n",
       "       [1.        , 0.03365369],\n",
       "       [1.        , 1.42967511],\n",
       "       [1.        , 1.49514986],\n",
       "       [1.        , 1.9257897 ],\n",
       "       [1.        , 1.17135426],\n",
       "       [1.        , 1.53364702],\n",
       "       [1.        , 1.17609415],\n",
       "       [1.        , 1.49955912],\n",
       "       [1.        , 0.54471018],\n",
       "       [1.        , 1.27441641],\n",
       "       [1.        , 1.42744942],\n",
       "       [1.        , 1.36716361],\n",
       "       [1.        , 0.54626961],\n",
       "       [1.        , 0.35725555],\n",
       "       [1.        , 1.49614674],\n",
       "       [1.        , 1.9487864 ],\n",
       "       [1.        , 1.522774  ],\n",
       "       [1.        , 1.57418467],\n",
       "       [1.        , 0.18670497],\n",
       "       [1.        , 0.0264077 ],\n",
       "       [1.        , 1.84452391],\n",
       "       [1.        , 1.22581424],\n",
       "       [1.        , 1.59689384],\n",
       "       [1.        , 0.589426  ],\n",
       "       [1.        , 1.15596711],\n",
       "       [1.        , 0.32810424],\n",
       "       [1.        , 1.25594763],\n",
       "       [1.        , 0.58619791],\n",
       "       [1.        , 0.05321643],\n",
       "       [1.        , 1.7639215 ],\n",
       "       [1.        , 0.62656663],\n",
       "       [1.        , 0.33357486],\n",
       "       [1.        , 1.02802895],\n",
       "       [1.        , 1.12746616],\n",
       "       [1.        , 1.99747002],\n",
       "       [1.        , 1.53787434],\n",
       "       [1.        , 1.74349359],\n",
       "       [1.        , 1.84494274],\n",
       "       [1.        , 1.87819111],\n",
       "       [1.        , 0.03323245],\n",
       "       [1.        , 1.68474391],\n",
       "       [1.        , 0.84816322],\n",
       "       [1.        , 0.95283549],\n",
       "       [1.        , 1.85501334],\n",
       "       [1.        , 0.18213796],\n",
       "       [1.        , 0.11707278],\n",
       "       [1.        , 1.88787091],\n",
       "       [1.        , 1.96138245],\n",
       "       [1.        , 1.71487656],\n",
       "       [1.        , 1.07005573],\n",
       "       [1.        , 1.5206681 ],\n",
       "       [1.        , 1.21404589],\n",
       "       [1.        , 0.63062974],\n",
       "       [1.        , 1.75513957],\n",
       "       [1.        , 0.76474032],\n",
       "       [1.        , 1.9538424 ],\n",
       "       [1.        , 1.55559255]])"
      ]
     },
     "execution_count": 30,
     "metadata": {},
     "output_type": "execute_result"
    }
   ],
   "source": [
    "X"
   ]
  },
  {
   "cell_type": "code",
   "execution_count": 31,
   "id": "da333db4",
   "metadata": {},
   "outputs": [
    {
     "data": {
      "text/plain": [
       "(100, 2)"
      ]
     },
     "execution_count": 31,
     "metadata": {},
     "output_type": "execute_result"
    }
   ],
   "source": [
    "X.shape"
   ]
  },
  {
   "cell_type": "code",
   "execution_count": 32,
   "id": "ec30a27b",
   "metadata": {},
   "outputs": [],
   "source": [
    "# Transpose of X\n",
    "X_transpose = X.T"
   ]
  },
  {
   "cell_type": "code",
   "execution_count": 33,
   "id": "6e27b832",
   "metadata": {},
   "outputs": [
    {
     "data": {
      "text/plain": [
       "(2, 100)"
      ]
     },
     "execution_count": 33,
     "metadata": {},
     "output_type": "execute_result"
    }
   ],
   "source": [
    "X_transpose.shape "
   ]
  },
  {
   "cell_type": "code",
   "execution_count": 34,
   "id": "b42cac2b",
   "metadata": {},
   "outputs": [
    {
     "data": {
      "text/plain": [
       "array([[100.        , 108.15546293],\n",
       "       [108.15546293, 154.97413426]])"
      ]
     },
     "execution_count": 34,
     "metadata": {},
     "output_type": "execute_result"
    }
   ],
   "source": [
    "#product of two matrices using numpy.dot(,)\n",
    "# (X^T X)\n",
    "np.dot(X_transpose,X)"
   ]
  },
  {
   "cell_type": "markdown",
   "id": "4785471b",
   "metadata": {},
   "source": [
    "Now  of $(X^T X)^{-1}$ using linalg module"
   ]
  },
  {
   "cell_type": "code",
   "execution_count": 35,
   "id": "72b2cf66",
   "metadata": {},
   "outputs": [
    {
     "data": {
      "text/plain": [
       "array([[ 0.04078471, -0.02846339],\n",
       "       [-0.02846339,  0.02631711]])"
      ]
     },
     "execution_count": 35,
     "metadata": {},
     "output_type": "execute_result"
    }
   ],
   "source": [
    "la.inv(np.dot(X_transpose,X))"
   ]
  },
  {
   "cell_type": "markdown",
   "id": "174d5f41",
   "metadata": {},
   "source": [
    "Now $X^TY$"
   ]
  },
  {
   "cell_type": "code",
   "execution_count": 36,
   "id": "75c8f054",
   "metadata": {},
   "outputs": [
    {
     "data": {
      "text/plain": [
       "array([[736.39944453],\n",
       "       [910.92507414]])"
      ]
     },
     "execution_count": 36,
     "metadata": {},
     "output_type": "execute_result"
    }
   ],
   "source": [
    "np.dot(X_transpose,y)"
   ]
  },
  {
   "cell_type": "markdown",
   "id": "da9c7857",
   "metadata": {},
   "source": [
    "now $(X^T X)^{-1} X^TY$"
   ]
  },
  {
   "cell_type": "code",
   "execution_count": 37,
   "id": "3e01f2de",
   "metadata": {},
   "outputs": [],
   "source": [
    "beta = np.dot(la.inv(np.dot(X_transpose,X)),np.dot(X_transpose,y))"
   ]
  },
  {
   "cell_type": "code",
   "execution_count": 38,
   "id": "a602c166",
   "metadata": {},
   "outputs": [
    {
     "data": {
      "text/plain": [
       "array([[4.10582274],\n",
       "       [3.01248926]])"
      ]
     },
     "execution_count": 38,
     "metadata": {},
     "output_type": "execute_result"
    }
   ],
   "source": [
    "beta"
   ]
  },
  {
   "cell_type": "markdown",
   "id": "184f3aa5",
   "metadata": {},
   "source": [
    "$\\beta_0$ is first since 1 matrix is first column in X "
   ]
  },
  {
   "cell_type": "code",
   "execution_count": 39,
   "id": "6fa798ee",
   "metadata": {},
   "outputs": [
    {
     "name": "stdout",
     "output_type": "stream",
     "text": [
      "Constant(intercept) term is  [4.10582274]\n",
      "Slope term is  [3.01248926]\n"
     ]
    }
   ],
   "source": [
    "print('Constant(intercept) term is ', beta[0])\n",
    "print('Slope term is ', beta[1])"
   ]
  },
  {
   "cell_type": "markdown",
   "id": "0ff18191",
   "metadata": {},
   "source": [
    "The above calculated $\\beta_0$ and  $\\beta_1$ is consistent with stimulated formula $y = 4 + 3 * X + np.random.randn(100, 1)$"
   ]
  },
  {
   "cell_type": "markdown",
   "id": "cdf40dd0",
   "metadata": {},
   "source": [
    "---------\n",
    "----------"
   ]
  },
  {
   "cell_type": "markdown",
   "id": "761e3b13",
   "metadata": {},
   "source": [
    "# MULTIPLE LINEAR REGRESSION "
   ]
  },
  {
   "cell_type": "markdown",
   "id": "eff8258e",
   "metadata": {},
   "source": [
    "## <font color = DarkGreen> EXAMPLE 2 : MATRIX FORM"
   ]
  },
  {
   "cell_type": "code",
   "execution_count": 40,
   "id": "4fcad9da",
   "metadata": {},
   "outputs": [
    {
     "data": {
      "text/html": [
       "<div>\n",
       "<style scoped>\n",
       "    .dataframe tbody tr th:only-of-type {\n",
       "        vertical-align: middle;\n",
       "    }\n",
       "\n",
       "    .dataframe tbody tr th {\n",
       "        vertical-align: top;\n",
       "    }\n",
       "\n",
       "    .dataframe thead th {\n",
       "        text-align: right;\n",
       "    }\n",
       "</style>\n",
       "<table border=\"1\" class=\"dataframe\">\n",
       "  <thead>\n",
       "    <tr style=\"text-align: right;\">\n",
       "      <th></th>\n",
       "      <th>Force</th>\n",
       "      <th>Power</th>\n",
       "      <th>Temperature</th>\n",
       "      <th>Time</th>\n",
       "      <th>Strength</th>\n",
       "    </tr>\n",
       "  </thead>\n",
       "  <tbody>\n",
       "    <tr>\n",
       "      <th>0</th>\n",
       "      <td>30</td>\n",
       "      <td>60</td>\n",
       "      <td>175</td>\n",
       "      <td>15</td>\n",
       "      <td>26.2</td>\n",
       "    </tr>\n",
       "    <tr>\n",
       "      <th>1</th>\n",
       "      <td>40</td>\n",
       "      <td>60</td>\n",
       "      <td>175</td>\n",
       "      <td>15</td>\n",
       "      <td>26.3</td>\n",
       "    </tr>\n",
       "    <tr>\n",
       "      <th>2</th>\n",
       "      <td>30</td>\n",
       "      <td>90</td>\n",
       "      <td>175</td>\n",
       "      <td>15</td>\n",
       "      <td>39.8</td>\n",
       "    </tr>\n",
       "    <tr>\n",
       "      <th>3</th>\n",
       "      <td>40</td>\n",
       "      <td>90</td>\n",
       "      <td>175</td>\n",
       "      <td>15</td>\n",
       "      <td>39.7</td>\n",
       "    </tr>\n",
       "    <tr>\n",
       "      <th>4</th>\n",
       "      <td>30</td>\n",
       "      <td>60</td>\n",
       "      <td>225</td>\n",
       "      <td>15</td>\n",
       "      <td>38.6</td>\n",
       "    </tr>\n",
       "  </tbody>\n",
       "</table>\n",
       "</div>"
      ],
      "text/plain": [
       "   Force  Power  Temperature  Time  Strength\n",
       "0     30     60          175    15      26.2\n",
       "1     40     60          175    15      26.3\n",
       "2     30     90          175    15      39.8\n",
       "3     40     90          175    15      39.7\n",
       "4     30     60          225    15      38.6"
      ]
     },
     "execution_count": 40,
     "metadata": {},
     "output_type": "execute_result"
    }
   ],
   "source": [
    "data = [\n",
    "    [30, 60, 175, 15, 26.2],\n",
    "    [40, 60, 175, 15, 26.3],\n",
    "    [30, 90, 175, 15, 39.8],\n",
    "    [40, 90, 175, 15, 39.7],\n",
    "    [30, 60, 225, 15, 38.6],\n",
    "    [40, 60, 225, 15, 35.5],\n",
    "    [30, 90, 225, 15, 48.8],\n",
    "    [40, 90, 225, 15, 37.8],\n",
    "    [30, 60, 175, 25, 26.6],\n",
    "    [40, 60, 175, 25, 23.4],\n",
    "    [30, 90, 175, 25, 38.6],\n",
    "    [40, 90, 175, 25, 52.1],\n",
    "    [30, 60, 225, 25, 39.5],\n",
    "    [40, 60, 225, 25, 32.3],\n",
    "    [30, 90, 225, 25, 43.0],\n",
    "    [40, 90, 225, 25, 56.0],\n",
    "    [25, 75, 200, 20, 35.2],\n",
    "    [45, 75, 200, 20, 46.9],\n",
    "    [35, 45, 200, 20, 22.7],\n",
    "    [35, 105, 200, 20, 58.7],\n",
    "    [35, 75, 150, 20, 34.5],\n",
    "    [35, 75, 250, 20, 44.0],\n",
    "    [35, 75, 200, 10, 35.7],\n",
    "    [35, 75, 200, 30, 41.8],\n",
    "    [35, 75, 200, 20, 36.5],\n",
    "    [35, 75, 200, 20, 37.6],\n",
    "    [35, 75, 200, 20, 40.3],\n",
    "    [35, 75, 200, 20, 46.0],\n",
    "    [35, 75, 200, 20, 27.8],\n",
    "    [35, 75, 200, 20, 40.3]\n",
    "       ]\n",
    "\n",
    "df = pd.DataFrame(data, columns=[\n",
    "    'Force', 'Power', 'Temperature', 'Time', 'Strength'])\n",
    "\n",
    "df.head()"
   ]
  },
  {
   "cell_type": "code",
   "execution_count": 41,
   "id": "0f6ae353",
   "metadata": {},
   "outputs": [],
   "source": [
    "X = df[['Force','Power','Temperature','Time']]\n",
    "y = df[['Strength']]"
   ]
  },
  {
   "cell_type": "code",
   "execution_count": 42,
   "id": "8288821a",
   "metadata": {},
   "outputs": [],
   "source": [
    "# Convert the DataFrame to a NumPy array\n",
    "X = X.to_numpy()\n",
    "y = y.to_numpy()"
   ]
  },
  {
   "cell_type": "code",
   "execution_count": 43,
   "id": "ccf483ab",
   "metadata": {},
   "outputs": [
    {
     "data": {
      "text/plain": [
       "(30, 4)"
      ]
     },
     "execution_count": 43,
     "metadata": {},
     "output_type": "execute_result"
    }
   ],
   "source": [
    "X.shape"
   ]
  },
  {
   "cell_type": "code",
   "execution_count": 44,
   "id": "99d08a66",
   "metadata": {},
   "outputs": [],
   "source": [
    "X = np.c_[np.ones((30, 1)), X]"
   ]
  },
  {
   "cell_type": "code",
   "execution_count": 45,
   "id": "5aa6a011",
   "metadata": {},
   "outputs": [
    {
     "data": {
      "text/plain": [
       "(30, 5)"
      ]
     },
     "execution_count": 45,
     "metadata": {},
     "output_type": "execute_result"
    }
   ],
   "source": [
    "X.shape"
   ]
  },
  {
   "cell_type": "code",
   "execution_count": 46,
   "id": "8bcb0969",
   "metadata": {},
   "outputs": [],
   "source": [
    "# Transpose of X\n",
    "X_transpose = X.T"
   ]
  },
  {
   "cell_type": "code",
   "execution_count": 47,
   "id": "ee737185",
   "metadata": {},
   "outputs": [],
   "source": [
    "beta = np.dot(la.inv(np.dot(X_transpose,X)),np.dot(X_transpose,y))"
   ]
  },
  {
   "cell_type": "code",
   "execution_count": 48,
   "id": "09ac7325",
   "metadata": {},
   "outputs": [
    {
     "data": {
      "text/plain": [
       "array([[-37.47666667],\n",
       "       [  0.21166667],\n",
       "       [  0.49833333],\n",
       "       [  0.12966667],\n",
       "       [  0.25833333]])"
      ]
     },
     "execution_count": 48,
     "metadata": {},
     "output_type": "execute_result"
    }
   ],
   "source": [
    "beta"
   ]
  },
  {
   "cell_type": "code",
   "execution_count": 49,
   "id": "5546c89e",
   "metadata": {},
   "outputs": [
    {
     "name": "stdout",
     "output_type": "stream",
     "text": [
      "Constant term is [-37.47666667]\n",
      "Coefficient for Force  [0.21166667]\n",
      "Coefficeint for Power  [0.49833333]\n",
      "Coefficeint for Temperature  [0.12966667]\n",
      "Coefficeint for Time  [0.25833333]\n"
     ]
    }
   ],
   "source": [
    "print(\"Constant term is\", beta[0])\n",
    "print('Coefficient for Force ', beta[1])\n",
    "print(\"Coefficeint for Power \",beta[2])\n",
    "print(\"Coefficeint for Temperature \",beta[3])\n",
    "print(\"Coefficeint for Time \",beta[4])"
   ]
  },
  {
   "cell_type": "markdown",
   "id": "e129b020",
   "metadata": {},
   "source": [
    "# <font color = DarkGreen> Let us try to define a function that take X and y as subdataframe and then gives the coefficients of regresssion "
   ]
  },
  {
   "cell_type": "code",
   "execution_count": 52,
   "id": "7f1d9408",
   "metadata": {},
   "outputs": [],
   "source": [
    "# This will work only if the inverse of the matrix exists\n",
    "\n",
    "def Linear_Regression_function(X,y):\n",
    "    # Convert the DataFrame to a NumPy array\n",
    "    X = X.to_numpy()\n",
    "    y = y.to_numpy()\n",
    "    \n",
    "    # Number of raws\n",
    "    raws = X.shape[0]\n",
    "    \n",
    "    # Adding the column with all elements equal to one for constant \n",
    "    X = np.c_[np.ones((raws, 1)), X]\n",
    "    \n",
    "    # Transpose of X\n",
    "    X_transpose = X.T\n",
    "    \n",
    "    # Regression coefficient \n",
    "    beta = np.dot(la.inv(np.dot(X_transpose,X)),np.dot(X_transpose,y))\n",
    "    \n",
    "    \n",
    "    return beta    "
   ]
  },
  {
   "cell_type": "code",
   "execution_count": 53,
   "id": "943c8fac",
   "metadata": {},
   "outputs": [
    {
     "data": {
      "text/plain": [
       "array([[-37.47666667],\n",
       "       [  0.21166667],\n",
       "       [  0.49833333],\n",
       "       [  0.12966667],\n",
       "       [  0.25833333]])"
      ]
     },
     "execution_count": 53,
     "metadata": {},
     "output_type": "execute_result"
    }
   ],
   "source": [
    "X = df[['Force','Power','Temperature','Time']]\n",
    "y = df[['Strength']]\n",
    "\n",
    "Linear_Regression_function(X,y)"
   ]
  },
  {
   "cell_type": "markdown",
   "id": "e9fef526",
   "metadata": {},
   "source": [
    "#### <font color = DarkGReen> NOTE: The LinearRegression() function in Sklear uses Pseudoinverse (Moore-Penrose Pseudoinverse).\n",
    "    \n",
    "The pseudoinverse itself is computed using a standard matrix factorization technique\n",
    "called Singular Value Decomposition (SVD)"
   ]
  },
  {
   "cell_type": "code",
   "execution_count": null,
   "id": "c06e2608",
   "metadata": {},
   "outputs": [],
   "source": []
  }
 ],
 "metadata": {
  "kernelspec": {
   "display_name": "Python 3 (ipykernel)",
   "language": "python",
   "name": "python3"
  },
  "language_info": {
   "codemirror_mode": {
    "name": "ipython",
    "version": 3
   },
   "file_extension": ".py",
   "mimetype": "text/x-python",
   "name": "python",
   "nbconvert_exporter": "python",
   "pygments_lexer": "ipython3",
   "version": "3.7.15"
  }
 },
 "nbformat": 4,
 "nbformat_minor": 5
}
