{
 "cells": [
  {
   "cell_type": "markdown",
   "id": "efc9e27d",
   "metadata": {},
   "source": [
    "# LINEAR REGRESSION "
   ]
  },
  {
   "cell_type": "markdown",
   "id": "7f1dcc59",
   "metadata": {},
   "source": [
    "#### To perform linear regression on this data, and train the model for prediction. After training, evaluate the model with MAE, MSE, and RMSE. \n",
    "\n",
    "####  Also perform Check Homoscedasticity \n",
    "\n",
    "- Homoscedasticity means that the residuals (differences between observed and predicted values) have constant variance across all levels of the predictor"
   ]
  },
  {
   "cell_type": "markdown",
   "id": "0a7c3d5c",
   "metadata": {},
   "source": [
    "## EXAMPLE 1"
   ]
  },
  {
   "cell_type": "code",
   "execution_count": 44,
   "id": "b1c82d99",
   "metadata": {},
   "outputs": [],
   "source": [
    "import pandas as pd\n",
    "import numpy as np\n",
    "import matplotlib.pyplot as plt\n",
    "from scipy.stats import pearsonr\n",
    "import scipy.stats as stats"
   ]
  },
  {
   "cell_type": "code",
   "execution_count": 2,
   "id": "b54cb766",
   "metadata": {},
   "outputs": [],
   "source": [
    "path = \"C:/Users/sidiq/OneDrive/Desktop/Linear-Reg/Linear-Regression/DATA/student_scores.csv\""
   ]
  },
  {
   "cell_type": "code",
   "execution_count": 3,
   "id": "ae7509c6",
   "metadata": {},
   "outputs": [],
   "source": [
    "df = pd.read_csv(path)"
   ]
  },
  {
   "cell_type": "code",
   "execution_count": 4,
   "id": "8bf072c7",
   "metadata": {},
   "outputs": [
    {
     "data": {
      "text/html": [
       "<div>\n",
       "<style scoped>\n",
       "    .dataframe tbody tr th:only-of-type {\n",
       "        vertical-align: middle;\n",
       "    }\n",
       "\n",
       "    .dataframe tbody tr th {\n",
       "        vertical-align: top;\n",
       "    }\n",
       "\n",
       "    .dataframe thead th {\n",
       "        text-align: right;\n",
       "    }\n",
       "</style>\n",
       "<table border=\"1\" class=\"dataframe\">\n",
       "  <thead>\n",
       "    <tr style=\"text-align: right;\">\n",
       "      <th></th>\n",
       "      <th>Hours</th>\n",
       "      <th>Scores</th>\n",
       "    </tr>\n",
       "  </thead>\n",
       "  <tbody>\n",
       "    <tr>\n",
       "      <th>0</th>\n",
       "      <td>2.5</td>\n",
       "      <td>21</td>\n",
       "    </tr>\n",
       "    <tr>\n",
       "      <th>1</th>\n",
       "      <td>5.1</td>\n",
       "      <td>47</td>\n",
       "    </tr>\n",
       "    <tr>\n",
       "      <th>2</th>\n",
       "      <td>3.2</td>\n",
       "      <td>27</td>\n",
       "    </tr>\n",
       "    <tr>\n",
       "      <th>3</th>\n",
       "      <td>8.5</td>\n",
       "      <td>75</td>\n",
       "    </tr>\n",
       "  </tbody>\n",
       "</table>\n",
       "</div>"
      ],
      "text/plain": [
       "   Hours  Scores\n",
       "0    2.5      21\n",
       "1    5.1      47\n",
       "2    3.2      27\n",
       "3    8.5      75"
      ]
     },
     "execution_count": 4,
     "metadata": {},
     "output_type": "execute_result"
    }
   ],
   "source": [
    "df.head(4)"
   ]
  },
  {
   "cell_type": "code",
   "execution_count": 5,
   "id": "7370fb96",
   "metadata": {},
   "outputs": [
    {
     "data": {
      "text/plain": [
       "(25, 2)"
      ]
     },
     "execution_count": 5,
     "metadata": {},
     "output_type": "execute_result"
    }
   ],
   "source": [
    "df.shape"
   ]
  },
  {
   "cell_type": "code",
   "execution_count": 6,
   "id": "464a052d",
   "metadata": {},
   "outputs": [
    {
     "data": {
      "text/plain": [
       "Hours     0\n",
       "Scores    0\n",
       "dtype: int64"
      ]
     },
     "execution_count": 6,
     "metadata": {},
     "output_type": "execute_result"
    }
   ],
   "source": [
    "df.isnull().sum()"
   ]
  },
  {
   "cell_type": "code",
   "execution_count": 7,
   "id": "4f1ce6a3",
   "metadata": {},
   "outputs": [
    {
     "data": {
      "image/png": "[encoded data removed]",
      "text/plain": [
       "<Figure size 640x480 with 1 Axes>"
      ]
     },
     "metadata": {},
     "output_type": "display_data"
    }
   ],
   "source": [
    "plt.scatter(df['Hours'], y = df['Scores'])\n",
    "plt.title(\"Simple Scatter Plot\")\n",
    "plt.xlabel(\"Hours\")\n",
    "plt.ylabel(\"Scores\")\n",
    "plt.show()"
   ]
  },
  {
   "cell_type": "code",
   "execution_count": 8,
   "id": "f814f393",
   "metadata": {},
   "outputs": [
    {
     "name": "stdout",
     "output_type": "stream",
     "text": [
      "           Hours    Scores\n",
      "Hours   1.000000  0.976191\n",
      "Scores  0.976191  1.000000\n"
     ]
    }
   ],
   "source": [
    "correlation_matrix = df.corr()\n",
    "print(correlation_matrix)"
   ]
  },
  {
   "cell_type": "markdown",
   "id": "4cf39ccb",
   "metadata": {},
   "source": [
    "##### The correlation coefficient between the number of hours spent studying and the scores obtained is 0.97. This indicates a strong linear relationship between the two variables, suggesting that as the number of hours spent studying increases, the scores tend to increase as well."
   ]
  },
  {
   "cell_type": "code",
   "execution_count": 9,
   "id": "71150939",
   "metadata": {},
   "outputs": [],
   "source": [
    "X = df['Hours'].values\n",
    "Y = df['Scores'].values"
   ]
  },
  {
   "cell_type": "code",
   "execution_count": 10,
   "id": "d78fc1e0",
   "metadata": {},
   "outputs": [],
   "source": [
    "X = X.reshape(-1,1)"
   ]
  },
  {
   "cell_type": "code",
   "execution_count": 11,
   "id": "9ffb2f52",
   "metadata": {},
   "outputs": [],
   "source": [
    "Y = Y.reshape(-1,1)"
   ]
  },
  {
   "cell_type": "code",
   "execution_count": 12,
   "id": "c7a45b29",
   "metadata": {},
   "outputs": [],
   "source": [
    "from sklearn.model_selection import train_test_split"
   ]
  },
  {
   "cell_type": "code",
   "execution_count": 13,
   "id": "9a2d6c02",
   "metadata": {},
   "outputs": [],
   "source": [
    "X_test, X_train, y_test , y_train = train_test_split(X,Y, test_size=0.4, random_state=0)"
   ]
  },
  {
   "cell_type": "code",
   "execution_count": 14,
   "id": "8c3ceeb3",
   "metadata": {},
   "outputs": [
    {
     "data": {
      "text/plain": [
       "LinearRegression()"
      ]
     },
     "execution_count": 14,
     "metadata": {},
     "output_type": "execute_result"
    }
   ],
   "source": [
    "from sklearn.linear_model import LinearRegression\n",
    "regressor = LinearRegression()\n",
    "regressor.fit(X_train,y_train)"
   ]
  },
  {
   "cell_type": "code",
   "execution_count": 15,
   "id": "105833bf",
   "metadata": {},
   "outputs": [],
   "source": [
    "y_pred = regressor.predict(X)"
   ]
  },
  {
   "cell_type": "code",
   "execution_count": 16,
   "id": "9201ac15",
   "metadata": {},
   "outputs": [
    {
     "name": "stdout",
     "output_type": "stream",
     "text": [
      "[[27.85947669]\n",
      " [53.46262999]\n",
      " [34.75263334]\n",
      " [86.94367662]\n",
      " [37.70684334]\n",
      " [18.01211003]\n",
      " [93.83683328]\n",
      " [57.40157665]\n",
      " [84.97420329]\n",
      " [29.82895002]\n",
      " [79.06578329]\n",
      " [61.34052331]\n",
      " [47.55421   ]\n",
      " [35.73737001]\n",
      " [14.07316337]\n",
      " [90.88262328]\n",
      " [27.85947669]\n",
      " [21.95105669]\n",
      " [63.30999665]\n",
      " [76.1115733 ]\n",
      " [29.82895002]\n",
      " [50.50841999]\n",
      " [40.66105334]\n",
      " [71.18788997]\n",
      " [80.05051996]]\n"
     ]
    }
   ],
   "source": [
    "print(y_pred)"
   ]
  },
  {
   "cell_type": "code",
   "execution_count": 17,
   "id": "a272bd58",
   "metadata": {},
   "outputs": [
    {
     "data": {
      "image/png": "[encoded data removed]",
      "text/plain": [
       "<Figure size 640x480 with 1 Axes>"
      ]
     },
     "metadata": {},
     "output_type": "display_data"
    }
   ],
   "source": [
    "plt.scatter(X,Y, color = \"Blue\", label = 'Data')\n",
    "plt.plot(X,y_pred, color ='Red' , label = \"Linear Regression Line\")\n",
    "plt.legend()\n",
    "plt.xlabel('X')\n",
    "plt.ylabel('Y')\n",
    "plt.show()"
   ]
  },
  {
   "cell_type": "code",
   "execution_count": 18,
   "id": "7cff793f",
   "metadata": {},
   "outputs": [
    {
     "name": "stdout",
     "output_type": "stream",
     "text": [
      "Mean Absolute Error is =  4.859304931231131\n"
     ]
    }
   ],
   "source": [
    "from sklearn.metrics import mean_absolute_error \n",
    "\n",
    "mae = mean_absolute_error(Y,y_pred)\n",
    "print(\"Mean Absolute Error is = \" , mae)"
   ]
  },
  {
   "cell_type": "code",
   "execution_count": 19,
   "id": "bbda4d7b",
   "metadata": {},
   "outputs": [
    {
     "name": "stdout",
     "output_type": "stream",
     "text": [
      "Mean Squared Error is =  30.159672050910384\n"
     ]
    }
   ],
   "source": [
    "from sklearn.metrics import mean_squared_error \n",
    "\n",
    "msq = mean_squared_error(Y,y_pred)\n",
    "print(\"Mean Squared Error is = \" , msq)"
   ]
  },
  {
   "cell_type": "code",
   "execution_count": 20,
   "id": "5488f249",
   "metadata": {},
   "outputs": [
    {
     "name": "stdout",
     "output_type": "stream",
     "text": [
      "Root Mean Squared Error is; RMSE =  5.491782229013673\n"
     ]
    }
   ],
   "source": [
    "print(\"Root Mean Squared Error is; RMSE = \" , np.sqrt(msq))"
   ]
  },
  {
   "cell_type": "markdown",
   "id": "7490f66e",
   "metadata": {},
   "source": [
    "### To Check Homoscedasticity \n",
    "\n",
    "- Homoscedasticity means that the residuals (differences between observed and predicted values) have constant variance across all levels of the predicto\n",
    "\n",
    "For this we can make use of following\n",
    "   \n",
    "   - Graphical Test\n",
    "   - Statistical Test"
   ]
  },
  {
   "cell_type": "code",
   "execution_count": 21,
   "id": "389e303c",
   "metadata": {},
   "outputs": [
    {
     "data": {
      "image/png": "[encoded data removed]",
      "text/plain": [
       "<Figure size 640x480 with 1 Axes>"
      ]
     },
     "metadata": {},
     "output_type": "display_data"
    }
   ],
   "source": [
    "### Graphical Test\n",
    "\n",
    "residuals = Y - y_pred\n",
    "\n",
    "plt.scatter(y_pred, residuals)\n",
    "plt.title('Residual Plot')\n",
    "plt.xlabel('Predicted Values')\n",
    "plt.ylabel('Residuals')\n",
    "plt.axhline(y=0, color='red', linestyle='--')\n",
    "plt.show()"
   ]
  },
  {
   "cell_type": "markdown",
   "id": "d40c7db9",
   "metadata": {},
   "source": [
    "------------"
   ]
  },
  {
   "cell_type": "code",
   "execution_count": 22,
   "id": "514676a4",
   "metadata": {},
   "outputs": [],
   "source": [
    "# Statistical Test"
   ]
  },
  {
   "cell_type": "markdown",
   "id": "7b403167",
   "metadata": {},
   "source": [
    "Breusch-Pagan Test: A statistical test for homoscedasticity. It tests the null hypothesis that the variance of the residuals is constant across the range of data."
   ]
  },
  {
   "cell_type": "code",
   "execution_count": 23,
   "id": "9f3f3612",
   "metadata": {
    "scrolled": true
   },
   "outputs": [
    {
     "name": "stdout",
     "output_type": "stream",
     "text": [
      "{'Lagrange multiplier statistic': 2.428072360913072, 'p-value': 0.1191793723864109, 'f-value': 2.4741202964116766, 'f p-value': 0.12939065243841838}\n"
     ]
    }
   ],
   "source": [
    "import statsmodels.api as sm\n",
    "\n",
    "from statsmodels.stats.diagnostic import het_breuschpagan\n",
    "\n",
    "# Perform the test\n",
    "bp_test = het_breuschpagan(residuals, sm.add_constant(X))\n",
    "labels = ['Lagrange multiplier statistic', 'p-value', 'f-value', 'f p-value']\n",
    "print(dict(zip(labels, bp_test)))"
   ]
  },
  {
   "cell_type": "markdown",
   "id": "5444b623",
   "metadata": {},
   "source": [
    "Since p value = 0.1191 > typical 0.05 no evidence against the null hypothesis\n",
    "\n",
    "So we can continue our assumption of homoscedasticity"
   ]
  },
  {
   "cell_type": "markdown",
   "id": "5970f686",
   "metadata": {},
   "source": [
    "## EXAMPLE 2"
   ]
  },
  {
   "cell_type": "markdown",
   "id": "4340fd35",
   "metadata": {},
   "source": [
    "- Fit the model\n",
    "- Find residuals as well as normalised residuals\n",
    "- Plot the graphs\n",
    "    - error (standardized error) vs x values\n",
    "    - error (standardized error) vs predicted y values\n",
    "    - predicted y vs y\n",
    "    - normal probabilistic distribution of normal\n",
    "- Check normality of error terms\n",
    "- Check homoscedasticity "
   ]
  },
  {
   "cell_type": "markdown",
   "id": "8b570344",
   "metadata": {},
   "source": [
    "Here is the data on $x = $ area liberation rate and $ y = NO_x$ emissions. "
   ]
  },
  {
   "cell_type": "markdown",
   "id": "7c601595",
   "metadata": {},
   "source": [
    "$$\n",
    "\\begin{array}{|c|c|c|c|c|c|c|c|c|c|c|c|c|c|}\n",
    "\\hline\n",
    "x & 100 & 125 & 125 & 150 & 150 & 200 & 200 & 250 & 250 & 300 & 300 & 350 & 400 & 400  \\\\\n",
    "\\hline\n",
    "y & 150 & 140 & 180 & 210 & 190 & 320 & 280 & 400 & 430 & 440 & 390 & 600 & 610 & 670 \\\\\n",
    "\\hline\n",
    "\\end{array}\n",
    "$$"
   ]
  },
  {
   "cell_type": "markdown",
   "id": "623af5a3",
   "metadata": {},
   "source": [
    "### Create DataFrame for the Dataset"
   ]
  },
  {
   "cell_type": "code",
   "execution_count": 24,
   "id": "35a5deb9",
   "metadata": {},
   "outputs": [],
   "source": [
    "X = [100 ,125 , 125 , 150 , 150 , 200 , 200 , 250 , 250 , 300 , 300 , 350 , 400 , 400]\n",
    "Y = [150 , 140, 180 , 210 , 190 , 320 , 280 , 400 , 430 , 440 , 390 , 600 , 610 , 670]\n",
    "\n",
    "df = pd.DataFrame({'X': X, 'Y': Y})"
   ]
  },
  {
   "cell_type": "code",
   "execution_count": 25,
   "id": "d9b5b8e9",
   "metadata": {},
   "outputs": [
    {
     "data": {
      "text/html": [
       "<div>\n",
       "<style scoped>\n",
       "    .dataframe tbody tr th:only-of-type {\n",
       "        vertical-align: middle;\n",
       "    }\n",
       "\n",
       "    .dataframe tbody tr th {\n",
       "        vertical-align: top;\n",
       "    }\n",
       "\n",
       "    .dataframe thead th {\n",
       "        text-align: right;\n",
       "    }\n",
       "</style>\n",
       "<table border=\"1\" class=\"dataframe\">\n",
       "  <thead>\n",
       "    <tr style=\"text-align: right;\">\n",
       "      <th></th>\n",
       "      <th>X</th>\n",
       "      <th>Y</th>\n",
       "    </tr>\n",
       "  </thead>\n",
       "  <tbody>\n",
       "    <tr>\n",
       "      <th>0</th>\n",
       "      <td>100</td>\n",
       "      <td>150</td>\n",
       "    </tr>\n",
       "    <tr>\n",
       "      <th>1</th>\n",
       "      <td>125</td>\n",
       "      <td>140</td>\n",
       "    </tr>\n",
       "    <tr>\n",
       "      <th>2</th>\n",
       "      <td>125</td>\n",
       "      <td>180</td>\n",
       "    </tr>\n",
       "    <tr>\n",
       "      <th>3</th>\n",
       "      <td>150</td>\n",
       "      <td>210</td>\n",
       "    </tr>\n",
       "    <tr>\n",
       "      <th>4</th>\n",
       "      <td>150</td>\n",
       "      <td>190</td>\n",
       "    </tr>\n",
       "    <tr>\n",
       "      <th>5</th>\n",
       "      <td>200</td>\n",
       "      <td>320</td>\n",
       "    </tr>\n",
       "    <tr>\n",
       "      <th>6</th>\n",
       "      <td>200</td>\n",
       "      <td>280</td>\n",
       "    </tr>\n",
       "    <tr>\n",
       "      <th>7</th>\n",
       "      <td>250</td>\n",
       "      <td>400</td>\n",
       "    </tr>\n",
       "    <tr>\n",
       "      <th>8</th>\n",
       "      <td>250</td>\n",
       "      <td>430</td>\n",
       "    </tr>\n",
       "    <tr>\n",
       "      <th>9</th>\n",
       "      <td>300</td>\n",
       "      <td>440</td>\n",
       "    </tr>\n",
       "    <tr>\n",
       "      <th>10</th>\n",
       "      <td>300</td>\n",
       "      <td>390</td>\n",
       "    </tr>\n",
       "    <tr>\n",
       "      <th>11</th>\n",
       "      <td>350</td>\n",
       "      <td>600</td>\n",
       "    </tr>\n",
       "    <tr>\n",
       "      <th>12</th>\n",
       "      <td>400</td>\n",
       "      <td>610</td>\n",
       "    </tr>\n",
       "    <tr>\n",
       "      <th>13</th>\n",
       "      <td>400</td>\n",
       "      <td>670</td>\n",
       "    </tr>\n",
       "  </tbody>\n",
       "</table>\n",
       "</div>"
      ],
      "text/plain": [
       "      X    Y\n",
       "0   100  150\n",
       "1   125  140\n",
       "2   125  180\n",
       "3   150  210\n",
       "4   150  190\n",
       "5   200  320\n",
       "6   200  280\n",
       "7   250  400\n",
       "8   250  430\n",
       "9   300  440\n",
       "10  300  390\n",
       "11  350  600\n",
       "12  400  610\n",
       "13  400  670"
      ]
     },
     "execution_count": 25,
     "metadata": {},
     "output_type": "execute_result"
    }
   ],
   "source": [
    "df"
   ]
  },
  {
   "cell_type": "markdown",
   "id": "e9ee5b92",
   "metadata": {},
   "source": [
    "### Scatter plot of the data"
   ]
  },
  {
   "cell_type": "code",
   "execution_count": 26,
   "id": "4ce9dcaa",
   "metadata": {},
   "outputs": [],
   "source": [
    "import seaborn as sns"
   ]
  },
  {
   "cell_type": "code",
   "execution_count": 27,
   "id": "126276a5",
   "metadata": {},
   "outputs": [
    {
     "data": {
      "image/png": "[encoded data removed]",
      "text/plain": [
       "<Figure size 600x400 with 1 Axes>"
      ]
     },
     "metadata": {},
     "output_type": "display_data"
    }
   ],
   "source": [
    "# Plot (X,Y)\n",
    "\n",
    "plt.figure(figsize=(6,4))\n",
    "sns.scatterplot(data=df, x='X', y='Y', s=10, color=\"blue\", marker=\"o\")\n",
    "plt.title(\"Dot Plot of X vs Y\")\n",
    "plt.xlabel(\"X\")\n",
    "plt.ylabel(\"Y\")\n",
    "plt.grid(True)\n",
    "plt.show()"
   ]
  },
  {
   "cell_type": "markdown",
   "id": "dcd62b96",
   "metadata": {},
   "source": [
    "### Fit The Model"
   ]
  },
  {
   "cell_type": "code",
   "execution_count": 28,
   "id": "75388c1f",
   "metadata": {},
   "outputs": [],
   "source": [
    "X = df['X'].values\n",
    "Y = df['Y'].values\n",
    "\n",
    "X = X.reshape(-1,1)\n",
    "Y = Y.reshape(-1,1)"
   ]
  },
  {
   "cell_type": "code",
   "execution_count": 29,
   "id": "e36bfe40",
   "metadata": {},
   "outputs": [
    {
     "data": {
      "text/plain": [
       "LinearRegression()"
      ]
     },
     "execution_count": 29,
     "metadata": {},
     "output_type": "execute_result"
    }
   ],
   "source": [
    "regressor.fit(X,Y)"
   ]
  },
  {
   "cell_type": "markdown",
   "id": "ec3c966b",
   "metadata": {},
   "source": [
    "### Predictions"
   ]
  },
  {
   "cell_type": "code",
   "execution_count": 30,
   "id": "20222a7d",
   "metadata": {},
   "outputs": [],
   "source": [
    "# Predicted values i.e points on the regressive line\n",
    "df['Predicted_Y'] = regressor.predict(X)"
   ]
  },
  {
   "cell_type": "code",
   "execution_count": 31,
   "id": "a0fa5f69",
   "metadata": {},
   "outputs": [
    {
     "data": {
      "text/html": [
       "<div>\n",
       "<style scoped>\n",
       "    .dataframe tbody tr th:only-of-type {\n",
       "        vertical-align: middle;\n",
       "    }\n",
       "\n",
       "    .dataframe tbody tr th {\n",
       "        vertical-align: top;\n",
       "    }\n",
       "\n",
       "    .dataframe thead th {\n",
       "        text-align: right;\n",
       "    }\n",
       "</style>\n",
       "<table border=\"1\" class=\"dataframe\">\n",
       "  <thead>\n",
       "    <tr style=\"text-align: right;\">\n",
       "      <th></th>\n",
       "      <th>X</th>\n",
       "      <th>Y</th>\n",
       "      <th>Predicted_Y</th>\n",
       "    </tr>\n",
       "  </thead>\n",
       "  <tbody>\n",
       "    <tr>\n",
       "      <th>0</th>\n",
       "      <td>100</td>\n",
       "      <td>150</td>\n",
       "      <td>125.591327</td>\n",
       "    </tr>\n",
       "    <tr>\n",
       "      <th>1</th>\n",
       "      <td>125</td>\n",
       "      <td>140</td>\n",
       "      <td>168.377135</td>\n",
       "    </tr>\n",
       "    <tr>\n",
       "      <th>2</th>\n",
       "      <td>125</td>\n",
       "      <td>180</td>\n",
       "      <td>168.377135</td>\n",
       "    </tr>\n",
       "    <tr>\n",
       "      <th>3</th>\n",
       "      <td>150</td>\n",
       "      <td>210</td>\n",
       "      <td>211.162943</td>\n",
       "    </tr>\n",
       "    <tr>\n",
       "      <th>4</th>\n",
       "      <td>150</td>\n",
       "      <td>190</td>\n",
       "      <td>211.162943</td>\n",
       "    </tr>\n",
       "  </tbody>\n",
       "</table>\n",
       "</div>"
      ],
      "text/plain": [
       "     X    Y  Predicted_Y\n",
       "0  100  150   125.591327\n",
       "1  125  140   168.377135\n",
       "2  125  180   168.377135\n",
       "3  150  210   211.162943\n",
       "4  150  190   211.162943"
      ]
     },
     "execution_count": 31,
     "metadata": {},
     "output_type": "execute_result"
    }
   ],
   "source": [
    "df.head()"
   ]
  },
  {
   "cell_type": "markdown",
   "id": "c27bf9a8",
   "metadata": {},
   "source": [
    "### Residuals"
   ]
  },
  {
   "cell_type": "code",
   "execution_count": 32,
   "id": "a13d444d",
   "metadata": {},
   "outputs": [
    {
     "data": {
      "text/html": [
       "<div>\n",
       "<style scoped>\n",
       "    .dataframe tbody tr th:only-of-type {\n",
       "        vertical-align: middle;\n",
       "    }\n",
       "\n",
       "    .dataframe tbody tr th {\n",
       "        vertical-align: top;\n",
       "    }\n",
       "\n",
       "    .dataframe thead th {\n",
       "        text-align: right;\n",
       "    }\n",
       "</style>\n",
       "<table border=\"1\" class=\"dataframe\">\n",
       "  <thead>\n",
       "    <tr style=\"text-align: right;\">\n",
       "      <th></th>\n",
       "      <th>X</th>\n",
       "      <th>Y</th>\n",
       "      <th>Predicted_Y</th>\n",
       "      <th>Residuals</th>\n",
       "    </tr>\n",
       "  </thead>\n",
       "  <tbody>\n",
       "    <tr>\n",
       "      <th>0</th>\n",
       "      <td>100</td>\n",
       "      <td>150</td>\n",
       "      <td>125.591327</td>\n",
       "      <td>24.408673</td>\n",
       "    </tr>\n",
       "    <tr>\n",
       "      <th>1</th>\n",
       "      <td>125</td>\n",
       "      <td>140</td>\n",
       "      <td>168.377135</td>\n",
       "      <td>-28.377135</td>\n",
       "    </tr>\n",
       "    <tr>\n",
       "      <th>2</th>\n",
       "      <td>125</td>\n",
       "      <td>180</td>\n",
       "      <td>168.377135</td>\n",
       "      <td>11.622865</td>\n",
       "    </tr>\n",
       "    <tr>\n",
       "      <th>3</th>\n",
       "      <td>150</td>\n",
       "      <td>210</td>\n",
       "      <td>211.162943</td>\n",
       "      <td>-1.162943</td>\n",
       "    </tr>\n",
       "    <tr>\n",
       "      <th>4</th>\n",
       "      <td>150</td>\n",
       "      <td>190</td>\n",
       "      <td>211.162943</td>\n",
       "      <td>-21.162943</td>\n",
       "    </tr>\n",
       "  </tbody>\n",
       "</table>\n",
       "</div>"
      ],
      "text/plain": [
       "     X    Y  Predicted_Y  Residuals\n",
       "0  100  150   125.591327  24.408673\n",
       "1  125  140   168.377135 -28.377135\n",
       "2  125  180   168.377135  11.622865\n",
       "3  150  210   211.162943  -1.162943\n",
       "4  150  190   211.162943 -21.162943"
      ]
     },
     "execution_count": 32,
     "metadata": {},
     "output_type": "execute_result"
    }
   ],
   "source": [
    "df['Residuals'] = df['Y'] - df['Predicted_Y']\n",
    "df.head()"
   ]
  },
  {
   "cell_type": "markdown",
   "id": "37032e02",
   "metadata": {},
   "source": [
    "### Standardized residuals"
   ]
  },
  {
   "cell_type": "code",
   "execution_count": 33,
   "id": "14698482",
   "metadata": {},
   "outputs": [],
   "source": [
    "import math"
   ]
  },
  {
   "cell_type": "code",
   "execution_count": 34,
   "id": "b8ee5ff8",
   "metadata": {},
   "outputs": [],
   "source": [
    "# df['Normalised Residuals'] = (df['Residuals'])/(df['Residuals'].std()*math.sqrt(1- 1/14 -  ))"
   ]
  },
  {
   "cell_type": "code",
   "execution_count": 35,
   "id": "5c27bc58",
   "metadata": {},
   "outputs": [
    {
     "data": {
      "text/html": [
       "<div>\n",
       "<style scoped>\n",
       "    .dataframe tbody tr th:only-of-type {\n",
       "        vertical-align: middle;\n",
       "    }\n",
       "\n",
       "    .dataframe tbody tr th {\n",
       "        vertical-align: top;\n",
       "    }\n",
       "\n",
       "    .dataframe thead th {\n",
       "        text-align: right;\n",
       "    }\n",
       "</style>\n",
       "<table border=\"1\" class=\"dataframe\">\n",
       "  <thead>\n",
       "    <tr style=\"text-align: right;\">\n",
       "      <th></th>\n",
       "      <th>X</th>\n",
       "      <th>Y</th>\n",
       "      <th>Predicted_Y</th>\n",
       "      <th>Residuals</th>\n",
       "    </tr>\n",
       "  </thead>\n",
       "  <tbody>\n",
       "    <tr>\n",
       "      <th>0</th>\n",
       "      <td>100</td>\n",
       "      <td>150</td>\n",
       "      <td>125.591327</td>\n",
       "      <td>24.408673</td>\n",
       "    </tr>\n",
       "    <tr>\n",
       "      <th>1</th>\n",
       "      <td>125</td>\n",
       "      <td>140</td>\n",
       "      <td>168.377135</td>\n",
       "      <td>-28.377135</td>\n",
       "    </tr>\n",
       "    <tr>\n",
       "      <th>2</th>\n",
       "      <td>125</td>\n",
       "      <td>180</td>\n",
       "      <td>168.377135</td>\n",
       "      <td>11.622865</td>\n",
       "    </tr>\n",
       "    <tr>\n",
       "      <th>3</th>\n",
       "      <td>150</td>\n",
       "      <td>210</td>\n",
       "      <td>211.162943</td>\n",
       "      <td>-1.162943</td>\n",
       "    </tr>\n",
       "    <tr>\n",
       "      <th>4</th>\n",
       "      <td>150</td>\n",
       "      <td>190</td>\n",
       "      <td>211.162943</td>\n",
       "      <td>-21.162943</td>\n",
       "    </tr>\n",
       "  </tbody>\n",
       "</table>\n",
       "</div>"
      ],
      "text/plain": [
       "     X    Y  Predicted_Y  Residuals\n",
       "0  100  150   125.591327  24.408673\n",
       "1  125  140   168.377135 -28.377135\n",
       "2  125  180   168.377135  11.622865\n",
       "3  150  210   211.162943  -1.162943\n",
       "4  150  190   211.162943 -21.162943"
      ]
     },
     "execution_count": 35,
     "metadata": {},
     "output_type": "execute_result"
    }
   ],
   "source": [
    "df.head()"
   ]
  },
  {
   "cell_type": "code",
   "execution_count": 36,
   "id": "06c4d1a9",
   "metadata": {},
   "outputs": [],
   "source": [
    "from sklearn.preprocessing import StandardScaler\n",
    "scaler = StandardScaler()\n",
    "\n",
    "df['Standardized Residuals'] = scaler.fit_transform(df[['Residuals']])"
   ]
  },
  {
   "cell_type": "code",
   "execution_count": 37,
   "id": "bd71d896",
   "metadata": {},
   "outputs": [
    {
     "data": {
      "text/html": [
       "<div>\n",
       "<style scoped>\n",
       "    .dataframe tbody tr th:only-of-type {\n",
       "        vertical-align: middle;\n",
       "    }\n",
       "\n",
       "    .dataframe tbody tr th {\n",
       "        vertical-align: top;\n",
       "    }\n",
       "\n",
       "    .dataframe thead th {\n",
       "        text-align: right;\n",
       "    }\n",
       "</style>\n",
       "<table border=\"1\" class=\"dataframe\">\n",
       "  <thead>\n",
       "    <tr style=\"text-align: right;\">\n",
       "      <th></th>\n",
       "      <th>X</th>\n",
       "      <th>Y</th>\n",
       "      <th>Predicted_Y</th>\n",
       "      <th>Residuals</th>\n",
       "      <th>Standardized Residuals</th>\n",
       "    </tr>\n",
       "  </thead>\n",
       "  <tbody>\n",
       "    <tr>\n",
       "      <th>0</th>\n",
       "      <td>100</td>\n",
       "      <td>150</td>\n",
       "      <td>125.591327</td>\n",
       "      <td>24.408673</td>\n",
       "      <td>0.717427</td>\n",
       "    </tr>\n",
       "    <tr>\n",
       "      <th>1</th>\n",
       "      <td>125</td>\n",
       "      <td>140</td>\n",
       "      <td>168.377135</td>\n",
       "      <td>-28.377135</td>\n",
       "      <td>-0.834069</td>\n",
       "    </tr>\n",
       "    <tr>\n",
       "      <th>2</th>\n",
       "      <td>125</td>\n",
       "      <td>180</td>\n",
       "      <td>168.377135</td>\n",
       "      <td>11.622865</td>\n",
       "      <td>0.341623</td>\n",
       "    </tr>\n",
       "    <tr>\n",
       "      <th>3</th>\n",
       "      <td>150</td>\n",
       "      <td>210</td>\n",
       "      <td>211.162943</td>\n",
       "      <td>-1.162943</td>\n",
       "      <td>-0.034182</td>\n",
       "    </tr>\n",
       "    <tr>\n",
       "      <th>4</th>\n",
       "      <td>150</td>\n",
       "      <td>190</td>\n",
       "      <td>211.162943</td>\n",
       "      <td>-21.162943</td>\n",
       "      <td>-0.622027</td>\n",
       "    </tr>\n",
       "  </tbody>\n",
       "</table>\n",
       "</div>"
      ],
      "text/plain": [
       "     X    Y  Predicted_Y  Residuals  Standardized Residuals\n",
       "0  100  150   125.591327  24.408673                0.717427\n",
       "1  125  140   168.377135 -28.377135               -0.834069\n",
       "2  125  180   168.377135  11.622865                0.341623\n",
       "3  150  210   211.162943  -1.162943               -0.034182\n",
       "4  150  190   211.162943 -21.162943               -0.622027"
      ]
     },
     "execution_count": 37,
     "metadata": {},
     "output_type": "execute_result"
    }
   ],
   "source": [
    "df.head()"
   ]
  },
  {
   "cell_type": "markdown",
   "id": "ee6187f0",
   "metadata": {},
   "source": [
    "### Plot for error (standardized error) vs x values"
   ]
  },
  {
   "cell_type": "code",
   "execution_count": 38,
   "id": "f2789d07",
   "metadata": {},
   "outputs": [
    {
     "data": {
      "image/png": "[encoded data removed]",
      "text/plain": [
       "<Figure size 800x400 with 2 Axes>"
      ]
     },
     "metadata": {},
     "output_type": "display_data"
    }
   ],
   "source": [
    "# Set up the matplotlib figure\n",
    "plt.figure(figsize=(8, 4))\n",
    "\n",
    "# First subplot\n",
    "plt.subplot(1, 2, 1)  # 1 row, 2 columns, first plot\n",
    "sns.scatterplot(x='X', y='Residuals', data=df)\n",
    "plt.title(' X vs Error')\n",
    "plt.xlabel('X')\n",
    "plt.ylabel('Residuals')\n",
    "\n",
    "# Second subplot\n",
    "plt.subplot(1, 2, 2)  # 1 row, 2 columns, second plot\n",
    "sns.scatterplot(x='X', y='Standardized Residuals', data=df)\n",
    "plt.title(' X vs Standardized Residuals')\n",
    "plt.xlabel('X')\n",
    "plt.ylabel('Standardized Residuals')\n",
    "\n",
    "# Show the plots\n",
    "plt.tight_layout()\n",
    "plt.show()"
   ]
  },
  {
   "cell_type": "markdown",
   "id": "a95d10e8",
   "metadata": {},
   "source": [
    "- Both residual plots show no unusual pattern or discrepant values.\n",
    "There is one standardized residual slightly outside the interval (-2, 2), but this is not\n",
    "surprising in a sample of size 14\n",
    "- The errors are almost normally distributed"
   ]
  },
  {
   "cell_type": "code",
   "execution_count": 39,
   "id": "ae8d8a3f",
   "metadata": {},
   "outputs": [],
   "source": [
    "### Plot for Y vs Predicted Y"
   ]
  },
  {
   "cell_type": "code",
   "execution_count": 40,
   "id": "3932c42f",
   "metadata": {},
   "outputs": [
    {
     "data": {
      "text/plain": [
       "Text(0, 0.5, 'Predicted Y')"
      ]
     },
     "execution_count": 40,
     "metadata": {},
     "output_type": "execute_result"
    },
    {
     "data": {
      "image/png": "[encoded data removed]",
      "text/plain": [
       "<Figure size 600x400 with 1 Axes>"
      ]
     },
     "metadata": {},
     "output_type": "display_data"
    }
   ],
   "source": [
    "plt.figure(figsize=(6,4))\n",
    "sns.scatterplot(x='Y', y='Predicted_Y', data=df)\n",
    "\n",
    "# Adding title and labels\n",
    "plt.title(' Y vs Predicted Y')\n",
    "plt.xlabel('Y')\n",
    "plt.ylabel('Predicted Y')"
   ]
  },
  {
   "cell_type": "markdown",
   "id": "b29cafce",
   "metadata": {},
   "source": [
    "Nearly 45 degree line so model can be used to prediction"
   ]
  },
  {
   "cell_type": "code",
   "execution_count": 41,
   "id": "d8d1e570",
   "metadata": {},
   "outputs": [
    {
     "data": {
      "image/png": "[encoded data removed]",
      "text/plain": [
       "<Figure size 600x400 with 1 Axes>"
      ]
     },
     "metadata": {},
     "output_type": "display_data"
    }
   ],
   "source": [
    "# Create the histogram\n",
    "plt.figure(figsize=(6,4))\n",
    "sns.histplot(df['Standardized Residuals'], kde=True, bins=10)  # 'bins' controls the number of bins\n",
    "plt.title('Histogram of Error with KDE')\n",
    "plt.xlabel('Error')\n",
    "plt.ylabel('Frequency')\n",
    "\n",
    "# Display the plot\n",
    "plt.show()\n"
   ]
  },
  {
   "cell_type": "markdown",
   "id": "b97e8c7c",
   "metadata": {},
   "source": [
    "### To Check Normality Of The Residuals "
   ]
  },
  {
   "cell_type": "markdown",
   "id": "21b663e1",
   "metadata": {},
   "source": [
    "Graphical Test\n",
    "- If values against theoretical values lies within a straight line the data may be normal"
   ]
  },
  {
   "cell_type": "code",
   "execution_count": 45,
   "id": "4387871e",
   "metadata": {},
   "outputs": [
    {
     "data": {
      "image/png": "[encoded data removed]",
      "text/plain": [
       "<Figure size 500x400 with 1 Axes>"
      ]
     },
     "metadata": {},
     "output_type": "display_data"
    }
   ],
   "source": [
    "plt.figure(figsize=(5,4))\n",
    "stats.probplot(df['Residuals'], dist=\"norm\", plot=plt)\n",
    "plt.title('Normal Probability Plot')\n",
    "plt.show()"
   ]
  },
  {
   "cell_type": "markdown",
   "id": "9ae41f4c",
   "metadata": {},
   "source": [
    "Shapiro Test\n",
    "\n",
    "Null Hypothesis : Given Sample Follows Normal Distribution"
   ]
  },
  {
   "cell_type": "code",
   "execution_count": 47,
   "id": "7fa6376e",
   "metadata": {},
   "outputs": [
    {
     "data": {
      "text/plain": [
       "(0.9389799237251282, 0.40540820360183716)"
      ]
     },
     "execution_count": 47,
     "metadata": {},
     "output_type": "execute_result"
    }
   ],
   "source": [
    "w_statistic, p_value = stats.shapiro(df['Residuals'])\n",
    "\n",
    "w_statistic, p_value"
   ]
  },
  {
   "cell_type": "markdown",
   "id": "9dcba742",
   "metadata": {},
   "source": [
    "p value = 0.405 > 0.05 No evidence for the alternate hypothesis. So we continue our assumption that the distribution is normal"
   ]
  },
  {
   "cell_type": "markdown",
   "id": "8fb8ab7e",
   "metadata": {},
   "source": [
    "### To Check Homoscedasticity "
   ]
  },
  {
   "cell_type": "code",
   "execution_count": 42,
   "id": "30cda897",
   "metadata": {},
   "outputs": [],
   "source": [
    "# Statistical test"
   ]
  },
  {
   "cell_type": "code",
   "execution_count": 48,
   "id": "80267b7f",
   "metadata": {},
   "outputs": [],
   "source": [
    "y_predict = regressor.predict(X)\n",
    "\n",
    "residuals = Y- y_predict"
   ]
  },
  {
   "cell_type": "code",
   "execution_count": 49,
   "id": "710cdfc2",
   "metadata": {},
   "outputs": [
    {
     "name": "stdout",
     "output_type": "stream",
     "text": [
      "{'Lagrange multiplier statistic': 1.9080601253437801, 'p-value': 0.16717890236653096, 'f-value': 1.8935523779865244, 'f p-value': 0.19393926928637878}\n"
     ]
    }
   ],
   "source": [
    "import statsmodels.api as sm\n",
    "\n",
    "from statsmodels.stats.diagnostic import het_breuschpagan\n",
    "\n",
    "# Perform the test\n",
    "bp_test = het_breuschpagan(residuals, sm.add_constant(X))\n",
    "labels = ['Lagrange multiplier statistic', 'p-value', 'f-value', 'f p-value']\n",
    "print(dict(zip(labels, bp_test)))"
   ]
  },
  {
   "cell_type": "markdown",
   "id": "26e6e5cc",
   "metadata": {},
   "source": [
    "-  p_value = 0.1671 > 0.05 No evidence to reject H_0\n",
    "- So we continue our assumption of homoscedasticity"
   ]
  },
  {
   "cell_type": "code",
   "execution_count": null,
   "id": "a915184f",
   "metadata": {},
   "outputs": [],
   "source": []
  },
  {
   "cell_type": "code",
   "execution_count": null,
   "id": "7e2f70e6",
   "metadata": {},
   "outputs": [],
   "source": []
  }
 ],
 "metadata": {
  "kernelspec": {
   "display_name": "Python 3 (ipykernel)",
   "language": "python",
   "name": "python3"
  },
  "language_info": {
   "codemirror_mode": {
    "name": "ipython",
    "version": 3
   },
   "file_extension": ".py",
   "mimetype": "text/x-python",
   "name": "python",
   "nbconvert_exporter": "python",
   "pygments_lexer": "ipython3",
   "version": "3.7.15"
  }
 },
 "nbformat": 4,
 "nbformat_minor": 5
}
