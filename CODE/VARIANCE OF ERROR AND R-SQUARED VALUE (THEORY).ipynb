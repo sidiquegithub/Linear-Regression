{
 "cells": [
  {
   "cell_type": "markdown",
   "id": "689e82d7",
   "metadata": {},
   "source": [
    "## <font color = Blue > OBJECTIVE OF REGRESSION ANALYSIS"
   ]
  },
  {
   "cell_type": "markdown",
   "id": "3fb2fa6b",
   "metadata": {},
   "source": [
    "Objective of regression analysis is to exploit relationship between two or more variables so that we can gain information about one of them through knowing the values of the other"
   ]
  },
  {
   "cell_type": "markdown",
   "id": "3c70a1aa",
   "metadata": {},
   "source": [
    "So regression analysis can be explained as the part of statistics that investigate the relationship between two or more variables related in a non deterministic fashion"
   ]
  },
  {
   "cell_type": "markdown",
   "id": "373baf14",
   "metadata": {},
   "source": [
    "## <font color = Blue > SIMPLE LINEAR REGRESSION MODEL"
   ]
  },
  {
   "cell_type": "markdown",
   "id": "fc3a893a",
   "metadata": {},
   "source": [
    "Simple <font color = darkrose> deterministic <font color = black> mathematical equation between $x$ and $y$ is a linear relationship\n",
    "$$ y = \\beta_0 + \\beta_1 x $$"
   ]
  },
  {
   "cell_type": "code",
   "execution_count": 1,
   "id": "70aade40",
   "metadata": {},
   "outputs": [],
   "source": [
    "# Figure of data set through a striaght line"
   ]
  },
  {
   "cell_type": "code",
   "execution_count": null,
   "id": "ee6759d5",
   "metadata": {},
   "outputs": [],
   "source": []
  },
  {
   "cell_type": "markdown",
   "id": "52539898",
   "metadata": {},
   "source": [
    "If two variables are <font color = darkrose> not deterministically <font color = black>related, then for a fixed value of $x$ there is uncertainty in the value of the second variable $y$"
   ]
  },
  {
   "cell_type": "markdown",
   "id": "f1b9cbe5",
   "metadata": {},
   "source": [
    "So $$ y = \\beta_0 + \\beta_1 x +\\epsilon $$"
   ]
  },
  {
   "cell_type": "code",
   "execution_count": 2,
   "id": "fbd09c78",
   "metadata": {},
   "outputs": [],
   "source": [
    "# Figure of data set with epsilon change from the line"
   ]
  },
  {
   "cell_type": "markdown",
   "id": "bef7931f",
   "metadata": {},
   "source": [
    "<font color = DarkGreen> Defenition For SImple Linear Regression"
   ]
  },
  {
   "cell_type": "markdown",
   "id": "cc4aacae",
   "metadata": {},
   "source": [
    "With parameters $\\beta_0$, $\\beta_1$ and $\\epsilon$, \n",
    "\n",
    "we define simple linear regression model as $y = \\beta_0 + \\beta_1 x +\\epsilon $"
   ]
  },
  {
   "cell_type": "code",
   "execution_count": null,
   "id": "0179f96b",
   "metadata": {},
   "outputs": [],
   "source": []
  }
 ],
 "metadata": {
  "kernelspec": {
   "display_name": "Python 3 (ipykernel)",
   "language": "python",
   "name": "python3"
  },
  "language_info": {
   "codemirror_mode": {
    "name": "ipython",
    "version": 3
   },
   "file_extension": ".py",
   "mimetype": "text/x-python",
   "name": "python",
   "nbconvert_exporter": "python",
   "pygments_lexer": "ipython3",
   "version": "3.7.15"
  }
 },
 "nbformat": 4,
 "nbformat_minor": 5
}
