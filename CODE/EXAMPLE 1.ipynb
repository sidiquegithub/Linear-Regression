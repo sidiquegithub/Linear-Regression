{
 "cells": [
  {
   "cell_type": "markdown",
   "id": "644378c2",
   "metadata": {},
   "source": [
    "# Read and answer the questions given below"
   ]
  },
  {
   "cell_type": "markdown",
   "id": "dfff0ed1",
   "metadata": {},
   "source": [
    "#### An Example From The Text Book Probability And Statistics For Engineering By J Devorse"
   ]
  },
  {
   "cell_type": "markdown",
   "id": "a9cd56f9",
   "metadata": {},
   "source": [
    "The cetane number is a critical property in specifying the ignition quality of a fuel\n",
    "used in a diesel engine. Determination of this number for a biodiesel fuel is expensive and time-consuming. The article “Relating the Cetane Number of Biodiesel Fuels to Their Fatty Acid Composition: A Critical Study” (J. of Automobile Engr.,\n",
    "2009: 565–583) included the following data on $x = iodine \\ value(g) $ and $y = cetane \\ number $ for a sample of 14 biofuels. The iodine value is the amount of iodine necessary to saturate a sample of 100 g of oil. The article’s authors fit the simple linear\n",
    "regression model to this data, so let’s follow their lead."
   ]
  },
  {
   "cell_type": "markdown",
   "id": "8f7a23a5",
   "metadata": {},
   "source": [
    "$$\n",
    "\\begin{array}{|c|c|c|c|c|c|c|c|c|c|c|c|c|c|}\n",
    "\\hline\n",
    "x & 132.0 & 129.0 & 120.0 & 113.2 & 105.0 & 92.0 & 84.0 & 83.2 & 88.4 & 59.0 & 80.0 & 81.5 & 71.0 & 69.2  \\\\\n",
    "\\hline\n",
    "y & 46.0 & 48.0 & 51.0 & 52.1 & 54.0 & 52.0 & 59.0 & 58.7 & 61.6 & 64.0 & 61.4 & 54.6 & 58.8 & 58.0 \\\\\n",
    "\\hline\n",
    "\\end{array}\n",
    "$$\n"
   ]
  },
  {
   "cell_type": "markdown",
   "id": "b61d24b2",
   "metadata": {},
   "source": [
    "1) Fit the model\n",
    "2) Find predicted values or points on the regression line\n",
    "3) Draw the regression line\n",
    "4) Find the coefficients \n",
    "5) Equation of the line \n",
    "6) Predict Y cetane number when X the iodine value is 100"
   ]
  },
  {
   "cell_type": "code",
   "execution_count": 1,
   "id": "1a56d028",
   "metadata": {},
   "outputs": [],
   "source": [
    "# Importing modules \n",
    "\n",
    "import numpy as np \n",
    "import pandas as pd\n",
    "import matplotlib.pyplot as plt\n",
    "import seaborn as sns"
   ]
  },
  {
   "cell_type": "markdown",
   "id": "7eea8032",
   "metadata": {},
   "source": [
    "## 0) Creating DataFrame, Plot (X,Y) and Correlation between X and Y"
   ]
  },
  {
   "cell_type": "code",
   "execution_count": 2,
   "id": "71e85582",
   "metadata": {},
   "outputs": [],
   "source": [
    "# Create DataFrame for the data\n",
    "\n",
    "X = [132.0,129.0,120.0,113.2,105.0,92.0,84.0,83.2,88.4,59.0,80.0,81.5,71.0,69.2]\n",
    "Y = [46.0,48.0, 51.0,52.1,54.0,52.0,59.0,58.7,61.6,64.0,61.4,54.6,58.8,58.0]\n",
    "\n",
    "df = pd.DataFrame({'X': X, 'Y': Y})"
   ]
  },
  {
   "cell_type": "code",
   "execution_count": 3,
   "id": "1291e39f",
   "metadata": {},
   "outputs": [
    {
     "data": {
      "image/png": "[encoded data removed]",
      "text/plain": [
       "<Figure size 600x400 with 1 Axes>"
      ]
     },
     "metadata": {},
     "output_type": "display_data"
    }
   ],
   "source": [
    "# Plot (X,Y)\n",
    "\n",
    "plt.figure(figsize=(6,4))\n",
    "sns.scatterplot(data=df, x='X', y='Y', s=10, color=\"blue\", marker=\"o\")\n",
    "plt.title(\"Dot Plot of X vs Y\")\n",
    "plt.xlabel(\"X\")\n",
    "plt.ylabel(\"Y\")\n",
    "plt.grid(True)\n",
    "plt.show()"
   ]
  },
  {
   "cell_type": "code",
   "execution_count": 4,
   "id": "7c377874",
   "metadata": {},
   "outputs": [
    {
     "data": {
      "text/html": [
       "<div>\n",
       "<style scoped>\n",
       "    .dataframe tbody tr th:only-of-type {\n",
       "        vertical-align: middle;\n",
       "    }\n",
       "\n",
       "    .dataframe tbody tr th {\n",
       "        vertical-align: top;\n",
       "    }\n",
       "\n",
       "    .dataframe thead th {\n",
       "        text-align: right;\n",
       "    }\n",
       "</style>\n",
       "<table border=\"1\" class=\"dataframe\">\n",
       "  <thead>\n",
       "    <tr style=\"text-align: right;\">\n",
       "      <th></th>\n",
       "      <th>X</th>\n",
       "      <th>Y</th>\n",
       "    </tr>\n",
       "  </thead>\n",
       "  <tbody>\n",
       "    <tr>\n",
       "      <th>X</th>\n",
       "      <td>1.000000</td>\n",
       "      <td>-0.889247</td>\n",
       "    </tr>\n",
       "    <tr>\n",
       "      <th>Y</th>\n",
       "      <td>-0.889247</td>\n",
       "      <td>1.000000</td>\n",
       "    </tr>\n",
       "  </tbody>\n",
       "</table>\n",
       "</div>"
      ],
      "text/plain": [
       "          X         Y\n",
       "X  1.000000 -0.889247\n",
       "Y -0.889247  1.000000"
      ]
     },
     "execution_count": 4,
     "metadata": {},
     "output_type": "execute_result"
    }
   ],
   "source": [
    "# Corrleation \n",
    "\n",
    "correlation = df.corr()\n",
    "correlation"
   ]
  },
  {
   "cell_type": "markdown",
   "id": "5e6d2f57",
   "metadata": {},
   "source": [
    "## 1) Fit the model"
   ]
  },
  {
   "cell_type": "code",
   "execution_count": 5,
   "id": "302cbe33",
   "metadata": {},
   "outputs": [],
   "source": [
    "# Fit the regression  line \n",
    "from sklearn.linear_model import LinearRegression"
   ]
  },
  {
   "cell_type": "code",
   "execution_count": 6,
   "id": "6ec7b915",
   "metadata": {},
   "outputs": [],
   "source": [
    "X = df['X'].values\n",
    "Y = df['Y'].values"
   ]
  },
  {
   "cell_type": "code",
   "execution_count": 7,
   "id": "4f8f9da7",
   "metadata": {},
   "outputs": [],
   "source": [
    "X = X.reshape(-1,1)\n",
    "Y = Y.reshape(-1,1)"
   ]
  },
  {
   "cell_type": "code",
   "execution_count": 8,
   "id": "360834ee",
   "metadata": {},
   "outputs": [
    {
     "data": {
      "text/plain": [
       "LinearRegression()"
      ]
     },
     "execution_count": 8,
     "metadata": {},
     "output_type": "execute_result"
    }
   ],
   "source": [
    "regressor = LinearRegression()\n",
    "regressor.fit(X,Y)"
   ]
  },
  {
   "cell_type": "markdown",
   "id": "4e744c95",
   "metadata": {},
   "source": [
    "## 2) Predicted values or points on the regression line"
   ]
  },
  {
   "cell_type": "code",
   "execution_count": 9,
   "id": "357089a3",
   "metadata": {},
   "outputs": [],
   "source": [
    "# Predicted values i.e points on the regressive line\n",
    "df['Predicted_Y'] = regressor.predict(X)"
   ]
  },
  {
   "cell_type": "code",
   "execution_count": 10,
   "id": "6cd035de",
   "metadata": {},
   "outputs": [
    {
     "data": {
      "text/html": [
       "<div>\n",
       "<style scoped>\n",
       "    .dataframe tbody tr th:only-of-type {\n",
       "        vertical-align: middle;\n",
       "    }\n",
       "\n",
       "    .dataframe tbody tr th {\n",
       "        vertical-align: top;\n",
       "    }\n",
       "\n",
       "    .dataframe thead th {\n",
       "        text-align: right;\n",
       "    }\n",
       "</style>\n",
       "<table border=\"1\" class=\"dataframe\">\n",
       "  <thead>\n",
       "    <tr style=\"text-align: right;\">\n",
       "      <th></th>\n",
       "      <th>X</th>\n",
       "      <th>Y</th>\n",
       "      <th>Predicted_Y</th>\n",
       "    </tr>\n",
       "  </thead>\n",
       "  <tbody>\n",
       "    <tr>\n",
       "      <th>0</th>\n",
       "      <td>132.0</td>\n",
       "      <td>46.0</td>\n",
       "      <td>47.573293</td>\n",
       "    </tr>\n",
       "    <tr>\n",
       "      <th>1</th>\n",
       "      <td>129.0</td>\n",
       "      <td>48.0</td>\n",
       "      <td>48.201455</td>\n",
       "    </tr>\n",
       "    <tr>\n",
       "      <th>2</th>\n",
       "      <td>120.0</td>\n",
       "      <td>51.0</td>\n",
       "      <td>50.085942</td>\n",
       "    </tr>\n",
       "    <tr>\n",
       "      <th>3</th>\n",
       "      <td>113.2</td>\n",
       "      <td>52.1</td>\n",
       "      <td>51.509776</td>\n",
       "    </tr>\n",
       "    <tr>\n",
       "      <th>4</th>\n",
       "      <td>105.0</td>\n",
       "      <td>54.0</td>\n",
       "      <td>53.226753</td>\n",
       "    </tr>\n",
       "    <tr>\n",
       "      <th>5</th>\n",
       "      <td>92.0</td>\n",
       "      <td>52.0</td>\n",
       "      <td>55.948790</td>\n",
       "    </tr>\n",
       "    <tr>\n",
       "      <th>6</th>\n",
       "      <td>84.0</td>\n",
       "      <td>59.0</td>\n",
       "      <td>57.623889</td>\n",
       "    </tr>\n",
       "    <tr>\n",
       "      <th>7</th>\n",
       "      <td>83.2</td>\n",
       "      <td>58.7</td>\n",
       "      <td>57.791399</td>\n",
       "    </tr>\n",
       "    <tr>\n",
       "      <th>8</th>\n",
       "      <td>88.4</td>\n",
       "      <td>61.6</td>\n",
       "      <td>56.702584</td>\n",
       "    </tr>\n",
       "    <tr>\n",
       "      <th>9</th>\n",
       "      <td>59.0</td>\n",
       "      <td>64.0</td>\n",
       "      <td>62.858574</td>\n",
       "    </tr>\n",
       "    <tr>\n",
       "      <th>10</th>\n",
       "      <td>80.0</td>\n",
       "      <td>61.4</td>\n",
       "      <td>58.461439</td>\n",
       "    </tr>\n",
       "    <tr>\n",
       "      <th>11</th>\n",
       "      <td>81.5</td>\n",
       "      <td>54.6</td>\n",
       "      <td>58.147357</td>\n",
       "    </tr>\n",
       "    <tr>\n",
       "      <th>12</th>\n",
       "      <td>71.0</td>\n",
       "      <td>58.8</td>\n",
       "      <td>60.345925</td>\n",
       "    </tr>\n",
       "    <tr>\n",
       "      <th>13</th>\n",
       "      <td>69.2</td>\n",
       "      <td>58.0</td>\n",
       "      <td>60.722823</td>\n",
       "    </tr>\n",
       "  </tbody>\n",
       "</table>\n",
       "</div>"
      ],
      "text/plain": [
       "        X     Y  Predicted_Y\n",
       "0   132.0  46.0    47.573293\n",
       "1   129.0  48.0    48.201455\n",
       "2   120.0  51.0    50.085942\n",
       "3   113.2  52.1    51.509776\n",
       "4   105.0  54.0    53.226753\n",
       "5    92.0  52.0    55.948790\n",
       "6    84.0  59.0    57.623889\n",
       "7    83.2  58.7    57.791399\n",
       "8    88.4  61.6    56.702584\n",
       "9    59.0  64.0    62.858574\n",
       "10   80.0  61.4    58.461439\n",
       "11   81.5  54.6    58.147357\n",
       "12   71.0  58.8    60.345925\n",
       "13   69.2  58.0    60.722823"
      ]
     },
     "execution_count": 10,
     "metadata": {},
     "output_type": "execute_result"
    }
   ],
   "source": [
    "df"
   ]
  },
  {
   "cell_type": "markdown",
   "id": "16f754ef",
   "metadata": {},
   "source": [
    "## 3) The regression line\n"
   ]
  },
  {
   "cell_type": "code",
   "execution_count": 11,
   "id": "75f8b46a",
   "metadata": {},
   "outputs": [
    {
     "data": {
      "image/png": "[encoded data removed]",
      "text/plain": [
       "<Figure size 600x400 with 1 Axes>"
      ]
     },
     "metadata": {},
     "output_type": "display_data"
    }
   ],
   "source": [
    "# Plot the data and the regression line\n",
    "\n",
    "plt.figure(figsize=(6,4))\n",
    "sns.scatterplot(data=df, x='X', y='Y', s=10, color=\"blue\", label='Data Points')\n",
    "sns.lineplot(data=df, x='X', y='Predicted_Y', color=\"red\", linewidth=0.5, label='Regression Line')\n",
    "plt.title('Regression Line ')\n",
    "plt.xlabel('X')\n",
    "plt.ylabel('Y')\n",
    "plt.legend()\n",
    "plt.grid(True)\n",
    "plt.show()"
   ]
  },
  {
   "cell_type": "markdown",
   "id": "fd6ac94c",
   "metadata": {},
   "source": [
    "## 4) Coefficients of Regression line"
   ]
  },
  {
   "cell_type": "code",
   "execution_count": 12,
   "id": "77242932",
   "metadata": {},
   "outputs": [
    {
     "name": "stdout",
     "output_type": "stream",
     "text": [
      "Slope of regression line is  [-0.20938742]\n",
      "Y intercept of regression line is  [75.21243193]\n"
     ]
    }
   ],
   "source": [
    "# Coefficents of regressiion line \n",
    "\n",
    "slope = regressor.coef_[0]  # Slope of the regression line\n",
    "intercept = regressor.intercept_  # Intercept of the regression line\n",
    "\n",
    "\n",
    "print('Slope of regression line is ', slope)\n",
    "print('Y intercept of regression line is ', intercept)"
   ]
  },
  {
   "cell_type": "markdown",
   "id": "0a9737bf",
   "metadata": {},
   "source": [
    "## 5) Equation of Regression Line "
   ]
  },
  {
   "cell_type": "code",
   "execution_count": 13,
   "id": "29f97446",
   "metadata": {},
   "outputs": [
    {
     "name": "stdout",
     "output_type": "stream",
     "text": [
      "Equation of the regression line is Y = -0.20938742 X + 75.21243193:\n"
     ]
    }
   ],
   "source": [
    "# Equation regression line is \n",
    "\n",
    "print(\"Equation of the regression line is Y = -0.20938742 X + 75.21243193:\")"
   ]
  },
  {
   "cell_type": "markdown",
   "id": "b3a884d5",
   "metadata": {},
   "source": [
    "-----------"
   ]
  },
  {
   "cell_type": "markdown",
   "id": "59257dfc",
   "metadata": {},
   "source": [
    "## 6) Predict the value of Y the 𝑐𝑒𝑡𝑎𝑛𝑒 𝑛𝑢𝑚𝑏𝑒𝑟 when X 𝑖𝑜𝑑𝑖𝑛𝑒 𝑣𝑎𝑙𝑢𝑒 is 100"
   ]
  },
  {
   "cell_type": "code",
   "execution_count": 14,
   "id": "3d77731f",
   "metadata": {},
   "outputs": [
    {
     "data": {
      "text/plain": [
       "array([[54.27369028]])"
      ]
     },
     "execution_count": 14,
     "metadata": {},
     "output_type": "execute_result"
    }
   ],
   "source": [
    "X_new = np.array([[100]])  \n",
    "predicted_Y_new = regressor.predict(X_new)\n",
    "predicted_Y_new"
   ]
  },
  {
   "cell_type": "markdown",
   "id": "e631cd62",
   "metadata": {},
   "source": [
    "--------\n",
    "----------"
   ]
  },
  {
   "cell_type": "markdown",
   "id": "3bcb8fb0",
   "metadata": {},
   "source": [
    "#### Extrapolation\n",
    "\n",
    "The least squares line should not be used to make a prediction for an x value\n",
    "much beyond the range of the data, such as $x = 40 $ or $x = 150$ in above example. The\n",
    "danger of extrapolation is that the fitted relationship (a line here) may not be valid\n",
    "for such x values."
   ]
  },
  {
   "cell_type": "markdown",
   "id": "758abb01",
   "metadata": {},
   "source": [
    "## Calculate $R^2$ value for the fit"
   ]
  },
  {
   "cell_type": "code",
   "execution_count": 16,
   "id": "2b831bb0",
   "metadata": {},
   "outputs": [
    {
     "data": {
      "text/plain": [
       "0.7907602362991257"
      ]
     },
     "execution_count": 16,
     "metadata": {},
     "output_type": "execute_result"
    }
   ],
   "source": [
    "r_squared = regressor.score(X, Y)\n",
    "r_squared"
   ]
  },
  {
   "cell_type": "markdown",
   "id": "5b115d1e",
   "metadata": {},
   "source": [
    "That is, 79.1% of the observed variation in cetane number is attributable to (can be\n",
    "explained by) the simple linear regression relationship between cetane number and\n",
    "iodine value ($R^2$ values are even higher than this in many scientific contexts, but\n",
    "social scientists would typically be ecstatic at a value anywhere near this large!)"
   ]
  },
  {
   "cell_type": "code",
   "execution_count": null,
   "id": "2dbc62c0",
   "metadata": {},
   "outputs": [],
   "source": []
  }
 ],
 "metadata": {
  "kernelspec": {
   "display_name": "Python 3 (ipykernel)",
   "language": "python",
   "name": "python3"
  },
  "language_info": {
   "codemirror_mode": {
    "name": "ipython",
    "version": 3
   },
   "file_extension": ".py",
   "mimetype": "text/x-python",
   "name": "python",
   "nbconvert_exporter": "python",
   "pygments_lexer": "ipython3",
   "version": "3.7.15"
  }
 },
 "nbformat": 4,
 "nbformat_minor": 5
}
