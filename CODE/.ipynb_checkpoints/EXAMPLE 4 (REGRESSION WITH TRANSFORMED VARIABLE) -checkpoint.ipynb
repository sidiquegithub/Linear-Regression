{
 "cells": [
  {
   "cell_type": "markdown",
   "id": "8d72d64e",
   "metadata": {},
   "source": [
    "## <font color = blue> TRANSFORMED VARIABLES"
   ]
  },
  {
   "cell_type": "markdown",
   "id": "dcff0f60",
   "metadata": {},
   "source": [
    "If $x$ and $ln(y)$ follows linear relationship, the correponding linear is\n",
    "$$ ln(y) = \\beta_0 + \\beta_1 x $$ \n",
    "\n",
    "To fit this model, we transform $y$ to $ln(y)$ and fit the linear model to the data points $(x,ln(y)$"
   ]
  },
  {
   "cell_type": "markdown",
   "id": "4febe422",
   "metadata": {},
   "source": [
    "---------"
   ]
  },
  {
   "cell_type": "markdown",
   "id": "f46d673f",
   "metadata": {},
   "source": [
    "If $ln(x)$ and $ln(y)$ follows linear relationship, the correponding linear is\n",
    "$$ ln(y) = \\beta_0 + \\beta_1 ln(x) $$ \n",
    "\n",
    "To fit this model, we transform $x$ to $ln(x)$ and $y$ to $ln(y)$ and fit the linear model to the data points $(ln(x),ln(y)$"
   ]
  },
  {
   "cell_type": "markdown",
   "id": "41bc1407",
   "metadata": {},
   "source": [
    "## EXAMPLE 1"
   ]
  },
  {
   "cell_type": "markdown",
   "id": "e6d4e93b",
   "metadata": {},
   "source": [
    "This example illustrates the use of regression analysis to verify whether a sample conforms to a theoretical equation and to determine the coefficients of the model."
   ]
  },
  {
   "cell_type": "markdown",
   "id": "7e810e47",
   "metadata": {},
   "source": [
    "#### Transform the variables and estimate the parameteres $\\alpha$  and $\\beta$\n",
    "\n",
    "Taylor’s equation for tool life y as a function of cutting time x states that $xy^c  =  k$\n",
    "or, equivalently, that $y = \\alpha x^{\\beta}$. The article “The Effect of Experimental Error on\n",
    "the Determination of Optimum Metal Cutting Conditions” (J. of Engr. for Industry,\n",
    "1967: 315–322) observes that the relationship is not exact (deterministic) and that\n",
    "the parameters $\\alpha$ and $\\beta$ must be estimated from data.\n",
    "\n",
    "Thus an appropriate model\n",
    "is the multiplicative power model $ Y = \\alpha x^{\\beta} \\epsilon$ , which the author fit to the accompanying data consisting of 12 carbide tool life observations in belowe table. "
   ]
  },
  {
   "cell_type": "markdown",
   "id": "bc40b3cb",
   "metadata": {},
   "source": [
    "$$\n",
    "\\begin{array}{|c|c|c|c|c|c|c|c|c|c|c|c|}\n",
    "\\hline\n",
    "x & 600 & 600 & 600 & 600 & 500 & 500 & 500 & 500 & 400 & 400 & 400 & 400   \\\\\n",
    "\\hline\n",
    "y & 2.35 & 2.65 & 3.00 & 3.60 & 6.40 & 7.80 & 9.80 & 16.50 & 21.50 & 24.50 & 26.00 & 33.00 \\\\\n",
    "\\hline\n",
    "\\end{array}\n",
    "$$"
   ]
  },
  {
   "cell_type": "markdown",
   "id": "6ac18c1b",
   "metadata": {},
   "source": [
    "#### Main aim is to find the parameters $\\alpha$ $\\beta$"
   ]
  },
  {
   "cell_type": "markdown",
   "id": "a6ef68c6",
   "metadata": {},
   "source": [
    "Since $$Y = \\alpha x^{\\beta} \\epsilon $$ \n",
    "    $$ ln(Y) = ln(\\alpha) + \\beta ln(x) + ln(\\epsilon)$$ which is linear\n",
    "\n",
    "- Transform the variable x into ln(x)\n",
    "- Transform the variable y into ln(y)\n",
    "- Fit a linear regression model into ln(x) and ln(y)\n",
    "- Find parameters $ln(\\alpha)$ and $\\beta$ and thus $\\alpha$ and $\\beta$\n",
    "\n",
    "- Find errors and standardized error\n",
    "- Plot standardized eror vs x \n",
    "- Plot predicted y and y\n",
    "\n",
    "- Calculate $R^2$ value for the fit"
   ]
  },
  {
   "cell_type": "code",
   "execution_count": 1,
   "id": "5e87619d",
   "metadata": {},
   "outputs": [],
   "source": [
    "import pandas as pd\n",
    "import numpy as np\n",
    "import matplotlib.pyplot as plt\n",
    "import seaborn as sns"
   ]
  },
  {
   "cell_type": "code",
   "execution_count": 2,
   "id": "ce10fc22",
   "metadata": {},
   "outputs": [
    {
     "data": {
      "text/html": [
       "<div>\n",
       "<style scoped>\n",
       "    .dataframe tbody tr th:only-of-type {\n",
       "        vertical-align: middle;\n",
       "    }\n",
       "\n",
       "    .dataframe tbody tr th {\n",
       "        vertical-align: top;\n",
       "    }\n",
       "\n",
       "    .dataframe thead th {\n",
       "        text-align: right;\n",
       "    }\n",
       "</style>\n",
       "<table border=\"1\" class=\"dataframe\">\n",
       "  <thead>\n",
       "    <tr style=\"text-align: right;\">\n",
       "      <th></th>\n",
       "      <th>x</th>\n",
       "      <th>y</th>\n",
       "    </tr>\n",
       "  </thead>\n",
       "  <tbody>\n",
       "    <tr>\n",
       "      <th>0</th>\n",
       "      <td>600</td>\n",
       "      <td>2.35</td>\n",
       "    </tr>\n",
       "    <tr>\n",
       "      <th>1</th>\n",
       "      <td>600</td>\n",
       "      <td>2.65</td>\n",
       "    </tr>\n",
       "    <tr>\n",
       "      <th>2</th>\n",
       "      <td>600</td>\n",
       "      <td>3.00</td>\n",
       "    </tr>\n",
       "    <tr>\n",
       "      <th>3</th>\n",
       "      <td>600</td>\n",
       "      <td>3.60</td>\n",
       "    </tr>\n",
       "    <tr>\n",
       "      <th>4</th>\n",
       "      <td>500</td>\n",
       "      <td>6.40</td>\n",
       "    </tr>\n",
       "  </tbody>\n",
       "</table>\n",
       "</div>"
      ],
      "text/plain": [
       "     x     y\n",
       "0  600  2.35\n",
       "1  600  2.65\n",
       "2  600  3.00\n",
       "3  600  3.60\n",
       "4  500  6.40"
      ]
     },
     "execution_count": 2,
     "metadata": {},
     "output_type": "execute_result"
    }
   ],
   "source": [
    "# DataFrame\n",
    "\n",
    "data = {\n",
    "    'x': [600, 600, 600, 600, 500, 500, 500, 500, 400, 400, 400, 400],\n",
    "    'y': [2.35, 2.65, 3.00, 3.60, 6.40, 7.80, 9.80, 16.50, 21.50, 24.50, 26.00, 33.00]\n",
    "}\n",
    "\n",
    "\n",
    "df = pd.DataFrame(data)\n",
    "\n",
    "df.head()"
   ]
  },
  {
   "cell_type": "code",
   "execution_count": 3,
   "id": "ec17d0c6",
   "metadata": {},
   "outputs": [
    {
     "data": {
      "text/plain": [
       "(12, 2)"
      ]
     },
     "execution_count": 3,
     "metadata": {},
     "output_type": "execute_result"
    }
   ],
   "source": [
    "df.shape"
   ]
  },
  {
   "cell_type": "markdown",
   "id": "280a0867",
   "metadata": {},
   "source": [
    "### Scatter Plot of x and y"
   ]
  },
  {
   "cell_type": "code",
   "execution_count": 4,
   "id": "88ac9902",
   "metadata": {},
   "outputs": [
    {
     "data": {
      "image/png": "[encoded data removed]",
      "text/plain": [
       "<Figure size 600x400 with 1 Axes>"
      ]
     },
     "metadata": {},
     "output_type": "display_data"
    }
   ],
   "source": [
    "plt.figure(figsize=(6,4))\n",
    "\n",
    "sns.scatterplot(data=df, x='x', y='y', color='blue')\n",
    "\n",
    "plt.title('Scatter Plot of x and y')\n",
    "\n",
    "plt.xlabel('x')\n",
    "plt.ylabel('y')\n",
    "\n",
    "plt.show()"
   ]
  },
  {
   "cell_type": "code",
   "execution_count": 5,
   "id": "58dfcc1f",
   "metadata": {},
   "outputs": [
    {
     "data": {
      "text/html": [
       "<div>\n",
       "<style scoped>\n",
       "    .dataframe tbody tr th:only-of-type {\n",
       "        vertical-align: middle;\n",
       "    }\n",
       "\n",
       "    .dataframe tbody tr th {\n",
       "        vertical-align: top;\n",
       "    }\n",
       "\n",
       "    .dataframe thead th {\n",
       "        text-align: right;\n",
       "    }\n",
       "</style>\n",
       "<table border=\"1\" class=\"dataframe\">\n",
       "  <thead>\n",
       "    <tr style=\"text-align: right;\">\n",
       "      <th></th>\n",
       "      <th>x</th>\n",
       "      <th>y</th>\n",
       "      <th>ln(x)</th>\n",
       "      <th>ln(y)</th>\n",
       "    </tr>\n",
       "  </thead>\n",
       "  <tbody>\n",
       "    <tr>\n",
       "      <th>0</th>\n",
       "      <td>600</td>\n",
       "      <td>2.35</td>\n",
       "      <td>6.396930</td>\n",
       "      <td>0.854415</td>\n",
       "    </tr>\n",
       "    <tr>\n",
       "      <th>1</th>\n",
       "      <td>600</td>\n",
       "      <td>2.65</td>\n",
       "      <td>6.396930</td>\n",
       "      <td>0.974560</td>\n",
       "    </tr>\n",
       "    <tr>\n",
       "      <th>2</th>\n",
       "      <td>600</td>\n",
       "      <td>3.00</td>\n",
       "      <td>6.396930</td>\n",
       "      <td>1.098612</td>\n",
       "    </tr>\n",
       "    <tr>\n",
       "      <th>3</th>\n",
       "      <td>600</td>\n",
       "      <td>3.60</td>\n",
       "      <td>6.396930</td>\n",
       "      <td>1.280934</td>\n",
       "    </tr>\n",
       "    <tr>\n",
       "      <th>4</th>\n",
       "      <td>500</td>\n",
       "      <td>6.40</td>\n",
       "      <td>6.214608</td>\n",
       "      <td>1.856298</td>\n",
       "    </tr>\n",
       "  </tbody>\n",
       "</table>\n",
       "</div>"
      ],
      "text/plain": [
       "     x     y     ln(x)     ln(y)\n",
       "0  600  2.35  6.396930  0.854415\n",
       "1  600  2.65  6.396930  0.974560\n",
       "2  600  3.00  6.396930  1.098612\n",
       "3  600  3.60  6.396930  1.280934\n",
       "4  500  6.40  6.214608  1.856298"
      ]
     },
     "execution_count": 5,
     "metadata": {},
     "output_type": "execute_result"
    }
   ],
   "source": [
    "# Transform the column to ln\n",
    "df['ln(x)'] = df['x'].apply(np.log)\n",
    "df['ln(y)'] = df['y'].apply(np.log)\n",
    "\n",
    "df.head()"
   ]
  },
  {
   "cell_type": "markdown",
   "id": "c3d5a8da",
   "metadata": {},
   "source": [
    "### Scatter plot of ln(x) and ln(y)"
   ]
  },
  {
   "cell_type": "code",
   "execution_count": 6,
   "id": "cdb7506d",
   "metadata": {},
   "outputs": [
    {
     "data": {
      "image/png": "[encoded data removed]",
      "text/plain": [
       "<Figure size 600x400 with 1 Axes>"
      ]
     },
     "metadata": {},
     "output_type": "display_data"
    }
   ],
   "source": [
    "plt.figure(figsize=(6,4))\n",
    "\n",
    "sns.scatterplot(data=df, x='ln(x)', y='ln(y)', color='blue')\n",
    "\n",
    "plt.title('Scatter Plot of ln(x) and ln(y)')\n",
    "\n",
    "plt.xlabel('ln(x)')\n",
    "plt.ylabel('ln(y)')\n",
    "\n",
    "plt.show()"
   ]
  },
  {
   "cell_type": "markdown",
   "id": "f76e607b",
   "metadata": {},
   "source": [
    "### Fit a linear regression model on to ln(x) and ln(y)"
   ]
  },
  {
   "cell_type": "code",
   "execution_count": 7,
   "id": "ee3e2230",
   "metadata": {},
   "outputs": [],
   "source": [
    "from sklearn.linear_model import LinearRegression"
   ]
  },
  {
   "cell_type": "code",
   "execution_count": 8,
   "id": "5e1b4994",
   "metadata": {},
   "outputs": [],
   "source": [
    "ln_x = df['ln(x)'].values\n",
    "ln_y = df['ln(y)'].values"
   ]
  },
  {
   "cell_type": "code",
   "execution_count": 9,
   "id": "a85e7955",
   "metadata": {},
   "outputs": [],
   "source": [
    "ln_x = ln_x.reshape(-1,1)\n",
    "ln_y = ln_y.reshape(-1,1)"
   ]
  },
  {
   "cell_type": "code",
   "execution_count": 10,
   "id": "b9edad94",
   "metadata": {},
   "outputs": [
    {
     "data": {
      "text/plain": [
       "LinearRegression()"
      ]
     },
     "execution_count": 10,
     "metadata": {},
     "output_type": "execute_result"
    }
   ],
   "source": [
    "regressor = LinearRegression(fit_intercept=True)\n",
    "regressor.fit(ln_x,ln_y)"
   ]
  },
  {
   "cell_type": "markdown",
   "id": "d5371a68",
   "metadata": {},
   "source": [
    "### Parameters"
   ]
  },
  {
   "cell_type": "markdown",
   "id": "638ae2e5",
   "metadata": {},
   "source": [
    "Since $ ln(Y) = ln(\\alpha) + \\beta ln(x) + ln(\\epsilon)$ slope of the model is $\\beta$ and $y$ intercept is $ln(\\alpha)$"
   ]
  },
  {
   "cell_type": "code",
   "execution_count": 11,
   "id": "915df1ef",
   "metadata": {},
   "outputs": [],
   "source": [
    "slope = regressor.coef_[0]  # Slope of the regression line\n",
    "intercept = regressor.intercept_  # Intercept of the regression line"
   ]
  },
  {
   "cell_type": "code",
   "execution_count": 12,
   "id": "202d080d",
   "metadata": {},
   "outputs": [
    {
     "name": "stdout",
     "output_type": "stream",
     "text": [
      " Estimate of the slope is  [-5.39974349]\n"
     ]
    }
   ],
   "source": [
    "print(\" Estimate of the slope is \", slope)"
   ]
  },
  {
   "cell_type": "markdown",
   "id": "a11326d4",
   "metadata": {},
   "source": [
    "So estimated $\\beta  = -5.39974349 $"
   ]
  },
  {
   "cell_type": "code",
   "execution_count": 13,
   "id": "8f89b923",
   "metadata": {},
   "outputs": [
    {
     "name": "stdout",
     "output_type": "stream",
     "text": [
      " Estimate of the intercept is [35.66931485]\n"
     ]
    }
   ],
   "source": [
    "print(\" Estimate of the intercept is\", intercept)"
   ]
  },
  {
   "cell_type": "markdown",
   "id": "fa6d986d",
   "metadata": {},
   "source": [
    "So estimate of $ln(\\alpha) = 35.66931485$"
   ]
  },
  {
   "cell_type": "code",
   "execution_count": 14,
   "id": "4b89ce2e",
   "metadata": {},
   "outputs": [
    {
     "name": "stdout",
     "output_type": "stream",
     "text": [
      "Estimated alpha is 3097323820970384.5\n",
      "3.097e+15\n"
     ]
    }
   ],
   "source": [
    "# The alpha value\n",
    "import math\n",
    "\n",
    "alpha = math.exp(35.66931485)\n",
    "\n",
    "print('Estimated alpha is', alpha)\n",
    "\n",
    "print(f\"{alpha:.3e}\")"
   ]
  },
  {
   "cell_type": "markdown",
   "id": "a6217c15",
   "metadata": {},
   "source": [
    "So estimated $\\alpha = 3.097*10^{15}$  "
   ]
  },
  {
   "cell_type": "markdown",
   "id": "834ae33f",
   "metadata": {},
   "source": [
    "### So estimated equation"
   ]
  },
  {
   "cell_type": "markdown",
   "id": "20d2fa7d",
   "metadata": {},
   "source": [
    "So Taylor's estimated equation is $ Y = 3.097.10^{15}.x^{-5.39974349} $"
   ]
  },
  {
   "cell_type": "markdown",
   "id": "5b4065fd",
   "metadata": {},
   "source": [
    "### Predicted y and errors"
   ]
  },
  {
   "cell_type": "code",
   "execution_count": 15,
   "id": "e5df75fc",
   "metadata": {},
   "outputs": [],
   "source": [
    "predicted_ln_y = regressor.predict(ln_x)  #ln_x because fit is on ln_x,ln_y\n",
    "\n",
    "df['predicted_ln_y'] = predicted_ln_y    #Since fit is on ln of y the prdicted value is ln of required prediction\n",
    "\n",
    "df['predicted_y'] = np.exp(df['predicted_ln_y']) # Predicted y is inverse of ln\n",
    "\n",
    "df['error'] = df['y'] - df['predicted_y']"
   ]
  },
  {
   "cell_type": "code",
   "execution_count": 16,
   "id": "7de4820f",
   "metadata": {},
   "outputs": [
    {
     "data": {
      "text/html": [
       "<div>\n",
       "<style scoped>\n",
       "    .dataframe tbody tr th:only-of-type {\n",
       "        vertical-align: middle;\n",
       "    }\n",
       "\n",
       "    .dataframe tbody tr th {\n",
       "        vertical-align: top;\n",
       "    }\n",
       "\n",
       "    .dataframe thead th {\n",
       "        text-align: right;\n",
       "    }\n",
       "</style>\n",
       "<table border=\"1\" class=\"dataframe\">\n",
       "  <thead>\n",
       "    <tr style=\"text-align: right;\">\n",
       "      <th></th>\n",
       "      <th>x</th>\n",
       "      <th>y</th>\n",
       "      <th>ln(x)</th>\n",
       "      <th>ln(y)</th>\n",
       "      <th>predicted_ln_y</th>\n",
       "      <th>predicted_y</th>\n",
       "      <th>error</th>\n",
       "    </tr>\n",
       "  </thead>\n",
       "  <tbody>\n",
       "    <tr>\n",
       "      <th>0</th>\n",
       "      <td>600</td>\n",
       "      <td>2.35</td>\n",
       "      <td>6.396930</td>\n",
       "      <td>0.854415</td>\n",
       "      <td>1.127536</td>\n",
       "      <td>3.088037</td>\n",
       "      <td>-0.738037</td>\n",
       "    </tr>\n",
       "    <tr>\n",
       "      <th>1</th>\n",
       "      <td>600</td>\n",
       "      <td>2.65</td>\n",
       "      <td>6.396930</td>\n",
       "      <td>0.974560</td>\n",
       "      <td>1.127536</td>\n",
       "      <td>3.088037</td>\n",
       "      <td>-0.438037</td>\n",
       "    </tr>\n",
       "    <tr>\n",
       "      <th>2</th>\n",
       "      <td>600</td>\n",
       "      <td>3.00</td>\n",
       "      <td>6.396930</td>\n",
       "      <td>1.098612</td>\n",
       "      <td>1.127536</td>\n",
       "      <td>3.088037</td>\n",
       "      <td>-0.088037</td>\n",
       "    </tr>\n",
       "    <tr>\n",
       "      <th>3</th>\n",
       "      <td>600</td>\n",
       "      <td>3.60</td>\n",
       "      <td>6.396930</td>\n",
       "      <td>1.280934</td>\n",
       "      <td>1.127536</td>\n",
       "      <td>3.088037</td>\n",
       "      <td>0.511963</td>\n",
       "    </tr>\n",
       "    <tr>\n",
       "      <th>4</th>\n",
       "      <td>500</td>\n",
       "      <td>6.40</td>\n",
       "      <td>6.214608</td>\n",
       "      <td>1.856298</td>\n",
       "      <td>2.112025</td>\n",
       "      <td>8.264963</td>\n",
       "      <td>-1.864963</td>\n",
       "    </tr>\n",
       "    <tr>\n",
       "      <th>5</th>\n",
       "      <td>500</td>\n",
       "      <td>7.80</td>\n",
       "      <td>6.214608</td>\n",
       "      <td>2.054124</td>\n",
       "      <td>2.112025</td>\n",
       "      <td>8.264963</td>\n",
       "      <td>-0.464963</td>\n",
       "    </tr>\n",
       "    <tr>\n",
       "      <th>6</th>\n",
       "      <td>500</td>\n",
       "      <td>9.80</td>\n",
       "      <td>6.214608</td>\n",
       "      <td>2.282382</td>\n",
       "      <td>2.112025</td>\n",
       "      <td>8.264963</td>\n",
       "      <td>1.535037</td>\n",
       "    </tr>\n",
       "    <tr>\n",
       "      <th>7</th>\n",
       "      <td>500</td>\n",
       "      <td>16.50</td>\n",
       "      <td>6.214608</td>\n",
       "      <td>2.803360</td>\n",
       "      <td>2.112025</td>\n",
       "      <td>8.264963</td>\n",
       "      <td>8.235037</td>\n",
       "    </tr>\n",
       "    <tr>\n",
       "      <th>8</th>\n",
       "      <td>400</td>\n",
       "      <td>21.50</td>\n",
       "      <td>5.991465</td>\n",
       "      <td>3.068053</td>\n",
       "      <td>3.316943</td>\n",
       "      <td>27.575926</td>\n",
       "      <td>-6.075926</td>\n",
       "    </tr>\n",
       "    <tr>\n",
       "      <th>9</th>\n",
       "      <td>400</td>\n",
       "      <td>24.50</td>\n",
       "      <td>5.991465</td>\n",
       "      <td>3.198673</td>\n",
       "      <td>3.316943</td>\n",
       "      <td>27.575926</td>\n",
       "      <td>-3.075926</td>\n",
       "    </tr>\n",
       "  </tbody>\n",
       "</table>\n",
       "</div>"
      ],
      "text/plain": [
       "     x      y     ln(x)     ln(y)  predicted_ln_y  predicted_y     error\n",
       "0  600   2.35  6.396930  0.854415        1.127536     3.088037 -0.738037\n",
       "1  600   2.65  6.396930  0.974560        1.127536     3.088037 -0.438037\n",
       "2  600   3.00  6.396930  1.098612        1.127536     3.088037 -0.088037\n",
       "3  600   3.60  6.396930  1.280934        1.127536     3.088037  0.511963\n",
       "4  500   6.40  6.214608  1.856298        2.112025     8.264963 -1.864963\n",
       "5  500   7.80  6.214608  2.054124        2.112025     8.264963 -0.464963\n",
       "6  500   9.80  6.214608  2.282382        2.112025     8.264963  1.535037\n",
       "7  500  16.50  6.214608  2.803360        2.112025     8.264963  8.235037\n",
       "8  400  21.50  5.991465  3.068053        3.316943    27.575926 -6.075926\n",
       "9  400  24.50  5.991465  3.198673        3.316943    27.575926 -3.075926"
      ]
     },
     "execution_count": 16,
     "metadata": {},
     "output_type": "execute_result"
    }
   ],
   "source": [
    "df.head(10)"
   ]
  },
  {
   "cell_type": "markdown",
   "id": "8a70b64a",
   "metadata": {},
   "source": [
    "# Standardized error \n",
    "$e_i^* = \\frac{y_i - \\hat{y}_i}{s\\sqrt{1 - \\frac{1}{n} - \\frac{(x_i - \\bar{x})^2}{s_{xx}}}} \\quad i = 1, ..., n$\n"
   ]
  },
  {
   "cell_type": "markdown",
   "id": "2461e765",
   "metadata": {},
   "source": [
    "Where $s = standard \\ error $\n",
    "\n",
    "And $ s_{xy} = \\sum_{i=1}^{n} (x_i - \\bar{x})(y_i - \\bar{y})$\n",
    "\n",
    "So $ s_{xx} = \\sum_{i=1}^{n} (x_i - \\bar{x})^2$"
   ]
  },
  {
   "cell_type": "code",
   "execution_count": 17,
   "id": "65a52563",
   "metadata": {},
   "outputs": [],
   "source": [
    "# Standard deviation of error \n",
    "s = df['error'].std()\n",
    "\n",
    "# Number of raws \n",
    "n = 12 \n",
    "\n",
    "# mean of x (x bar)\n",
    "mean_x = df['x'].mean()\n",
    "\n",
    "#s_xx\n",
    "s_xx = ((df['x'] - mean_x)**2).sum()\n",
    "\n",
    "df['x-xbar_whole square'] = (df['x'] - mean_x)**2\n",
    "\n",
    "df['standardized_error'] = df['error']/(s*(np.sqrt(1 - (1/n) - ((df['x-xbar_whole square'])/s_xx))))"
   ]
  },
  {
   "cell_type": "code",
   "execution_count": 18,
   "id": "35cfba35",
   "metadata": {},
   "outputs": [
    {
     "data": {
      "text/plain": [
       "0    -0.222415\n",
       "1    -0.132007\n",
       "2    -0.026531\n",
       "3     0.154285\n",
       "4    -0.522302\n",
       "5    -0.130217\n",
       "6     0.429903\n",
       "7     2.306306\n",
       "8    -1.831042\n",
       "9    -0.926962\n",
       "10   -0.474921\n",
       "11    1.634600\n",
       "Name: standardized_error, dtype: float64"
      ]
     },
     "execution_count": 18,
     "metadata": {},
     "output_type": "execute_result"
    }
   ],
   "source": [
    "df['standardized_error']"
   ]
  },
  {
   "cell_type": "markdown",
   "id": "b9611965",
   "metadata": {},
   "source": [
    "### Scatter plots of standardized error vs x"
   ]
  },
  {
   "cell_type": "code",
   "execution_count": 19,
   "id": "c1dc63ba",
   "metadata": {},
   "outputs": [
    {
     "data": {
      "image/png": "[encoded data removed]",
      "text/plain": [
       "<Figure size 600x400 with 1 Axes>"
      ]
     },
     "metadata": {},
     "output_type": "display_data"
    }
   ],
   "source": [
    "plt.figure(figsize=(6,4))\n",
    "\n",
    "sns.scatterplot(data=df, x='x', y='standardized_error', color='blue')\n",
    "\n",
    "plt.title('Scatter Plot of x and standardized error')\n",
    "\n",
    "plt.xlabel('x')\n",
    "plt.ylabel('standardized error')\n",
    "\n",
    "plt.show()"
   ]
  },
  {
   "cell_type": "markdown",
   "id": "8bde03f4",
   "metadata": {},
   "source": [
    "<font color = green> There is no apparent pattern\n",
    "in the plot, though one standardized residual is a bit large, and the residuals look as\n",
    "they should for a simple linear regression"
   ]
  },
  {
   "cell_type": "markdown",
   "id": "f7294f63",
   "metadata": {},
   "source": [
    "### Scatter Plot of Y vs Predicted Y"
   ]
  },
  {
   "cell_type": "code",
   "execution_count": 20,
   "id": "e9c0e39a",
   "metadata": {},
   "outputs": [
    {
     "data": {
      "image/png": "[encoded data removed]",
      "text/plain": [
       "<Figure size 600x400 with 1 Axes>"
      ]
     },
     "metadata": {},
     "output_type": "display_data"
    }
   ],
   "source": [
    "plt.figure(figsize=(6,4))\n",
    "\n",
    "sns.scatterplot(data=df, x='y', y='predicted_y', color='blue')\n",
    "\n",
    "plt.title('Scatter Plot of y and predicted_y')\n",
    "\n",
    "\n",
    "\n",
    "# To Draw 45 degree line for comparison\n",
    "\n",
    "## Max and min range of y value\n",
    "max_limit = max(df['y'].max(), df['predicted_y'].max())  \n",
    "min_limit = min(df['y'].min(), df['predicted_y'].min())  \n",
    "\n",
    "# Create x values for the 45-degree line\n",
    "x_values = np.linspace(min_limit, max_limit, 100)\n",
    "\n",
    "# Plotting the 45-degree line\n",
    "plt.plot(x_values, x_values, label='45 degree line', color='red')  \n",
    "\n",
    "\n",
    "# Label x and y axis\n",
    "plt.xlabel('y')\n",
    "plt.ylabel('predicted_y')\n",
    "\n",
    "plt.show()"
   ]
  },
  {
   "cell_type": "markdown",
   "id": "3b25ec06",
   "metadata": {},
   "source": [
    "### Calculate $R^2$ value for the fit"
   ]
  },
  {
   "cell_type": "code",
   "execution_count": 21,
   "id": "e211b72d",
   "metadata": {},
   "outputs": [
    {
     "data": {
      "text/plain": [
       "0.9223597968340076"
      ]
     },
     "execution_count": 21,
     "metadata": {},
     "output_type": "execute_result"
    }
   ],
   "source": [
    "r_squared = regressor.score(ln_x, ln_y)\n",
    "r_squared"
   ]
  },
  {
   "cell_type": "markdown",
   "id": "58b36445",
   "metadata": {},
   "source": [
    "<font color = green> Plot of $ \\hat y$ versus y, also $R^2 = 0.922$ indicates satisfactory predictions on the original scale"
   ]
  },
  {
   "cell_type": "markdown",
   "id": "110b0122",
   "metadata": {},
   "source": [
    "----------------\n",
    "--------------"
   ]
  },
  {
   "cell_type": "markdown",
   "id": "343874f1",
   "metadata": {},
   "source": [
    "## EXAMPLE 2"
   ]
  },
  {
   "cell_type": "markdown",
   "id": "8cecd01b",
   "metadata": {},
   "source": [
    "This example demonstrates how we can model the equation by analyzing the relationship between the data and determining the coefficients."
   ]
  },
  {
   "cell_type": "markdown",
   "id": "4beb619d",
   "metadata": {},
   "source": [
    "In the article “Ethylene Synthesis in Lettuce Seeds: Its Physiological\n",
    "Significance” (Plant Physiology, 1972: 719–722), ethylene content of lettuce\n",
    "seeds (y, in nL/g dry wt) was studied as a function of exposure time (x, in min) to an ethylene absorbent. The author did not give any argument for a theoretical model"
   ]
  },
  {
   "cell_type": "markdown",
   "id": "8cf5ffb9",
   "metadata": {},
   "source": [
    "$$\n",
    "\\begin{array}{|c|c|c|c|c|c|c|c|c|c|c|}\n",
    "\\hline\n",
    "x & 2 & 10 & 20 & 30 & 40 & 50 & 60  & 70 & 80 & 90 & 100   \\\\\n",
    "\\hline\n",
    "y & 408 & 272 & 196 & 137 & 90 & 78 & 51 & 40 & 30 & 22 & 15\\\\\n",
    "\\hline\n",
    "\\end{array}\n",
    "$$"
   ]
  },
  {
   "cell_type": "markdown",
   "id": "478bc0ea",
   "metadata": {},
   "source": [
    "- Fit the linear regression model to x and y and evaluate the model.\n",
    "- If it is not a good model find a better one "
   ]
  },
  {
   "cell_type": "code",
   "execution_count": 22,
   "id": "1989461d",
   "metadata": {},
   "outputs": [],
   "source": [
    "# create data frame\n",
    "\n",
    "data = {\n",
    "    'x': [2, 10, 20, 30, 40, 50, 60, 70, 80, 90, 100],\n",
    "    'y': [408, 272, 196, 137, 90, 78, 51, 40, 30, 22, 15]\n",
    "       }\n",
    "\n",
    "df = pd.DataFrame(data)"
   ]
  },
  {
   "cell_type": "markdown",
   "id": "b141ecf8",
   "metadata": {},
   "source": [
    "### Scatter Plot of x and y"
   ]
  },
  {
   "cell_type": "code",
   "execution_count": 23,
   "id": "b4ea374f",
   "metadata": {},
   "outputs": [
    {
     "data": {
      "image/png": "[encoded data removed]",
      "text/plain": [
       "<Figure size 500x300 with 1 Axes>"
      ]
     },
     "metadata": {},
     "output_type": "display_data"
    }
   ],
   "source": [
    "plt.figure(figsize=(5,3))\n",
    "\n",
    "sns.scatterplot(data=df, x='x', y='y', color='blue')\n",
    "\n",
    "plt.title('Scatter Plot of x and y')\n",
    "\n",
    "plt.xlabel('x')\n",
    "plt.ylabel('y')\n",
    "\n",
    "plt.show()"
   ]
  },
  {
   "cell_type": "markdown",
   "id": "9eea1b51",
   "metadata": {},
   "source": [
    "### Fit Linear Regression Model to x and y"
   ]
  },
  {
   "cell_type": "code",
   "execution_count": 24,
   "id": "d634a4dd",
   "metadata": {},
   "outputs": [],
   "source": [
    "x = df['x'].values\n",
    "y = df['y'].values\n",
    "\n",
    "x = x.reshape(-1,1)\n",
    "y = y.reshape(-1,1)"
   ]
  },
  {
   "cell_type": "code",
   "execution_count": 25,
   "id": "9df348b4",
   "metadata": {},
   "outputs": [
    {
     "data": {
      "text/plain": [
       "LinearRegression()"
      ]
     },
     "execution_count": 25,
     "metadata": {},
     "output_type": "execute_result"
    }
   ],
   "source": [
    "regressor = LinearRegression() #Already imported LinearRegression from sklearn\n",
    "regressor.fit(x,y)"
   ]
  },
  {
   "cell_type": "code",
   "execution_count": 26,
   "id": "fd1d444a",
   "metadata": {},
   "outputs": [],
   "source": [
    "# predict y values\n",
    "y_pred = regressor.predict(x)"
   ]
  },
  {
   "cell_type": "code",
   "execution_count": 27,
   "id": "4c05f038",
   "metadata": {},
   "outputs": [
    {
     "name": "stdout",
     "output_type": "stream",
     "text": [
      "[-3.36807472]\n",
      "[290.74338607]\n"
     ]
    }
   ],
   "source": [
    "slope = regressor.coef_[0]  # Slope of the regression line\n",
    "intercept = regressor.intercept_  # Intercept of the regression line\n",
    "\n",
    "print(slope)\n",
    "print(intercept)"
   ]
  },
  {
   "cell_type": "markdown",
   "id": "3786eca5",
   "metadata": {},
   "source": [
    "### Regression Line of x and y"
   ]
  },
  {
   "cell_type": "code",
   "execution_count": 28,
   "id": "25e6ef59",
   "metadata": {},
   "outputs": [
    {
     "data": {
      "image/png": "[encoded data removed]",
      "text/plain": [
       "<Figure size 600x400 with 1 Axes>"
      ]
     },
     "metadata": {},
     "output_type": "display_data"
    }
   ],
   "source": [
    "plt.figure(figsize=(6,4))\n",
    "plt.scatter(x,y, color = \"Blue\", label = 'Data')\n",
    "plt.plot(x,y_pred, color ='Red' , label = \"Linear Regression Line\")\n",
    "plt.legend()\n",
    "plt.xlabel('x')\n",
    "plt.ylabel('y')\n",
    "plt.show()"
   ]
  },
  {
   "cell_type": "markdown",
   "id": "4524900c",
   "metadata": {},
   "source": [
    "### Scatter plot for y vs predicted y and 45 degree line"
   ]
  },
  {
   "cell_type": "code",
   "execution_count": 29,
   "id": "cbebe342",
   "metadata": {},
   "outputs": [
    {
     "data": {
      "image/png": "[encoded data removed]",
      "text/plain": [
       "<Figure size 600x400 with 1 Axes>"
      ]
     },
     "metadata": {},
     "output_type": "display_data"
    }
   ],
   "source": [
    "# Update predictions into dataframe\n",
    "df['predicted_y'] = y_pred\n",
    "\n",
    "\n",
    "\n",
    "plt.figure(figsize=(6,4))\n",
    "\n",
    "sns.scatterplot(data=df, x='y', y='predicted_y', color='blue')\n",
    "\n",
    "plt.title('Scatter Plot of y and predicted_y')\n",
    "\n",
    "\n",
    "\n",
    "# To Draw 45 degree line for comparison\n",
    "\n",
    "## Max and min range of y value\n",
    "max_limit = max(df['y'].max(), df['predicted_y'].max())  \n",
    "min_limit = min(df['y'].min(), df['predicted_y'].min())  \n",
    "\n",
    "# Create x values for the 45-degree line\n",
    "x_values = np.linspace(min_limit, max_limit, 100)\n",
    "\n",
    "# Plotting the 45-degree line\n",
    "plt.plot(x_values, x_values, label='45 degree line', color='red')  \n",
    "\n",
    "\n",
    "# Label x and y axis\n",
    "plt.xlabel('y')\n",
    "plt.ylabel('predicted_y')\n",
    "\n",
    "plt.show()"
   ]
  },
  {
   "cell_type": "markdown",
   "id": "1417c0f7",
   "metadata": {},
   "source": [
    "### Calculate $R^2$ value"
   ]
  },
  {
   "cell_type": "code",
   "execution_count": 30,
   "id": "319560be",
   "metadata": {},
   "outputs": [
    {
     "data": {
      "text/plain": [
       "0.7925522314856496"
      ]
     },
     "execution_count": 30,
     "metadata": {},
     "output_type": "execute_result"
    }
   ],
   "source": [
    "r_squared = regressor.score(x, y)\n",
    "r_squared"
   ]
  },
  {
   "cell_type": "markdown",
   "id": "4f32cfa1",
   "metadata": {},
   "source": [
    "## Calculate error and standardized error"
   ]
  },
  {
   "cell_type": "code",
   "execution_count": 31,
   "id": "64f0cf9a",
   "metadata": {},
   "outputs": [],
   "source": [
    "df['error'] = df['y'] - df['predicted_y']\n",
    "\n",
    "# Standardize error using standard scalar\n",
    "from sklearn.preprocessing import StandardScaler\n",
    "scaler = StandardScaler()\n",
    "df['Standard error'] = scaler.fit_transform(df[['error']])"
   ]
  },
  {
   "cell_type": "code",
   "execution_count": 32,
   "id": "0778dc73",
   "metadata": {},
   "outputs": [
    {
     "data": {
      "image/png": "[encoded data removed]",
      "text/plain": [
       "<Figure size 600x400 with 1 Axes>"
      ]
     },
     "metadata": {},
     "output_type": "display_data"
    }
   ],
   "source": [
    "### Plot Standardized error vs x\n",
    "\n",
    "plt.figure(figsize=(6,4))\n",
    "sns.scatterplot(data=df, x='x', y='Standard error', color='blue')\n",
    "\n",
    "plt.title('Scatter Plot of x vs Standardized error')\n",
    "\n",
    "plt.xlabel('x')\n",
    "plt.ylabel('Standardized error')\n",
    "\n",
    "plt.show()"
   ]
  },
  {
   "cell_type": "markdown",
   "id": "fd56a772",
   "metadata": {},
   "source": [
    "There is a pattern in the standardized error"
   ]
  },
  {
   "cell_type": "markdown",
   "id": "33bf2654",
   "metadata": {},
   "source": [
    "<font color = green> Both scatter plot of the data and a plot of the residuals generated from a linear regression of y on x, show a strong curved pattern, suggesting that a transformation to achieve linearity is appropriate.\n",
    "    \n",
    "<font color = green> Also the $R^2 = 0.79$ so predictive capacity of this model is low"
   ]
  },
  {
   "cell_type": "markdown",
   "id": "6c34aed8",
   "metadata": {},
   "source": [
    "### Let transform the variables"
   ]
  },
  {
   "cell_type": "code",
   "execution_count": 33,
   "id": "72ecf85a",
   "metadata": {},
   "outputs": [],
   "source": [
    "# Update dataframe\n",
    "data = {\n",
    "    'x': [2, 10, 20, 30, 40, 50, 60, 70, 80, 90, 100],\n",
    "    'y': [408, 272, 196, 137, 90, 78, 51, 40, 30, 22, 15]\n",
    "       }\n",
    "\n",
    "df = pd.DataFrame(data)"
   ]
  },
  {
   "cell_type": "code",
   "execution_count": 34,
   "id": "342aaade",
   "metadata": {},
   "outputs": [],
   "source": [
    "df['ln_x'] = np.log(df['x'])\n",
    "df['ln_y'] = np.log(df['y'])"
   ]
  },
  {
   "cell_type": "code",
   "execution_count": 35,
   "id": "1b263f37",
   "metadata": {},
   "outputs": [
    {
     "data": {
      "text/html": [
       "<div>\n",
       "<style scoped>\n",
       "    .dataframe tbody tr th:only-of-type {\n",
       "        vertical-align: middle;\n",
       "    }\n",
       "\n",
       "    .dataframe tbody tr th {\n",
       "        vertical-align: top;\n",
       "    }\n",
       "\n",
       "    .dataframe thead th {\n",
       "        text-align: right;\n",
       "    }\n",
       "</style>\n",
       "<table border=\"1\" class=\"dataframe\">\n",
       "  <thead>\n",
       "    <tr style=\"text-align: right;\">\n",
       "      <th></th>\n",
       "      <th>x</th>\n",
       "      <th>y</th>\n",
       "      <th>ln_x</th>\n",
       "      <th>ln_y</th>\n",
       "    </tr>\n",
       "  </thead>\n",
       "  <tbody>\n",
       "    <tr>\n",
       "      <th>0</th>\n",
       "      <td>2</td>\n",
       "      <td>408</td>\n",
       "      <td>0.693147</td>\n",
       "      <td>6.011267</td>\n",
       "    </tr>\n",
       "    <tr>\n",
       "      <th>1</th>\n",
       "      <td>10</td>\n",
       "      <td>272</td>\n",
       "      <td>2.302585</td>\n",
       "      <td>5.605802</td>\n",
       "    </tr>\n",
       "    <tr>\n",
       "      <th>2</th>\n",
       "      <td>20</td>\n",
       "      <td>196</td>\n",
       "      <td>2.995732</td>\n",
       "      <td>5.278115</td>\n",
       "    </tr>\n",
       "    <tr>\n",
       "      <th>3</th>\n",
       "      <td>30</td>\n",
       "      <td>137</td>\n",
       "      <td>3.401197</td>\n",
       "      <td>4.919981</td>\n",
       "    </tr>\n",
       "    <tr>\n",
       "      <th>4</th>\n",
       "      <td>40</td>\n",
       "      <td>90</td>\n",
       "      <td>3.688879</td>\n",
       "      <td>4.499810</td>\n",
       "    </tr>\n",
       "    <tr>\n",
       "      <th>5</th>\n",
       "      <td>50</td>\n",
       "      <td>78</td>\n",
       "      <td>3.912023</td>\n",
       "      <td>4.356709</td>\n",
       "    </tr>\n",
       "    <tr>\n",
       "      <th>6</th>\n",
       "      <td>60</td>\n",
       "      <td>51</td>\n",
       "      <td>4.094345</td>\n",
       "      <td>3.931826</td>\n",
       "    </tr>\n",
       "    <tr>\n",
       "      <th>7</th>\n",
       "      <td>70</td>\n",
       "      <td>40</td>\n",
       "      <td>4.248495</td>\n",
       "      <td>3.688879</td>\n",
       "    </tr>\n",
       "    <tr>\n",
       "      <th>8</th>\n",
       "      <td>80</td>\n",
       "      <td>30</td>\n",
       "      <td>4.382027</td>\n",
       "      <td>3.401197</td>\n",
       "    </tr>\n",
       "    <tr>\n",
       "      <th>9</th>\n",
       "      <td>90</td>\n",
       "      <td>22</td>\n",
       "      <td>4.499810</td>\n",
       "      <td>3.091042</td>\n",
       "    </tr>\n",
       "    <tr>\n",
       "      <th>10</th>\n",
       "      <td>100</td>\n",
       "      <td>15</td>\n",
       "      <td>4.605170</td>\n",
       "      <td>2.708050</td>\n",
       "    </tr>\n",
       "  </tbody>\n",
       "</table>\n",
       "</div>"
      ],
      "text/plain": [
       "      x    y      ln_x      ln_y\n",
       "0     2  408  0.693147  6.011267\n",
       "1    10  272  2.302585  5.605802\n",
       "2    20  196  2.995732  5.278115\n",
       "3    30  137  3.401197  4.919981\n",
       "4    40   90  3.688879  4.499810\n",
       "5    50   78  3.912023  4.356709\n",
       "6    60   51  4.094345  3.931826\n",
       "7    70   40  4.248495  3.688879\n",
       "8    80   30  4.382027  3.401197\n",
       "9    90   22  4.499810  3.091042\n",
       "10  100   15  4.605170  2.708050"
      ]
     },
     "execution_count": 35,
     "metadata": {},
     "output_type": "execute_result"
    }
   ],
   "source": [
    "df"
   ]
  },
  {
   "cell_type": "markdown",
   "id": "bae8827f",
   "metadata": {},
   "source": [
    "### Scatter plots of the transformed variables"
   ]
  },
  {
   "cell_type": "code",
   "execution_count": 36,
   "id": "b516a250",
   "metadata": {},
   "outputs": [
    {
     "data": {
      "image/png": "[encoded data removed]",
      "text/plain": [
       "<Figure size 600x1200 with 3 Axes>"
      ]
     },
     "metadata": {},
     "output_type": "display_data"
    }
   ],
   "source": [
    "# Create a figure with three subplots arranged vertically\n",
    "fig, axes = plt.subplots(nrows=3, ncols=1, figsize=(6, 12))\n",
    "\n",
    "# First plot: 'x' vs 'ln_y'\n",
    "sns.scatterplot(data=df, x='x', y='ln_y', color='blue', ax=axes[0])\n",
    "axes[0].set_title('Scatter Plot of x vs ln_y')\n",
    "axes[0].set_xlabel('x')\n",
    "axes[0].set_ylabel('ln_y')\n",
    "\n",
    "# Second plot: 'ln_x' vs 'y'\n",
    "sns.scatterplot(data=df, x='ln_x', y='y', color='blue', ax=axes[1])\n",
    "axes[1].set_title('Scatter Plot of ln_x vs y')\n",
    "axes[1].set_xlabel('ln_x')\n",
    "axes[1].set_ylabel('y')\n",
    "\n",
    "# Third plot: 'ln_x' vs 'ln_y'\n",
    "sns.scatterplot(data=df, x='ln_x', y='ln_y', color='blue', ax=axes[2])\n",
    "axes[2].set_title('Scatter Plot of ln_x vs ln_y')\n",
    "axes[2].set_xlabel('ln_x')\n",
    "axes[2].set_ylabel('ln_y')\n",
    "\n",
    "# Adjust layout to prevent overlap\n",
    "plt.tight_layout()\n",
    "\n",
    "# Display the figure with all subplots\n",
    "plt.show()"
   ]
  },
  {
   "cell_type": "markdown",
   "id": "a3ffdf9d",
   "metadata": {},
   "source": [
    "<font color = green> x vs ln_y shows a linear relationship and ln_x and y also shows a linear relationship\n",
    "\n",
    "Let us first fit a model on x vs ln_y"
   ]
  },
  {
   "cell_type": "markdown",
   "id": "92fde1ab",
   "metadata": {},
   "source": [
    "### Model on x and ln_x"
   ]
  },
  {
   "cell_type": "code",
   "execution_count": 37,
   "id": "b8e86a6d",
   "metadata": {},
   "outputs": [],
   "source": [
    "x = df['x'].values\n",
    "ln_y = df['ln_y'].values\n",
    "\n",
    "x = x.reshape(-1,1)\n",
    "ln_y = ln_y.reshape(-1,1)"
   ]
  },
  {
   "cell_type": "code",
   "execution_count": 38,
   "id": "a527b962",
   "metadata": {},
   "outputs": [
    {
     "data": {
      "text/plain": [
       "LinearRegression()"
      ]
     },
     "execution_count": 38,
     "metadata": {},
     "output_type": "execute_result"
    }
   ],
   "source": [
    "regressor.fit(x,ln_y ) # Already imported LinearRegression as regressor"
   ]
  },
  {
   "cell_type": "code",
   "execution_count": 39,
   "id": "46826394",
   "metadata": {},
   "outputs": [],
   "source": [
    "# Predictions \n",
    "\n",
    "df['ln predicted y'] = regressor.predict(x)   # fit on x and ln y.   prediction will be ln of required prediction since fit is on ln y   \n",
    "df['predicted_y'] =np.exp(df['ln predicted y']) # inverse of ln of predicted y"
   ]
  },
  {
   "cell_type": "code",
   "execution_count": 40,
   "id": "6f5e4fa0",
   "metadata": {},
   "outputs": [
    {
     "data": {
      "text/html": [
       "<div>\n",
       "<style scoped>\n",
       "    .dataframe tbody tr th:only-of-type {\n",
       "        vertical-align: middle;\n",
       "    }\n",
       "\n",
       "    .dataframe tbody tr th {\n",
       "        vertical-align: top;\n",
       "    }\n",
       "\n",
       "    .dataframe thead th {\n",
       "        text-align: right;\n",
       "    }\n",
       "</style>\n",
       "<table border=\"1\" class=\"dataframe\">\n",
       "  <thead>\n",
       "    <tr style=\"text-align: right;\">\n",
       "      <th></th>\n",
       "      <th>x</th>\n",
       "      <th>y</th>\n",
       "      <th>ln_x</th>\n",
       "      <th>ln_y</th>\n",
       "      <th>ln predicted y</th>\n",
       "      <th>predicted_y</th>\n",
       "    </tr>\n",
       "  </thead>\n",
       "  <tbody>\n",
       "    <tr>\n",
       "      <th>0</th>\n",
       "      <td>2</td>\n",
       "      <td>408</td>\n",
       "      <td>0.693147</td>\n",
       "      <td>6.011267</td>\n",
       "      <td>5.873859</td>\n",
       "      <td>355.618601</td>\n",
       "    </tr>\n",
       "    <tr>\n",
       "      <th>1</th>\n",
       "      <td>10</td>\n",
       "      <td>272</td>\n",
       "      <td>2.302585</td>\n",
       "      <td>5.605802</td>\n",
       "      <td>5.615447</td>\n",
       "      <td>274.636172</td>\n",
       "    </tr>\n",
       "    <tr>\n",
       "      <th>2</th>\n",
       "      <td>20</td>\n",
       "      <td>196</td>\n",
       "      <td>2.995732</td>\n",
       "      <td>5.278115</td>\n",
       "      <td>5.292433</td>\n",
       "      <td>198.826525</td>\n",
       "    </tr>\n",
       "    <tr>\n",
       "      <th>3</th>\n",
       "      <td>30</td>\n",
       "      <td>137</td>\n",
       "      <td>3.401197</td>\n",
       "      <td>4.919981</td>\n",
       "      <td>4.969418</td>\n",
       "      <td>143.943119</td>\n",
       "    </tr>\n",
       "    <tr>\n",
       "      <th>4</th>\n",
       "      <td>40</td>\n",
       "      <td>90</td>\n",
       "      <td>3.688879</td>\n",
       "      <td>4.499810</td>\n",
       "      <td>4.646404</td>\n",
       "      <td>104.209543</td>\n",
       "    </tr>\n",
       "    <tr>\n",
       "      <th>5</th>\n",
       "      <td>50</td>\n",
       "      <td>78</td>\n",
       "      <td>3.912023</td>\n",
       "      <td>4.356709</td>\n",
       "      <td>4.323389</td>\n",
       "      <td>75.443891</td>\n",
       "    </tr>\n",
       "    <tr>\n",
       "      <th>6</th>\n",
       "      <td>60</td>\n",
       "      <td>51</td>\n",
       "      <td>4.094345</td>\n",
       "      <td>3.931826</td>\n",
       "      <td>4.000375</td>\n",
       "      <td>54.618613</td>\n",
       "    </tr>\n",
       "    <tr>\n",
       "      <th>7</th>\n",
       "      <td>70</td>\n",
       "      <td>40</td>\n",
       "      <td>4.248495</td>\n",
       "      <td>3.688879</td>\n",
       "      <td>3.677360</td>\n",
       "      <td>39.541874</td>\n",
       "    </tr>\n",
       "    <tr>\n",
       "      <th>8</th>\n",
       "      <td>80</td>\n",
       "      <td>30</td>\n",
       "      <td>4.382027</td>\n",
       "      <td>3.401197</td>\n",
       "      <td>3.354346</td>\n",
       "      <td>28.626868</td>\n",
       "    </tr>\n",
       "    <tr>\n",
       "      <th>9</th>\n",
       "      <td>90</td>\n",
       "      <td>22</td>\n",
       "      <td>4.499810</td>\n",
       "      <td>3.091042</td>\n",
       "      <td>3.031331</td>\n",
       "      <td>20.724803</td>\n",
       "    </tr>\n",
       "    <tr>\n",
       "      <th>10</th>\n",
       "      <td>100</td>\n",
       "      <td>15</td>\n",
       "      <td>4.605170</td>\n",
       "      <td>2.708050</td>\n",
       "      <td>2.708317</td>\n",
       "      <td>15.003998</td>\n",
       "    </tr>\n",
       "  </tbody>\n",
       "</table>\n",
       "</div>"
      ],
      "text/plain": [
       "      x    y      ln_x      ln_y  ln predicted y  predicted_y\n",
       "0     2  408  0.693147  6.011267        5.873859   355.618601\n",
       "1    10  272  2.302585  5.605802        5.615447   274.636172\n",
       "2    20  196  2.995732  5.278115        5.292433   198.826525\n",
       "3    30  137  3.401197  4.919981        4.969418   143.943119\n",
       "4    40   90  3.688879  4.499810        4.646404   104.209543\n",
       "5    50   78  3.912023  4.356709        4.323389    75.443891\n",
       "6    60   51  4.094345  3.931826        4.000375    54.618613\n",
       "7    70   40  4.248495  3.688879        3.677360    39.541874\n",
       "8    80   30  4.382027  3.401197        3.354346    28.626868\n",
       "9    90   22  4.499810  3.091042        3.031331    20.724803\n",
       "10  100   15  4.605170  2.708050        2.708317    15.003998"
      ]
     },
     "execution_count": 40,
     "metadata": {},
     "output_type": "execute_result"
    }
   ],
   "source": [
    "df"
   ]
  },
  {
   "cell_type": "code",
   "execution_count": 41,
   "id": "e766d003",
   "metadata": {},
   "outputs": [],
   "source": [
    "# Error and Standardized error\n",
    "\n",
    "df['error'] = df['y'] -df['predicted_y']\n",
    "\n",
    "df['Standard error'] = scaler.fit_transform(df[['error']])  # Already imported standard from sklearn preprocessing as scaler"
   ]
  },
  {
   "cell_type": "code",
   "execution_count": 42,
   "id": "f6d8f0d7",
   "metadata": {},
   "outputs": [
    {
     "data": {
      "text/html": [
       "<div>\n",
       "<style scoped>\n",
       "    .dataframe tbody tr th:only-of-type {\n",
       "        vertical-align: middle;\n",
       "    }\n",
       "\n",
       "    .dataframe tbody tr th {\n",
       "        vertical-align: top;\n",
       "    }\n",
       "\n",
       "    .dataframe thead th {\n",
       "        text-align: right;\n",
       "    }\n",
       "</style>\n",
       "<table border=\"1\" class=\"dataframe\">\n",
       "  <thead>\n",
       "    <tr style=\"text-align: right;\">\n",
       "      <th></th>\n",
       "      <th>x</th>\n",
       "      <th>y</th>\n",
       "      <th>ln_x</th>\n",
       "      <th>ln_y</th>\n",
       "      <th>ln predicted y</th>\n",
       "      <th>predicted_y</th>\n",
       "      <th>error</th>\n",
       "      <th>Standard error</th>\n",
       "    </tr>\n",
       "  </thead>\n",
       "  <tbody>\n",
       "    <tr>\n",
       "      <th>0</th>\n",
       "      <td>2</td>\n",
       "      <td>408</td>\n",
       "      <td>0.693147</td>\n",
       "      <td>6.011267</td>\n",
       "      <td>5.873859</td>\n",
       "      <td>355.618601</td>\n",
       "      <td>52.381399</td>\n",
       "      <td>3.038123</td>\n",
       "    </tr>\n",
       "    <tr>\n",
       "      <th>1</th>\n",
       "      <td>10</td>\n",
       "      <td>272</td>\n",
       "      <td>2.302585</td>\n",
       "      <td>5.605802</td>\n",
       "      <td>5.615447</td>\n",
       "      <td>274.636172</td>\n",
       "      <td>-2.636172</td>\n",
       "      <td>-0.314698</td>\n",
       "    </tr>\n",
       "    <tr>\n",
       "      <th>2</th>\n",
       "      <td>20</td>\n",
       "      <td>196</td>\n",
       "      <td>2.995732</td>\n",
       "      <td>5.278115</td>\n",
       "      <td>5.292433</td>\n",
       "      <td>198.826525</td>\n",
       "      <td>-2.826525</td>\n",
       "      <td>-0.326299</td>\n",
       "    </tr>\n",
       "    <tr>\n",
       "      <th>3</th>\n",
       "      <td>30</td>\n",
       "      <td>137</td>\n",
       "      <td>3.401197</td>\n",
       "      <td>4.919981</td>\n",
       "      <td>4.969418</td>\n",
       "      <td>143.943119</td>\n",
       "      <td>-6.943119</td>\n",
       "      <td>-0.577168</td>\n",
       "    </tr>\n",
       "    <tr>\n",
       "      <th>4</th>\n",
       "      <td>40</td>\n",
       "      <td>90</td>\n",
       "      <td>3.688879</td>\n",
       "      <td>4.499810</td>\n",
       "      <td>4.646404</td>\n",
       "      <td>104.209543</td>\n",
       "      <td>-14.209543</td>\n",
       "      <td>-1.019990</td>\n",
       "    </tr>\n",
       "    <tr>\n",
       "      <th>5</th>\n",
       "      <td>50</td>\n",
       "      <td>78</td>\n",
       "      <td>3.912023</td>\n",
       "      <td>4.356709</td>\n",
       "      <td>4.323389</td>\n",
       "      <td>75.443891</td>\n",
       "      <td>2.556109</td>\n",
       "      <td>0.001724</td>\n",
       "    </tr>\n",
       "    <tr>\n",
       "      <th>6</th>\n",
       "      <td>60</td>\n",
       "      <td>51</td>\n",
       "      <td>4.094345</td>\n",
       "      <td>3.931826</td>\n",
       "      <td>4.000375</td>\n",
       "      <td>54.618613</td>\n",
       "      <td>-3.618613</td>\n",
       "      <td>-0.374569</td>\n",
       "    </tr>\n",
       "    <tr>\n",
       "      <th>7</th>\n",
       "      <td>70</td>\n",
       "      <td>40</td>\n",
       "      <td>4.248495</td>\n",
       "      <td>3.688879</td>\n",
       "      <td>3.677360</td>\n",
       "      <td>39.541874</td>\n",
       "      <td>0.458126</td>\n",
       "      <td>-0.126129</td>\n",
       "    </tr>\n",
       "    <tr>\n",
       "      <th>8</th>\n",
       "      <td>80</td>\n",
       "      <td>30</td>\n",
       "      <td>4.382027</td>\n",
       "      <td>3.401197</td>\n",
       "      <td>3.354346</td>\n",
       "      <td>28.626868</td>\n",
       "      <td>1.373132</td>\n",
       "      <td>-0.070368</td>\n",
       "    </tr>\n",
       "    <tr>\n",
       "      <th>9</th>\n",
       "      <td>90</td>\n",
       "      <td>22</td>\n",
       "      <td>4.499810</td>\n",
       "      <td>3.091042</td>\n",
       "      <td>3.031331</td>\n",
       "      <td>20.724803</td>\n",
       "      <td>1.275197</td>\n",
       "      <td>-0.076336</td>\n",
       "    </tr>\n",
       "    <tr>\n",
       "      <th>10</th>\n",
       "      <td>100</td>\n",
       "      <td>15</td>\n",
       "      <td>4.605170</td>\n",
       "      <td>2.708050</td>\n",
       "      <td>2.708317</td>\n",
       "      <td>15.003998</td>\n",
       "      <td>-0.003998</td>\n",
       "      <td>-0.154291</td>\n",
       "    </tr>\n",
       "  </tbody>\n",
       "</table>\n",
       "</div>"
      ],
      "text/plain": [
       "      x    y      ln_x      ln_y  ln predicted y  predicted_y      error  \\\n",
       "0     2  408  0.693147  6.011267        5.873859   355.618601  52.381399   \n",
       "1    10  272  2.302585  5.605802        5.615447   274.636172  -2.636172   \n",
       "2    20  196  2.995732  5.278115        5.292433   198.826525  -2.826525   \n",
       "3    30  137  3.401197  4.919981        4.969418   143.943119  -6.943119   \n",
       "4    40   90  3.688879  4.499810        4.646404   104.209543 -14.209543   \n",
       "5    50   78  3.912023  4.356709        4.323389    75.443891   2.556109   \n",
       "6    60   51  4.094345  3.931826        4.000375    54.618613  -3.618613   \n",
       "7    70   40  4.248495  3.688879        3.677360    39.541874   0.458126   \n",
       "8    80   30  4.382027  3.401197        3.354346    28.626868   1.373132   \n",
       "9    90   22  4.499810  3.091042        3.031331    20.724803   1.275197   \n",
       "10  100   15  4.605170  2.708050        2.708317    15.003998  -0.003998   \n",
       "\n",
       "    Standard error  \n",
       "0         3.038123  \n",
       "1        -0.314698  \n",
       "2        -0.326299  \n",
       "3        -0.577168  \n",
       "4        -1.019990  \n",
       "5         0.001724  \n",
       "6        -0.374569  \n",
       "7        -0.126129  \n",
       "8        -0.070368  \n",
       "9        -0.076336  \n",
       "10       -0.154291  "
      ]
     },
     "execution_count": 42,
     "metadata": {},
     "output_type": "execute_result"
    }
   ],
   "source": [
    "df"
   ]
  },
  {
   "cell_type": "code",
   "execution_count": 43,
   "id": "60489986",
   "metadata": {},
   "outputs": [
    {
     "data": {
      "image/png": "[encoded data removed]",
      "text/plain": [
       "<Figure size 600x400 with 1 Axes>"
      ]
     },
     "metadata": {},
     "output_type": "display_data"
    }
   ],
   "source": [
    "### Scatter plot of y vs predicted y and 45 degree line \n",
    "\n",
    "plt.figure(figsize=(6,4))\n",
    "\n",
    "sns.scatterplot(data=df, x='y', y='predicted_y', color='blue')\n",
    "\n",
    "plt.title('Scatter Plot of y and predicted_y')\n",
    "\n",
    "\n",
    "\n",
    "# To Draw 45 degree line for comparison\n",
    "\n",
    "## Max and min range of y value\n",
    "max_limit = max(df['y'].max(), df['predicted_y'].max())  \n",
    "min_limit = min(df['y'].min(), df['predicted_y'].min())  \n",
    "\n",
    "# Create x values for the 45-degree line\n",
    "x_values = np.linspace(min_limit, max_limit, 100)\n",
    "\n",
    "# Plotting the 45-degree line\n",
    "plt.plot(x_values, x_values, label='45 degree line', color='red')  \n",
    "\n",
    "\n",
    "# Label x and y axis\n",
    "plt.xlabel('y')\n",
    "plt.ylabel('predicted_y')\n",
    "\n",
    "plt.show()"
   ]
  },
  {
   "cell_type": "code",
   "execution_count": 44,
   "id": "13441692",
   "metadata": {},
   "outputs": [
    {
     "data": {
      "text/plain": [
       "0.9951607081365164"
      ]
     },
     "execution_count": 44,
     "metadata": {},
     "output_type": "execute_result"
    }
   ],
   "source": [
    "# R square value\n",
    "r_squared = regressor.score(x, ln_y) #fit on x, ln_y\n",
    "r_squared"
   ]
  },
  {
   "cell_type": "code",
   "execution_count": 45,
   "id": "d04857ed",
   "metadata": {},
   "outputs": [
    {
     "data": {
      "image/png": "[encoded data removed]",
      "text/plain": [
       "<Figure size 600x400 with 1 Axes>"
      ]
     },
     "metadata": {},
     "output_type": "display_data"
    }
   ],
   "source": [
    "# Scalar plot of x vs standardized error\n",
    "\n",
    "plt.figure(figsize=(6,4))\n",
    "sns.scatterplot(data=df, x='x', y='Standard error', color='blue')\n",
    "\n",
    "plt.title('Scatter Plot of x vs Standardized error')\n",
    "\n",
    "plt.xlabel('x')\n",
    "plt.ylabel('Standardized error')\n",
    "\n",
    "plt.show()"
   ]
  },
  {
   "cell_type": "code",
   "execution_count": 46,
   "id": "56920a8d",
   "metadata": {},
   "outputs": [],
   "source": [
    "# Coefficients \n",
    "slope = regressor.coef_[0]  # Slope of the regression line\n",
    "intercept = regressor.intercept_  # Intercept of the regression line"
   ]
  },
  {
   "cell_type": "code",
   "execution_count": 47,
   "id": "81724aaf",
   "metadata": {},
   "outputs": [
    {
     "data": {
      "text/plain": [
       "array([-0.03230145])"
      ]
     },
     "execution_count": 47,
     "metadata": {},
     "output_type": "execute_result"
    }
   ],
   "source": [
    "slope"
   ]
  },
  {
   "cell_type": "code",
   "execution_count": 48,
   "id": "93421928",
   "metadata": {},
   "outputs": [
    {
     "data": {
      "text/plain": [
       "array([5.93846171])"
      ]
     },
     "execution_count": 48,
     "metadata": {},
     "output_type": "execute_result"
    }
   ],
   "source": [
    "intercept"
   ]
  },
  {
   "cell_type": "markdown",
   "id": "1e2f1545",
   "metadata": {},
   "source": [
    "So estimate of $\\beta_1 = -0.03230145$ \n",
    "\n",
    "and estimate of $\\beta_0 = 5.93846171 $  "
   ]
  },
  {
   "cell_type": "markdown",
   "id": "0a0075b9",
   "metadata": {},
   "source": [
    "### Modeling the equation from linear regression "
   ]
  },
  {
   "cell_type": "markdown",
   "id": "a8dc208f",
   "metadata": {},
   "source": [
    "Since the fit is on $ln(y)$ and $x$\n",
    "\n",
    "Linear model (regression line) is $$ ln (y) = \\beta_0 + \\beta_1 x $$\n",
    "so $$ y = e^{\\beta_0 + \\beta_1 x} $$\n",
    "i.e, $$ y = e^{\\beta_0}e^{\\beta_1 x} $$"
   ]
  },
  {
   "cell_type": "markdown",
   "id": "32208d9a",
   "metadata": {},
   "source": [
    "##### Calculating $e^{\\beta_0}$ "
   ]
  },
  {
   "cell_type": "code",
   "execution_count": 49,
   "id": "fff7f3ac",
   "metadata": {},
   "outputs": [
    {
     "name": "stdout",
     "output_type": "stream",
     "text": [
      "e^beta_0 =  379.35092873184476\n"
     ]
    }
   ],
   "source": [
    "beta_0 = 5.93846171\n",
    "e_beta_0 = np.exp(beta_0)\n",
    "print('e^beta_0 = ', e_beta_0 )"
   ]
  },
  {
   "cell_type": "markdown",
   "id": "96b1cc96",
   "metadata": {},
   "source": [
    "#### So equation for the model is \n",
    "\n",
    "$$ y = 379.35092e^{−0.03230145 x} $$"
   ]
  },
  {
   "cell_type": "markdown",
   "id": "0ddb49df",
   "metadata": {},
   "source": [
    "The high value of $R^2$ and plot of x Vs standardized error and plot of y vs predicted value of y support the choiceof this exponential model"
   ]
  },
  {
   "cell_type": "code",
   "execution_count": null,
   "id": "cf381893",
   "metadata": {},
   "outputs": [],
   "source": []
  },
  {
   "cell_type": "markdown",
   "id": "b732d5c0",
   "metadata": {},
   "source": [
    "### Plot between lnx and y is also linear so let us try to fit and evaluate the model"
   ]
  },
  {
   "cell_type": "code",
   "execution_count": 50,
   "id": "1a61794f",
   "metadata": {},
   "outputs": [
    {
     "data": {
      "text/html": [
       "<div>\n",
       "<style scoped>\n",
       "    .dataframe tbody tr th:only-of-type {\n",
       "        vertical-align: middle;\n",
       "    }\n",
       "\n",
       "    .dataframe tbody tr th {\n",
       "        vertical-align: top;\n",
       "    }\n",
       "\n",
       "    .dataframe thead th {\n",
       "        text-align: right;\n",
       "    }\n",
       "</style>\n",
       "<table border=\"1\" class=\"dataframe\">\n",
       "  <thead>\n",
       "    <tr style=\"text-align: right;\">\n",
       "      <th></th>\n",
       "      <th>x</th>\n",
       "      <th>y</th>\n",
       "      <th>ln_x</th>\n",
       "      <th>ln_y</th>\n",
       "      <th>ln predicted y</th>\n",
       "      <th>predicted_y</th>\n",
       "      <th>error</th>\n",
       "      <th>Standard error</th>\n",
       "    </tr>\n",
       "  </thead>\n",
       "  <tbody>\n",
       "    <tr>\n",
       "      <th>0</th>\n",
       "      <td>2</td>\n",
       "      <td>408</td>\n",
       "      <td>0.693147</td>\n",
       "      <td>6.011267</td>\n",
       "      <td>5.873859</td>\n",
       "      <td>355.618601</td>\n",
       "      <td>52.381399</td>\n",
       "      <td>3.038123</td>\n",
       "    </tr>\n",
       "    <tr>\n",
       "      <th>1</th>\n",
       "      <td>10</td>\n",
       "      <td>272</td>\n",
       "      <td>2.302585</td>\n",
       "      <td>5.605802</td>\n",
       "      <td>5.615447</td>\n",
       "      <td>274.636172</td>\n",
       "      <td>-2.636172</td>\n",
       "      <td>-0.314698</td>\n",
       "    </tr>\n",
       "    <tr>\n",
       "      <th>2</th>\n",
       "      <td>20</td>\n",
       "      <td>196</td>\n",
       "      <td>2.995732</td>\n",
       "      <td>5.278115</td>\n",
       "      <td>5.292433</td>\n",
       "      <td>198.826525</td>\n",
       "      <td>-2.826525</td>\n",
       "      <td>-0.326299</td>\n",
       "    </tr>\n",
       "  </tbody>\n",
       "</table>\n",
       "</div>"
      ],
      "text/plain": [
       "    x    y      ln_x      ln_y  ln predicted y  predicted_y      error  \\\n",
       "0   2  408  0.693147  6.011267        5.873859   355.618601  52.381399   \n",
       "1  10  272  2.302585  5.605802        5.615447   274.636172  -2.636172   \n",
       "2  20  196  2.995732  5.278115        5.292433   198.826525  -2.826525   \n",
       "\n",
       "   Standard error  \n",
       "0        3.038123  \n",
       "1       -0.314698  \n",
       "2       -0.326299  "
      ]
     },
     "execution_count": 50,
     "metadata": {},
     "output_type": "execute_result"
    }
   ],
   "source": [
    "# data frame\n",
    "df.head(3)"
   ]
  },
  {
   "cell_type": "code",
   "execution_count": 51,
   "id": "2d6b8e47",
   "metadata": {},
   "outputs": [
    {
     "data": {
      "text/html": [
       "<div>\n",
       "<style scoped>\n",
       "    .dataframe tbody tr th:only-of-type {\n",
       "        vertical-align: middle;\n",
       "    }\n",
       "\n",
       "    .dataframe tbody tr th {\n",
       "        vertical-align: top;\n",
       "    }\n",
       "\n",
       "    .dataframe thead th {\n",
       "        text-align: right;\n",
       "    }\n",
       "</style>\n",
       "<table border=\"1\" class=\"dataframe\">\n",
       "  <thead>\n",
       "    <tr style=\"text-align: right;\">\n",
       "      <th></th>\n",
       "      <th>x</th>\n",
       "      <th>y</th>\n",
       "      <th>ln_x</th>\n",
       "    </tr>\n",
       "  </thead>\n",
       "  <tbody>\n",
       "    <tr>\n",
       "      <th>0</th>\n",
       "      <td>2</td>\n",
       "      <td>408</td>\n",
       "      <td>0.693147</td>\n",
       "    </tr>\n",
       "    <tr>\n",
       "      <th>1</th>\n",
       "      <td>10</td>\n",
       "      <td>272</td>\n",
       "      <td>2.302585</td>\n",
       "    </tr>\n",
       "    <tr>\n",
       "      <th>2</th>\n",
       "      <td>20</td>\n",
       "      <td>196</td>\n",
       "      <td>2.995732</td>\n",
       "    </tr>\n",
       "  </tbody>\n",
       "</table>\n",
       "</div>"
      ],
      "text/plain": [
       "    x    y      ln_x\n",
       "0   2  408  0.693147\n",
       "1  10  272  2.302585\n",
       "2  20  196  2.995732"
      ]
     },
     "execution_count": 51,
     "metadata": {},
     "output_type": "execute_result"
    }
   ],
   "source": [
    "# Drop columns\n",
    "columns_to_drop = ['ln_y', 'ln predicted y', 'predicted_y', 'error', 'Standard error']\n",
    "\n",
    "df.drop(columns=columns_to_drop, inplace=True)\n",
    "\n",
    "df.head(3)"
   ]
  },
  {
   "cell_type": "code",
   "execution_count": 52,
   "id": "ab48a185",
   "metadata": {},
   "outputs": [],
   "source": [
    "ln_x = df['ln_x'].values\n",
    "y = df['y'].values\n",
    "\n",
    "ln_x = ln_x.reshape(-1,1)\n",
    "y = y.reshape(-1,1)"
   ]
  },
  {
   "cell_type": "code",
   "execution_count": 53,
   "id": "7bca5f10",
   "metadata": {},
   "outputs": [
    {
     "data": {
      "text/plain": [
       "LinearRegression()"
      ]
     },
     "execution_count": 53,
     "metadata": {},
     "output_type": "execute_result"
    }
   ],
   "source": [
    "regressor.fit(ln_x,y)"
   ]
  },
  {
   "cell_type": "code",
   "execution_count": 54,
   "id": "5656297f",
   "metadata": {},
   "outputs": [],
   "source": [
    "predicted_y = regressor.predict(ln_x)\n",
    "df['predicted_y'] = predicted_y\n",
    "\n",
    "df['error'] = df['y'] - df['predicted_y']\n",
    "\n",
    "# Standardized error\n",
    "df['Standard error'] = scaler.fit_transform(df[['error']])  # Already imported StandardScaler as scalar"
   ]
  },
  {
   "cell_type": "code",
   "execution_count": 55,
   "id": "a0515333",
   "metadata": {},
   "outputs": [
    {
     "data": {
      "text/html": [
       "<div>\n",
       "<style scoped>\n",
       "    .dataframe tbody tr th:only-of-type {\n",
       "        vertical-align: middle;\n",
       "    }\n",
       "\n",
       "    .dataframe tbody tr th {\n",
       "        vertical-align: top;\n",
       "    }\n",
       "\n",
       "    .dataframe thead th {\n",
       "        text-align: right;\n",
       "    }\n",
       "</style>\n",
       "<table border=\"1\" class=\"dataframe\">\n",
       "  <thead>\n",
       "    <tr style=\"text-align: right;\">\n",
       "      <th></th>\n",
       "      <th>x</th>\n",
       "      <th>y</th>\n",
       "      <th>ln_x</th>\n",
       "      <th>predicted_y</th>\n",
       "      <th>error</th>\n",
       "      <th>Standard error</th>\n",
       "    </tr>\n",
       "  </thead>\n",
       "  <tbody>\n",
       "    <tr>\n",
       "      <th>0</th>\n",
       "      <td>2</td>\n",
       "      <td>408</td>\n",
       "      <td>0.693147</td>\n",
       "      <td>421.879811</td>\n",
       "      <td>-13.879811</td>\n",
       "      <td>-1.241793</td>\n",
       "    </tr>\n",
       "    <tr>\n",
       "      <th>1</th>\n",
       "      <td>10</td>\n",
       "      <td>272</td>\n",
       "      <td>2.302585</td>\n",
       "      <td>251.557650</td>\n",
       "      <td>20.442350</td>\n",
       "      <td>1.828927</td>\n",
       "    </tr>\n",
       "    <tr>\n",
       "      <th>2</th>\n",
       "      <td>20</td>\n",
       "      <td>196</td>\n",
       "      <td>2.995732</td>\n",
       "      <td>178.203888</td>\n",
       "      <td>17.796112</td>\n",
       "      <td>1.592175</td>\n",
       "    </tr>\n",
       "    <tr>\n",
       "      <th>3</th>\n",
       "      <td>30</td>\n",
       "      <td>137</td>\n",
       "      <td>3.401197</td>\n",
       "      <td>135.294688</td>\n",
       "      <td>1.705312</td>\n",
       "      <td>0.152570</td>\n",
       "    </tr>\n",
       "  </tbody>\n",
       "</table>\n",
       "</div>"
      ],
      "text/plain": [
       "    x    y      ln_x  predicted_y      error  Standard error\n",
       "0   2  408  0.693147   421.879811 -13.879811       -1.241793\n",
       "1  10  272  2.302585   251.557650  20.442350        1.828927\n",
       "2  20  196  2.995732   178.203888  17.796112        1.592175\n",
       "3  30  137  3.401197   135.294688   1.705312        0.152570"
      ]
     },
     "execution_count": 55,
     "metadata": {},
     "output_type": "execute_result"
    }
   ],
   "source": [
    "df.head(4)"
   ]
  },
  {
   "cell_type": "code",
   "execution_count": 56,
   "id": "1f9ed65e",
   "metadata": {},
   "outputs": [
    {
     "data": {
      "image/png": "[encoded data removed]",
      "text/plain": [
       "<Figure size 600x400 with 1 Axes>"
      ]
     },
     "metadata": {},
     "output_type": "display_data"
    }
   ],
   "source": [
    "# Scatter plot ln(x) vs Standardized error\n",
    "plt.figure(figsize=(6,4))\n",
    "sns.scatterplot(data=df, x='ln_x', y='Standard error')\n",
    "\n",
    "plt.title('Scatter Plot of ln(x) vs Standardized Error')\n",
    "plt.xlabel('ln(x)')\n",
    "plt.ylabel('Standardized Error')\n",
    "\n",
    "plt.show()"
   ]
  },
  {
   "cell_type": "code",
   "execution_count": 57,
   "id": "a1a0a466",
   "metadata": {},
   "outputs": [
    {
     "data": {
      "image/png": "[encoded data removed]",
      "text/plain": [
       "<Figure size 600x400 with 1 Axes>"
      ]
     },
     "metadata": {},
     "output_type": "display_data"
    }
   ],
   "source": [
    "# Scatter plot y vs predicted y\n",
    "plt.figure(figsize=(6,4))\n",
    "sns.scatterplot(data=df, x='y', y='predicted_y')\n",
    "\n",
    "plt.title('y vs Predicted y')\n",
    "plt.xlabel('y')\n",
    "plt.ylabel('predicted y')\n",
    "\n",
    "plt.show()"
   ]
  },
  {
   "cell_type": "code",
   "execution_count": 58,
   "id": "01ed6588",
   "metadata": {},
   "outputs": [
    {
     "data": {
      "text/plain": [
       "0.9911129835844742"
      ]
     },
     "execution_count": 58,
     "metadata": {},
     "output_type": "execute_result"
    }
   ],
   "source": [
    "# R^2 value\n",
    "\n",
    "r_squared = regressor.score(ln_x, y) #fit on ln_x and y\n",
    "r_squared"
   ]
  },
  {
   "cell_type": "markdown",
   "id": "7986f41f",
   "metadata": {},
   "source": [
    "<font color = green> Both the graphs and high $R^2$ value shows that the model is a good fit"
   ]
  },
  {
   "cell_type": "markdown",
   "id": "1b186986",
   "metadata": {},
   "source": [
    "#### Model the equation"
   ]
  },
  {
   "cell_type": "code",
   "execution_count": 59,
   "id": "7fae721a",
   "metadata": {},
   "outputs": [
    {
     "name": "stdout",
     "output_type": "stream",
     "text": [
      "slope [-105.82710857]\n",
      "Intercept [495.23357249]\n"
     ]
    }
   ],
   "source": [
    "# Coefficients of the regression\n",
    "slope = regressor.coef_[0]  # Slope of the regression line\n",
    "intercept = regressor.intercept_  # Intercept of the regression line\n",
    "\n",
    "print('slope',slope)\n",
    "print('Intercept',intercept)"
   ]
  },
  {
   "cell_type": "markdown",
   "id": "809067fc",
   "metadata": {},
   "source": [
    "So $\\beta_0 = 495.23357249$ and $\\beta_1 = -105.82710857$"
   ]
  },
  {
   "cell_type": "markdown",
   "id": "8f229d08",
   "metadata": {},
   "source": [
    "Since fit is on $y$ and $ln(x)$ equation is $$ y = \\beta_0 + \\beta_1 ln(x) $$ "
   ]
  },
  {
   "cell_type": "markdown",
   "id": "3b7e14ba",
   "metadata": {},
   "source": [
    "So model equation is $y = 495.23357249 −105.82710857 ln(x) $"
   ]
  },
  {
   "cell_type": "code",
   "execution_count": null,
   "id": "af20f1e8",
   "metadata": {},
   "outputs": [],
   "source": []
  }
 ],
 "metadata": {
  "kernelspec": {
   "display_name": "Python 3 (ipykernel)",
   "language": "python",
   "name": "python3"
  },
  "language_info": {
   "codemirror_mode": {
    "name": "ipython",
    "version": 3
   },
   "file_extension": ".py",
   "mimetype": "text/x-python",
   "name": "python",
   "nbconvert_exporter": "python",
   "pygments_lexer": "ipython3",
   "version": "3.7.15"
  }
 },
 "nbformat": 4,
 "nbformat_minor": 5
}
