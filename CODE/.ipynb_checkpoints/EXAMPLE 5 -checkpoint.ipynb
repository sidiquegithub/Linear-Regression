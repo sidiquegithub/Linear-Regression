{
 "cells": [
  {
   "cell_type": "code",
   "execution_count": 1,
   "id": "d08e4781",
   "metadata": {},
   "outputs": [],
   "source": [
    "# Without using LinearRegression() find equation for regression line\n",
    "# Eventhough x and y follows a non linear relation (from scatter plot) fit Linear regression to understand more on how codes works"
   ]
  },
  {
   "cell_type": "markdown",
   "id": "16b2c7f5",
   "metadata": {},
   "source": [
    "$$\n",
    "\\begin{array}{|c|c|c|c|c|c|c|c|c|c|c|}\n",
    "\\hline\n",
    "x & 2 & 10 & 20 & 30 & 40 & 50 & 60  & 70 & 80 & 90 & 100   \\\\\n",
    "\\hline\n",
    "y & 408 & 272 & 196 & 137 & 90 & 78 & 51 & 40 & 30 & 22 & 15\\\\\n",
    "\\hline\n",
    "\\end{array}\n",
    "$$"
   ]
  },
  {
   "cell_type": "code",
   "execution_count": 2,
   "id": "0da65c82",
   "metadata": {},
   "outputs": [],
   "source": [
    "import matplotlib.pyplot as plt\n",
    "import numpy as np\n",
    "import pandas as pd"
   ]
  },
  {
   "cell_type": "code",
   "execution_count": 3,
   "id": "36caa1c8",
   "metadata": {},
   "outputs": [],
   "source": [
    "x = np.array([2, 10, 20, 30, 40, 50, 60, 70, 80, 90, 100])\n",
    "y = np.array([408, 272, 196, 137, 90, 78, 51, 40, 30, 22, 15])"
   ]
  },
  {
   "cell_type": "code",
   "execution_count": 4,
   "id": "9e280448",
   "metadata": {},
   "outputs": [
    {
     "data": {
      "text/plain": [
       "<matplotlib.collections.PathCollection at 0x2249fdfe288>"
      ]
     },
     "execution_count": 4,
     "metadata": {},
     "output_type": "execute_result"
    },
    {
     "data": {
      "image/png": "[encoded data removed]",
      "text/plain": [
       "<Figure size 640x480 with 1 Axes>"
      ]
     },
     "metadata": {},
     "output_type": "display_data"
    }
   ],
   "source": [
    "plt.scatter(x,y)"
   ]
  },
  {
   "cell_type": "markdown",
   "id": "1cda1101",
   "metadata": {},
   "source": [
    "### To Form the normal equations"
   ]
  },
  {
   "cell_type": "markdown",
   "id": "7c009c27",
   "metadata": {},
   "source": [
    "$Linear \\ equation \\ : y = \\beta_0 + \\beta_1 x $"
   ]
  },
  {
   "cell_type": "markdown",
   "id": "dee6c85c",
   "metadata": {},
   "source": [
    "$Normal \\ Equation$\n",
    "$$\\sum y = n \\beta_0 + \\beta_1 \\sum x$$\n",
    "$$\\sum yx = \\beta_0 \\sum x + \\beta_1 \\sum x^2$$"
   ]
  },
  {
   "cell_type": "markdown",
   "id": "b8542b88",
   "metadata": {},
   "source": [
    "$ Where \\ n = number \\ of \\ data \\ points $"
   ]
  },
  {
   "cell_type": "code",
   "execution_count": 5,
   "id": "9f10efc7",
   "metadata": {
    "scrolled": true
   },
   "outputs": [],
   "source": [
    "sum_x = np.sum(x)\n",
    "sum_y =np.sum(y)\n",
    "\n",
    "n = len(x)\n",
    "\n",
    "xy = x*y\n",
    "sum_xy = np.sum(xy)\n",
    "\n",
    "sum_square_x = np.sum(x**2)\n"
   ]
  },
  {
   "cell_type": "code",
   "execution_count": 6,
   "id": "dd709e29",
   "metadata": {},
   "outputs": [
    {
     "name": "stdout",
     "output_type": "stream",
     "text": [
      "Sum X 552\n",
      "Sum Y 1339\n",
      "Length of data 11\n",
      "Sum of X^2 38504\n",
      "Sum of xy 30806\n"
     ]
    }
   ],
   "source": [
    "print('Sum X', sum_x)\n",
    "print('Sum Y', sum_y)\n",
    "print('Length of data',n)\n",
    "print('Sum of X^2',sum_square_x)\n",
    "print('Sum of xy', sum_xy)"
   ]
  },
  {
   "cell_type": "markdown",
   "id": "6d9500dc",
   "metadata": {},
   "source": [
    "$So \\ normal \\ equations \\ are $"
   ]
  },
  {
   "cell_type": "markdown",
   "id": "567301ed",
   "metadata": {},
   "source": [
    "$$ 1339 = 11 \\beta_0 + \\beta_1 552$$\n",
    "$$ 30806 = \\beta_0 552 + \\beta_1 38504$$"
   ]
  },
  {
   "cell_type": "markdown",
   "id": "59fdc25e",
   "metadata": {},
   "source": [
    "#### To solve normal equations"
   ]
  },
  {
   "cell_type": "code",
   "execution_count": 7,
   "id": "44d62467",
   "metadata": {},
   "outputs": [],
   "source": [
    "a = np.array([[11, 552], [552, 38504]]) # Coefficient matrix\n",
    "b = np.array([1339, 30806])             # Constant matrix\n",
    "coefficients = np.linalg.solve(a, b)"
   ]
  },
  {
   "cell_type": "code",
   "execution_count": 8,
   "id": "44ac9102",
   "metadata": {},
   "outputs": [
    {
     "data": {
      "text/plain": [
       "array([290.74338607,  -3.36807472])"
      ]
     },
     "execution_count": 8,
     "metadata": {},
     "output_type": "execute_result"
    }
   ],
   "source": [
    "coefficients"
   ]
  },
  {
   "cell_type": "markdown",
   "id": "f38f9f7c",
   "metadata": {},
   "source": [
    "$So \\ coefficients \\ are \\beta_0 = 290.74338607 and \\beta_1 = -3.36807472$"
   ]
  },
  {
   "cell_type": "code",
   "execution_count": null,
   "id": "a141ad5a",
   "metadata": {},
   "outputs": [],
   "source": []
  },
  {
   "cell_type": "markdown",
   "id": "5bf606a1",
   "metadata": {},
   "source": [
    "Regression line is $$ y = 290.74338607 + (−3.36807472) x$$"
   ]
  },
  {
   "cell_type": "markdown",
   "id": "425474da",
   "metadata": {},
   "source": [
    "#### Predicted y "
   ]
  },
  {
   "cell_type": "code",
   "execution_count": 9,
   "id": "eaa608e3",
   "metadata": {},
   "outputs": [],
   "source": [
    "predicted_y = 290.74338607 - (3.36807472*x) "
   ]
  },
  {
   "cell_type": "code",
   "execution_count": 10,
   "id": "465ffa1e",
   "metadata": {},
   "outputs": [
    {
     "data": {
      "text/plain": [
       "array([284.00723663, 257.06263887, 223.38189167, 189.70114447,\n",
       "       156.02039727, 122.33965007,  88.65890287,  54.97815567,\n",
       "        21.29740847, -12.38333873, -46.06408593])"
      ]
     },
     "execution_count": 10,
     "metadata": {},
     "output_type": "execute_result"
    }
   ],
   "source": [
    "predicted_y"
   ]
  },
  {
   "cell_type": "markdown",
   "id": "34b346fc",
   "metadata": {},
   "source": [
    "#### Error terms"
   ]
  },
  {
   "cell_type": "code",
   "execution_count": 11,
   "id": "6ac1e752",
   "metadata": {},
   "outputs": [
    {
     "data": {
      "text/plain": [
       "array([123.99276337,  14.93736113, -27.38189167, -52.70114447,\n",
       "       -66.02039727, -44.33965007, -37.65890287, -14.97815567,\n",
       "         8.70259153,  34.38333873,  61.06408593])"
      ]
     },
     "execution_count": 11,
     "metadata": {},
     "output_type": "execute_result"
    }
   ],
   "source": [
    "error = y - predicted_y\n",
    "error"
   ]
  },
  {
   "cell_type": "markdown",
   "id": "3632c298",
   "metadata": {},
   "source": [
    "#### Standardized error"
   ]
  },
  {
   "cell_type": "code",
   "execution_count": 12,
   "id": "51e9a55b",
   "metadata": {},
   "outputs": [],
   "source": [
    "standardized_error = (error - np.mean(error))/(np.std(error))"
   ]
  },
  {
   "cell_type": "markdown",
   "id": "f8d6084e",
   "metadata": {},
   "source": [
    "#### Plot of x vs error"
   ]
  },
  {
   "cell_type": "code",
   "execution_count": 13,
   "id": "445d2ab1",
   "metadata": {},
   "outputs": [
    {
     "data": {
      "text/plain": [
       "<matplotlib.collections.PathCollection at 0x2249fcdcb08>"
      ]
     },
     "execution_count": 13,
     "metadata": {},
     "output_type": "execute_result"
    },
    {
     "data": {
      "image/png": "[encoded data removed]",
      "text/plain": [
       "<Figure size 640x480 with 1 Axes>"
      ]
     },
     "metadata": {},
     "output_type": "display_data"
    }
   ],
   "source": [
    "plt.scatter(x,standardized_error)"
   ]
  },
  {
   "cell_type": "markdown",
   "id": "b401d88d",
   "metadata": {},
   "source": [
    "### $R^2 $ Value"
   ]
  },
  {
   "cell_type": "code",
   "execution_count": 14,
   "id": "61d9e6fd",
   "metadata": {},
   "outputs": [],
   "source": [
    "total_variance = np.sum((y-np.mean(y))**2)"
   ]
  },
  {
   "cell_type": "code",
   "execution_count": 15,
   "id": "1573a521",
   "metadata": {},
   "outputs": [],
   "source": [
    "unexplained_variance = np.sum((y -predicted_y)**2) "
   ]
  },
  {
   "cell_type": "code",
   "execution_count": 16,
   "id": "129e8416",
   "metadata": {},
   "outputs": [],
   "source": [
    "proportion_of_unexplained_variance = unexplained_variance/total_variance"
   ]
  },
  {
   "cell_type": "markdown",
   "id": "d5afdddc",
   "metadata": {},
   "source": [
    "$R^2$ is proportion of explained variance"
   ]
  },
  {
   "cell_type": "code",
   "execution_count": 17,
   "id": "7481f763",
   "metadata": {},
   "outputs": [],
   "source": [
    "r_square = 1 - proportion_of_unexplained_variance"
   ]
  },
  {
   "cell_type": "code",
   "execution_count": 18,
   "id": "ddffb432",
   "metadata": {},
   "outputs": [
    {
     "name": "stdout",
     "output_type": "stream",
     "text": [
      "0.7925522314856495\n"
     ]
    }
   ],
   "source": [
    "print(r_square)"
   ]
  },
  {
   "cell_type": "markdown",
   "id": "a3418b45",
   "metadata": {},
   "source": [
    "Scatter plot of x vs standardized error and low $R^2$ shows the linear model $y = \\beta_0 + \\beta_1 x$ is a not a good fit"
   ]
  },
  {
   "cell_type": "markdown",
   "id": "bf47e2cf",
   "metadata": {},
   "source": [
    "## Let us try create a function that do linear reression for a pandas dataframe"
   ]
  },
  {
   "cell_type": "markdown",
   "id": "15992d71",
   "metadata": {},
   "source": [
    "#### The following function gives coefficients of regression and $ R^2 $ value as output"
   ]
  },
  {
   "cell_type": "code",
   "execution_count": 19,
   "id": "080513aa",
   "metadata": {},
   "outputs": [],
   "source": [
    "# Let us combine above codes into a single function"
   ]
  },
  {
   "cell_type": "code",
   "execution_count": 26,
   "id": "135a3ed4",
   "metadata": {},
   "outputs": [],
   "source": [
    "# To fit y = beta_0 + beta_1 x\n",
    "# beta_0 and beta_1 are regression coefficients we need to estimate through the function\n",
    "\n",
    "def LinearRegression(x,y):\n",
    "    \n",
    "    # Ensure x and y are numpy arrays\n",
    "    x = np.array(x)\n",
    "    y = np.array(y)\n",
    "    \n",
    "\n",
    "    \n",
    "    # Constants for normal equation\n",
    "    sum_x = np.sum(x)\n",
    "    sum_y =np.sum(y)\n",
    "\n",
    "    n = len(x)\n",
    "\n",
    "    sum_xy = np.sum(x*y)\n",
    "\n",
    "    sum_x_square = np.sum(x**2)\n",
    "    \n",
    "    # Solving the normal equations to find coefficients\n",
    "    a = np.array([[n, sum_x], [sum_x, sum_x_square]])\n",
    "    b = np.array([sum_y, sum_xy])\n",
    "    coefficients = np.linalg.solve(a, b)  # return in the order intercept and slope\n",
    "    \n",
    "    # Define predicted y\n",
    "    predicted_y =  coefficients[0] +coefficients[1]*x  # line = intercept + slope (x)  i.e, y = beta_0 + beta_1 x\n",
    "    \n",
    "    # Error\n",
    "    error = y - predicted_y\n",
    "    \n",
    "    # To Calculate R^2\n",
    "    total_variance = np.sum((y-np.mean(y))**2)\n",
    "    \n",
    "    unexplained_variance = np.sum((y -predicted_y)**2)\n",
    "    \n",
    "    proportion_of_unexplained_variance = unexplained_variance/total_variance\n",
    "    \n",
    "    r_square = 1 - proportion_of_unexplained_variance\n",
    "    \n",
    "    return coefficients, r_square\n"
   ]
  },
  {
   "cell_type": "code",
   "execution_count": 27,
   "id": "84cabf8b",
   "metadata": {},
   "outputs": [],
   "source": [
    "x = np.array([2, 10, 20, 30, 40, 50, 60, 70, 80, 90, 100])\n",
    "y = np.array([408, 272, 196, 137, 90, 78, 51, 40, 30, 22, 15])"
   ]
  },
  {
   "cell_type": "code",
   "execution_count": 28,
   "id": "2246e54c",
   "metadata": {},
   "outputs": [],
   "source": [
    "coef, square_r = LinearRegression(x,y)"
   ]
  },
  {
   "cell_type": "code",
   "execution_count": 29,
   "id": "de24fabf",
   "metadata": {},
   "outputs": [
    {
     "name": "stdout",
     "output_type": "stream",
     "text": [
      "[290.74338607  -3.36807472]\n",
      "0.7925522314856495\n"
     ]
    }
   ],
   "source": [
    "print(coef)\n",
    "print(square_r)"
   ]
  },
  {
   "cell_type": "code",
   "execution_count": 30,
   "id": "c4f994a1",
   "metadata": {},
   "outputs": [],
   "source": [
    "# New Data\n",
    "X = [132.0,129.0,120.0,113.2,105.0,92.0,84.0,83.2,88.4,59.0,80.0,81.5,71.0,69.2]\n",
    "Y = [46.0,48.0, 51.0,52.1,54.0,52.0,59.0,58.7,61.6,64.0,61.4,54.6,58.8,58.0]"
   ]
  },
  {
   "cell_type": "code",
   "execution_count": 31,
   "id": "e3d88af7",
   "metadata": {},
   "outputs": [],
   "source": [
    "coef, square_r = LinearRegression(X,Y)"
   ]
  },
  {
   "cell_type": "code",
   "execution_count": 32,
   "id": "b344e415",
   "metadata": {},
   "outputs": [
    {
     "name": "stdout",
     "output_type": "stream",
     "text": [
      "[75.21243193 -0.20938742]\n",
      "0.7907602362991257\n"
     ]
    }
   ],
   "source": [
    "print(coef)\n",
    "print(square_r)"
   ]
  },
  {
   "cell_type": "code",
   "execution_count": null,
   "id": "76fee876",
   "metadata": {},
   "outputs": [],
   "source": []
  }
 ],
 "metadata": {
  "kernelspec": {
   "display_name": "Python 3 (ipykernel)",
   "language": "python",
   "name": "python3"
  },
  "language_info": {
   "codemirror_mode": {
    "name": "ipython",
    "version": 3
   },
   "file_extension": ".py",
   "mimetype": "text/x-python",
   "name": "python",
   "nbconvert_exporter": "python",
   "pygments_lexer": "ipython3",
   "version": "3.7.15"
  }
 },
 "nbformat": 4,
 "nbformat_minor": 5
}
