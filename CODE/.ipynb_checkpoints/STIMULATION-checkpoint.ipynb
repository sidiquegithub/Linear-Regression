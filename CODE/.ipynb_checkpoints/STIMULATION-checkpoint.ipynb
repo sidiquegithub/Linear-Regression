{
 "cells": [
  {
   "cell_type": "code",
   "execution_count": 1,
   "id": "f5aa9eab",
   "metadata": {},
   "outputs": [],
   "source": [
    "import pandas as pd\n",
    "import numpy as np\n",
    "import matplotlib.pyplot as plt\n",
    "import seaborn as sns\n",
    "import scipy.stats as st"
   ]
  },
  {
   "cell_type": "markdown",
   "id": "9cfe6e11",
   "metadata": {},
   "source": [
    "The following data is representative of that reported in the\n",
    "article “An Experimental Correlation of Oxides of Nitrogen\n",
    "Emissions from Power Boilers Based on Field Data” (J. of Engr.\n",
    "for Power, July 1973: 165–170), with $x =burner-\\ area \\ liberation \\ rate (MBtu/hr-ft2\n",
    ") $ and $ y = NO_x \\ emission \\ rate \\ (ppm)$ :"
   ]
  },
  {
   "cell_type": "code",
   "execution_count": 2,
   "id": "6eea1b0a",
   "metadata": {},
   "outputs": [],
   "source": [
    "data = {\"X\": [100,125,125,150,150,200,200,250,250,300,300,350,400,400],\n",
    "       \"Y\": [150,140,180,210,190,320,280,400,430,440,390,600,610,670]}"
   ]
  },
  {
   "cell_type": "code",
   "execution_count": 3,
   "id": "cefd2171",
   "metadata": {},
   "outputs": [],
   "source": [
    "df = pd.DataFrame(data= data )"
   ]
  },
  {
   "cell_type": "code",
   "execution_count": 4,
   "id": "7aba1cd1",
   "metadata": {},
   "outputs": [
    {
     "data": {
      "text/html": [
       "<div>\n",
       "<style scoped>\n",
       "    .dataframe tbody tr th:only-of-type {\n",
       "        vertical-align: middle;\n",
       "    }\n",
       "\n",
       "    .dataframe tbody tr th {\n",
       "        vertical-align: top;\n",
       "    }\n",
       "\n",
       "    .dataframe thead th {\n",
       "        text-align: right;\n",
       "    }\n",
       "</style>\n",
       "<table border=\"1\" class=\"dataframe\">\n",
       "  <thead>\n",
       "    <tr style=\"text-align: right;\">\n",
       "      <th></th>\n",
       "      <th>X</th>\n",
       "      <th>Y</th>\n",
       "    </tr>\n",
       "  </thead>\n",
       "  <tbody>\n",
       "    <tr>\n",
       "      <th>0</th>\n",
       "      <td>100</td>\n",
       "      <td>150</td>\n",
       "    </tr>\n",
       "    <tr>\n",
       "      <th>1</th>\n",
       "      <td>125</td>\n",
       "      <td>140</td>\n",
       "    </tr>\n",
       "    <tr>\n",
       "      <th>2</th>\n",
       "      <td>125</td>\n",
       "      <td>180</td>\n",
       "    </tr>\n",
       "    <tr>\n",
       "      <th>3</th>\n",
       "      <td>150</td>\n",
       "      <td>210</td>\n",
       "    </tr>\n",
       "    <tr>\n",
       "      <th>4</th>\n",
       "      <td>150</td>\n",
       "      <td>190</td>\n",
       "    </tr>\n",
       "    <tr>\n",
       "      <th>5</th>\n",
       "      <td>200</td>\n",
       "      <td>320</td>\n",
       "    </tr>\n",
       "    <tr>\n",
       "      <th>6</th>\n",
       "      <td>200</td>\n",
       "      <td>280</td>\n",
       "    </tr>\n",
       "    <tr>\n",
       "      <th>7</th>\n",
       "      <td>250</td>\n",
       "      <td>400</td>\n",
       "    </tr>\n",
       "    <tr>\n",
       "      <th>8</th>\n",
       "      <td>250</td>\n",
       "      <td>430</td>\n",
       "    </tr>\n",
       "    <tr>\n",
       "      <th>9</th>\n",
       "      <td>300</td>\n",
       "      <td>440</td>\n",
       "    </tr>\n",
       "    <tr>\n",
       "      <th>10</th>\n",
       "      <td>300</td>\n",
       "      <td>390</td>\n",
       "    </tr>\n",
       "    <tr>\n",
       "      <th>11</th>\n",
       "      <td>350</td>\n",
       "      <td>600</td>\n",
       "    </tr>\n",
       "    <tr>\n",
       "      <th>12</th>\n",
       "      <td>400</td>\n",
       "      <td>610</td>\n",
       "    </tr>\n",
       "    <tr>\n",
       "      <th>13</th>\n",
       "      <td>400</td>\n",
       "      <td>670</td>\n",
       "    </tr>\n",
       "  </tbody>\n",
       "</table>\n",
       "</div>"
      ],
      "text/plain": [
       "      X    Y\n",
       "0   100  150\n",
       "1   125  140\n",
       "2   125  180\n",
       "3   150  210\n",
       "4   150  190\n",
       "5   200  320\n",
       "6   200  280\n",
       "7   250  400\n",
       "8   250  430\n",
       "9   300  440\n",
       "10  300  390\n",
       "11  350  600\n",
       "12  400  610\n",
       "13  400  670"
      ]
     },
     "execution_count": 4,
     "metadata": {},
     "output_type": "execute_result"
    }
   ],
   "source": [
    "df"
   ]
  },
  {
   "cell_type": "markdown",
   "id": "9eeae45e",
   "metadata": {},
   "source": [
    "#### QUESTIONS 1\n",
    "\n",
    "- Assuming that the simple linear regression model is valid,\n",
    "obtain the least squares estimate of the true regression line.\n",
    "\n",
    "\n",
    "#### QUESTIONS 2\n",
    "- Suppose that the slope and intercepts of true regression lines are $\\beta_1 = 1.70$ and $\\beta_0 = - 50$ with standard deviation $35$. \n",
    "Stimulate 20 intercept and slope by adding  error terms following normal distribution with mean = 0, and standard deviation = 35 to $\\beta_0 + \\beta_1 x$ to obtain 14 corresponding y values. Regression calculations were then carried out to obtain the estimated slope,intercept, and standard deviation. This process was repeated a total of 20 times"
   ]
  },
  {
   "cell_type": "markdown",
   "id": "c7015629",
   "metadata": {},
   "source": [
    "### ANSWERS 1"
   ]
  },
  {
   "cell_type": "markdown",
   "id": "902ce44a",
   "metadata": {},
   "source": [
    "##### LinearRegression Fit"
   ]
  },
  {
   "cell_type": "code",
   "execution_count": 5,
   "id": "815cd6d1",
   "metadata": {},
   "outputs": [],
   "source": [
    "from sklearn.linear_model import LinearRegression\n",
    "regressor = LinearRegression()"
   ]
  },
  {
   "cell_type": "code",
   "execution_count": 6,
   "id": "b2f95443",
   "metadata": {},
   "outputs": [],
   "source": [
    "X = df[\"X\"].values\n",
    "Y = df['Y'].values"
   ]
  },
  {
   "cell_type": "code",
   "execution_count": 7,
   "id": "68cc3c87",
   "metadata": {},
   "outputs": [],
   "source": [
    "X = X.reshape(-1,1)\n",
    "Y = Y.reshape(-1,1)"
   ]
  },
  {
   "cell_type": "code",
   "execution_count": 8,
   "id": "42854e37",
   "metadata": {},
   "outputs": [
    {
     "data": {
      "text/plain": [
       "LinearRegression()"
      ]
     },
     "execution_count": 8,
     "metadata": {},
     "output_type": "execute_result"
    }
   ],
   "source": [
    "regressor.fit(X,Y)"
   ]
  },
  {
   "cell_type": "code",
   "execution_count": 9,
   "id": "2a69975a",
   "metadata": {},
   "outputs": [],
   "source": [
    "slope = regressor.coef_[0]  # Slope of the regression line\n",
    "intercept = regressor.intercept_  # Intercept of the regression line"
   ]
  },
  {
   "cell_type": "code",
   "execution_count": 10,
   "id": "c167622e",
   "metadata": {},
   "outputs": [
    {
     "name": "stdout",
     "output_type": "stream",
     "text": [
      "slope [1.71143233]\n",
      "constant [-45.55190539]\n"
     ]
    }
   ],
   "source": [
    "print('slope',slope)\n",
    "print(\"constant\",intercept)"
   ]
  },
  {
   "cell_type": "markdown",
   "id": "f23a16d4",
   "metadata": {},
   "source": [
    "$So \\ regression \\ line \\ is \\ y = -45.5519 + 1.7114 x$"
   ]
  },
  {
   "cell_type": "markdown",
   "id": "ffe80175",
   "metadata": {},
   "source": [
    "----------"
   ]
  },
  {
   "cell_type": "markdown",
   "id": "ab41d2a5",
   "metadata": {},
   "source": [
    "### ANSWERS 1"
   ]
  },
  {
   "cell_type": "code",
   "execution_count": 11,
   "id": "5219022d",
   "metadata": {},
   "outputs": [],
   "source": [
    "# Creating empty arrays to store slope and intercept values\n",
    "slope_array = np.empty(20)\n",
    "intercept_array = np.empty(20)"
   ]
  },
  {
   "cell_type": "code",
   "execution_count": 12,
   "id": "b78174e7",
   "metadata": {},
   "outputs": [],
   "source": [
    "for i in range(20):\n",
    "    \n",
    "    # To generate 14 random values from the normal distribution\n",
    "    mean = 0\n",
    "    standard_deviation = 35\n",
    "    errors = np.random.normal(mean, standard_deviation, 14)\n",
    "    \n",
    "    # new y values\n",
    "    df['new_y'] = -50 + 1.70*df['X'] + errors\n",
    "\n",
    "    # To fit linear regression model\n",
    "    X = df[\"X\"].values\n",
    "    new_Y = df['new_y'].values \n",
    "\n",
    "    X = X.reshape(-1,1)\n",
    "    Y = Y.reshape(-1,1)\n",
    "\n",
    "    regressor.fit(X,new_Y)\n",
    "    \n",
    "    # slope and intercepts\n",
    "    slope = regressor.coef_[0]  # Slope of the regression line\n",
    "    intercept = regressor.intercept_  # Intercept of the regression line\n",
    "    \n",
    "    # updating array\n",
    "    \n",
    "    slope_array[i] = slope\n",
    "    intercept_array[i] = intercept\n"
   ]
  },
  {
   "cell_type": "code",
   "execution_count": 13,
   "id": "6304c1a3",
   "metadata": {},
   "outputs": [
    {
     "data": {
      "text/plain": [
       "array([1.85374732, 1.72777341, 1.67871496, 1.65356545, 1.80214552,\n",
       "       1.63073305, 1.78056878, 1.62025856, 1.73741312, 1.59547129,\n",
       "       1.76166418, 1.65064076, 1.53048425, 1.79239509, 1.50265149,\n",
       "       1.76093073, 1.68035659, 1.900278  , 1.65157644, 1.69083558])"
      ]
     },
     "execution_count": 13,
     "metadata": {},
     "output_type": "execute_result"
    }
   ],
   "source": [
    "slope_array"
   ]
  },
  {
   "cell_type": "code",
   "execution_count": 14,
   "id": "ac99628b",
   "metadata": {},
   "outputs": [
    {
     "data": {
      "text/plain": [
       "array([-85.06538721, -49.08628248, -51.56691591, -40.09132007,\n",
       "       -78.74245064, -30.60295858, -70.93288567, -32.13843554,\n",
       "       -73.38050293, -29.03663709, -65.40064002, -37.8337495 ,\n",
       "       -19.29246567, -82.76047035,  -7.81565049, -60.54377657,\n",
       "       -51.70014293, -95.94199135, -38.52378446, -37.19327759])"
      ]
     },
     "execution_count": 14,
     "metadata": {},
     "output_type": "execute_result"
    }
   ],
   "source": [
    "intercept_array"
   ]
  },
  {
   "cell_type": "code",
   "execution_count": 15,
   "id": "793a0df5",
   "metadata": {},
   "outputs": [],
   "source": [
    "# DataFrame with Stimulated Slope and Intercept\n",
    "\n",
    "df_2 = pd.DataFrame() #empty data frame\n",
    "df_2['slope'] = slope_array\n",
    "df_2['intercepts'] = intercept_array"
   ]
  },
  {
   "cell_type": "code",
   "execution_count": 17,
   "id": "21cc0e12",
   "metadata": {},
   "outputs": [
    {
     "data": {
      "text/html": [
       "<div>\n",
       "<style scoped>\n",
       "    .dataframe tbody tr th:only-of-type {\n",
       "        vertical-align: middle;\n",
       "    }\n",
       "\n",
       "    .dataframe tbody tr th {\n",
       "        vertical-align: top;\n",
       "    }\n",
       "\n",
       "    .dataframe thead th {\n",
       "        text-align: right;\n",
       "    }\n",
       "</style>\n",
       "<table border=\"1\" class=\"dataframe\">\n",
       "  <thead>\n",
       "    <tr style=\"text-align: right;\">\n",
       "      <th></th>\n",
       "      <th>slope</th>\n",
       "      <th>intercepts</th>\n",
       "    </tr>\n",
       "  </thead>\n",
       "  <tbody>\n",
       "    <tr>\n",
       "      <th>0</th>\n",
       "      <td>1.853747</td>\n",
       "      <td>-85.065387</td>\n",
       "    </tr>\n",
       "    <tr>\n",
       "      <th>1</th>\n",
       "      <td>1.727773</td>\n",
       "      <td>-49.086282</td>\n",
       "    </tr>\n",
       "    <tr>\n",
       "      <th>2</th>\n",
       "      <td>1.678715</td>\n",
       "      <td>-51.566916</td>\n",
       "    </tr>\n",
       "    <tr>\n",
       "      <th>3</th>\n",
       "      <td>1.653565</td>\n",
       "      <td>-40.091320</td>\n",
       "    </tr>\n",
       "    <tr>\n",
       "      <th>4</th>\n",
       "      <td>1.802146</td>\n",
       "      <td>-78.742451</td>\n",
       "    </tr>\n",
       "    <tr>\n",
       "      <th>5</th>\n",
       "      <td>1.630733</td>\n",
       "      <td>-30.602959</td>\n",
       "    </tr>\n",
       "    <tr>\n",
       "      <th>6</th>\n",
       "      <td>1.780569</td>\n",
       "      <td>-70.932886</td>\n",
       "    </tr>\n",
       "    <tr>\n",
       "      <th>7</th>\n",
       "      <td>1.620259</td>\n",
       "      <td>-32.138436</td>\n",
       "    </tr>\n",
       "    <tr>\n",
       "      <th>8</th>\n",
       "      <td>1.737413</td>\n",
       "      <td>-73.380503</td>\n",
       "    </tr>\n",
       "    <tr>\n",
       "      <th>9</th>\n",
       "      <td>1.595471</td>\n",
       "      <td>-29.036637</td>\n",
       "    </tr>\n",
       "    <tr>\n",
       "      <th>10</th>\n",
       "      <td>1.761664</td>\n",
       "      <td>-65.400640</td>\n",
       "    </tr>\n",
       "    <tr>\n",
       "      <th>11</th>\n",
       "      <td>1.650641</td>\n",
       "      <td>-37.833749</td>\n",
       "    </tr>\n",
       "    <tr>\n",
       "      <th>12</th>\n",
       "      <td>1.530484</td>\n",
       "      <td>-19.292466</td>\n",
       "    </tr>\n",
       "    <tr>\n",
       "      <th>13</th>\n",
       "      <td>1.792395</td>\n",
       "      <td>-82.760470</td>\n",
       "    </tr>\n",
       "    <tr>\n",
       "      <th>14</th>\n",
       "      <td>1.502651</td>\n",
       "      <td>-7.815650</td>\n",
       "    </tr>\n",
       "    <tr>\n",
       "      <th>15</th>\n",
       "      <td>1.760931</td>\n",
       "      <td>-60.543777</td>\n",
       "    </tr>\n",
       "    <tr>\n",
       "      <th>16</th>\n",
       "      <td>1.680357</td>\n",
       "      <td>-51.700143</td>\n",
       "    </tr>\n",
       "    <tr>\n",
       "      <th>17</th>\n",
       "      <td>1.900278</td>\n",
       "      <td>-95.941991</td>\n",
       "    </tr>\n",
       "    <tr>\n",
       "      <th>18</th>\n",
       "      <td>1.651576</td>\n",
       "      <td>-38.523784</td>\n",
       "    </tr>\n",
       "    <tr>\n",
       "      <th>19</th>\n",
       "      <td>1.690836</td>\n",
       "      <td>-37.193278</td>\n",
       "    </tr>\n",
       "  </tbody>\n",
       "</table>\n",
       "</div>"
      ],
      "text/plain": [
       "       slope  intercepts\n",
       "0   1.853747  -85.065387\n",
       "1   1.727773  -49.086282\n",
       "2   1.678715  -51.566916\n",
       "3   1.653565  -40.091320\n",
       "4   1.802146  -78.742451\n",
       "5   1.630733  -30.602959\n",
       "6   1.780569  -70.932886\n",
       "7   1.620259  -32.138436\n",
       "8   1.737413  -73.380503\n",
       "9   1.595471  -29.036637\n",
       "10  1.761664  -65.400640\n",
       "11  1.650641  -37.833749\n",
       "12  1.530484  -19.292466\n",
       "13  1.792395  -82.760470\n",
       "14  1.502651   -7.815650\n",
       "15  1.760931  -60.543777\n",
       "16  1.680357  -51.700143\n",
       "17  1.900278  -95.941991\n",
       "18  1.651576  -38.523784\n",
       "19  1.690836  -37.193278"
      ]
     },
     "execution_count": 17,
     "metadata": {},
     "output_type": "execute_result"
    }
   ],
   "source": [
    "df_2"
   ]
  },
  {
   "cell_type": "code",
   "execution_count": 23,
   "id": "c2b44408",
   "metadata": {},
   "outputs": [],
   "source": [
    "# Lines with stimulated slope and intercept"
   ]
  },
  {
   "cell_type": "code",
   "execution_count": 22,
   "id": "cae44bfb",
   "metadata": {},
   "outputs": [
    {
     "data": {
      "image/png": "[encoded data removed]",
      "text/plain": [
       "<Figure size 600x400 with 1 Axes>"
      ]
     },
     "metadata": {},
     "output_type": "display_data"
    }
   ],
   "source": [
    "\n",
    "plt.figure(figsize=(6,4))\n",
    "\n",
    "for i in range(20):\n",
    "\n",
    "    y = intercept_array[i] + slope_array[i]*df[\"X\"]\n",
    "\n",
    "    # Plot the data\n",
    "    sns.lineplot(x=df['X'], y=y)\n",
    "    \n",
    "plt.show()"
   ]
  },
  {
   "cell_type": "code",
   "execution_count": null,
   "id": "dbbdc084",
   "metadata": {},
   "outputs": [],
   "source": []
  }
 ],
 "metadata": {
  "kernelspec": {
   "display_name": "Python 3 (ipykernel)",
   "language": "python",
   "name": "python3"
  },
  "language_info": {
   "codemirror_mode": {
    "name": "ipython",
    "version": 3
   },
   "file_extension": ".py",
   "mimetype": "text/x-python",
   "name": "python",
   "nbconvert_exporter": "python",
   "pygments_lexer": "ipython3",
   "version": "3.7.15"
  }
 },
 "nbformat": 4,
 "nbformat_minor": 5
}
